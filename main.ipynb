{
 "cells": [
  {
   "cell_type": "code",
   "execution_count": 23,
   "metadata": {},
   "outputs": [
    {
     "name": "stdout",
     "output_type": "stream",
     "text": [
      "Collecting python-dotenv\n",
      "  Using cached python_dotenv-1.0.0-py3-none-any.whl (19 kB)\n",
      "Installing collected packages: python-dotenv\n",
      "Successfully installed python-dotenv-1.0.0\n"
     ]
    },
    {
     "name": "stderr",
     "output_type": "stream",
     "text": [
      "\n",
      "[notice] A new release of pip is available: 23.2.1 -> 23.3.1\n",
      "[notice] To update, run: python.exe -m pip install --upgrade pip\n"
     ]
    }
   ],
   "source": [
    "# ! pip install -r requirements.txt\n",
    "# ! pip install python-dotenv"
   ]
  },
  {
   "cell_type": "code",
   "execution_count": 42,
   "metadata": {},
   "outputs": [
    {
     "data": {
      "text/plain": [
       "True"
      ]
     },
     "execution_count": 42,
     "metadata": {},
     "output_type": "execute_result"
    }
   ],
   "source": [
    "import numpy as np\n",
    "import matplotlib.pyplot as plt\n",
    "import pandas as pd\n",
    "import seaborn as sns\n",
    "import tensorflow as tf\n",
    "from tensorflow import keras\n",
    "import gspread\n",
    "from oauth2client.service_account import ServiceAccountCredentials\n",
    "import os\n",
    "from dotenv import load_dotenv\n",
    "load_dotenv()"
   ]
  },
  {
   "cell_type": "code",
   "execution_count": 45,
   "metadata": {},
   "outputs": [],
   "source": [
    "FILEPATH = os.getenv(\"FILEPATH\")\n",
    "URL = os.getenv(\"URL\")"
   ]
  },
  {
   "cell_type": "code",
   "execution_count": 46,
   "metadata": {},
   "outputs": [],
   "source": [
    "def read_data(path, url):\n",
    "    scope = ['https://www.googleapis.com/auth/spreadsheets', 'https://www.googleapis.com/auth/drive']\n",
    "    creds = ServiceAccountCredentials.from_json_keyfile_name(path, scope)\n",
    "    client = gspread.authorize(creds)\n",
    "    sheet_url = url\n",
    "    sheet = client.open_by_url(sheet_url)\n",
    "    worksheet = sheet.get_worksheet(2) \n",
    "    data = worksheet.get_all_values()\n",
    "    return pd.DataFrame(data[1:], columns=data[0])\n",
    "    "
   ]
  },
  {
   "cell_type": "code",
   "execution_count": 47,
   "metadata": {},
   "outputs": [
    {
     "name": "stderr",
     "output_type": "stream",
     "text": [
      "C:\\Users\\Vardan\\AppData\\Local\\Temp\\ipykernel_3664\\724327505.py:1: DeprecationWarning: [Deprecated][in version 6.0.0]: client_factory will be replaced by gspread.http_client types\n",
      "  data = read_data(FILEPATH,URL)\n"
     ]
    }
   ],
   "source": [
    "data = read_data(FILEPATH,URL)"
   ]
  },
  {
   "cell_type": "code",
   "execution_count": 49,
   "metadata": {},
   "outputs": [
    {
     "data": {
      "text/html": [
       "<div>\n",
       "<style scoped>\n",
       "    .dataframe tbody tr th:only-of-type {\n",
       "        vertical-align: middle;\n",
       "    }\n",
       "\n",
       "    .dataframe tbody tr th {\n",
       "        vertical-align: top;\n",
       "    }\n",
       "\n",
       "    .dataframe thead th {\n",
       "        text-align: right;\n",
       "    }\n",
       "</style>\n",
       "<table border=\"1\" class=\"dataframe\">\n",
       "  <thead>\n",
       "    <tr style=\"text-align: right;\">\n",
       "      <th></th>\n",
       "      <th>Spindle Speed</th>\n",
       "      <th>Feed (mm/min)</th>\n",
       "      <th>Tool Dia. (mm)</th>\n",
       "      <th>Depth of Cut (mm)</th>\n",
       "      <th>Length of Cut (mm)</th>\n",
       "      <th>Length of cut actual(mm)</th>\n",
       "      <th>Width of Cut(mm)</th>\n",
       "      <th>Actual Width(mm)</th>\n",
       "      <th>Wi</th>\n",
       "      <th>Wf</th>\n",
       "      <th>delta W</th>\n",
       "      <th>Time (s)</th>\n",
       "    </tr>\n",
       "  </thead>\n",
       "  <tbody>\n",
       "    <tr>\n",
       "      <th>0</th>\n",
       "      <td>3000</td>\n",
       "      <td>10</td>\n",
       "      <td>2</td>\n",
       "      <td>0.3</td>\n",
       "      <td>12</td>\n",
       "      <td></td>\n",
       "      <td>2</td>\n",
       "      <td></td>\n",
       "      <td>49.3753</td>\n",
       "      <td>49.3694</td>\n",
       "      <td>0.0059</td>\n",
       "      <td>121.35</td>\n",
       "    </tr>\n",
       "    <tr>\n",
       "      <th>1</th>\n",
       "      <td>3000</td>\n",
       "      <td>15</td>\n",
       "      <td>2</td>\n",
       "      <td>0.3</td>\n",
       "      <td>12</td>\n",
       "      <td></td>\n",
       "      <td>2</td>\n",
       "      <td></td>\n",
       "      <td>49.3694</td>\n",
       "      <td>49.3682</td>\n",
       "      <td>0.0012</td>\n",
       "      <td>81.2</td>\n",
       "    </tr>\n",
       "    <tr>\n",
       "      <th>2</th>\n",
       "      <td>3000</td>\n",
       "      <td>20</td>\n",
       "      <td>2</td>\n",
       "      <td>0.3</td>\n",
       "      <td>12</td>\n",
       "      <td></td>\n",
       "      <td>2</td>\n",
       "      <td></td>\n",
       "      <td>49.3682</td>\n",
       "      <td>49.3659</td>\n",
       "      <td>0.0023</td>\n",
       "      <td>63.13</td>\n",
       "    </tr>\n",
       "    <tr>\n",
       "      <th>3</th>\n",
       "      <td>4000</td>\n",
       "      <td>10</td>\n",
       "      <td>2</td>\n",
       "      <td>0.3</td>\n",
       "      <td>12</td>\n",
       "      <td></td>\n",
       "      <td>2</td>\n",
       "      <td></td>\n",
       "      <td></td>\n",
       "      <td></td>\n",
       "      <td></td>\n",
       "      <td></td>\n",
       "    </tr>\n",
       "    <tr>\n",
       "      <th>4</th>\n",
       "      <td>4000</td>\n",
       "      <td>15</td>\n",
       "      <td>2</td>\n",
       "      <td>0.3</td>\n",
       "      <td>12</td>\n",
       "      <td></td>\n",
       "      <td>2</td>\n",
       "      <td></td>\n",
       "      <td></td>\n",
       "      <td></td>\n",
       "      <td></td>\n",
       "      <td></td>\n",
       "    </tr>\n",
       "  </tbody>\n",
       "</table>\n",
       "</div>"
      ],
      "text/plain": [
       "  Spindle Speed Feed (mm/min) Tool Dia. (mm) Depth of Cut (mm)  \\\n",
       "0          3000            10              2               0.3   \n",
       "1          3000            15              2               0.3   \n",
       "2          3000            20              2               0.3   \n",
       "3          4000            10              2               0.3   \n",
       "4          4000            15              2               0.3   \n",
       "\n",
       "  Length of Cut (mm) Length of cut actual(mm) Width of Cut(mm)  \\\n",
       "0                 12                                         2   \n",
       "1                 12                                         2   \n",
       "2                 12                                         2   \n",
       "3                 12                                         2   \n",
       "4                 12                                         2   \n",
       "\n",
       "  Actual Width(mm)       Wi       Wf delta W Time (s)  \n",
       "0                   49.3753  49.3694  0.0059   121.35  \n",
       "1                   49.3694  49.3682  0.0012     81.2  \n",
       "2                   49.3682  49.3659  0.0023    63.13  \n",
       "3                                                      \n",
       "4                                                      "
      ]
     },
     "execution_count": 49,
     "metadata": {},
     "output_type": "execute_result"
    }
   ],
   "source": [
    "data.head()"
   ]
  },
  {
   "cell_type": "code",
   "execution_count": null,
   "metadata": {},
   "outputs": [],
   "source": []
  }
 ],
 "metadata": {
  "kernelspec": {
   "display_name": ".venv",
   "language": "python",
   "name": "python3"
  },
  "language_info": {
   "codemirror_mode": {
    "name": "ipython",
    "version": 3
   },
   "file_extension": ".py",
   "mimetype": "text/x-python",
   "name": "python",
   "nbconvert_exporter": "python",
   "pygments_lexer": "ipython3",
   "version": "3.11.5"
  }
 },
 "nbformat": 4,
 "nbformat_minor": 2
}
