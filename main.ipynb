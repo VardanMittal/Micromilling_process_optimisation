{
 "cells": [
  {
   "cell_type": "markdown",
   "metadata": {},
   "source": [
    "# Process Parameter Optimization"
   ]
  },
  {
   "cell_type": "code",
   "execution_count": 1,
   "metadata": {},
   "outputs": [],
   "source": [
    "# ! pip install -r requirements.txt"
   ]
  },
  {
   "cell_type": "markdown",
   "metadata": {},
   "source": [
    "## Libraries"
   ]
  },
  {
   "cell_type": "code",
   "execution_count": 2,
   "metadata": {},
   "outputs": [
    {
     "name": "stdout",
     "output_type": "stream",
     "text": [
      "WARNING:tensorflow:From f:\\Projects\\Micromilling_process_optimisation\\.venv\\Lib\\site-packages\\keras\\src\\losses.py:2976: The name tf.losses.sparse_softmax_cross_entropy is deprecated. Please use tf.compat.v1.losses.sparse_softmax_cross_entropy instead.\n",
      "\n"
     ]
    },
    {
     "data": {
      "text/plain": [
       "True"
      ]
     },
     "execution_count": 2,
     "metadata": {},
     "output_type": "execute_result"
    }
   ],
   "source": [
    "import numpy as np\n",
    "import matplotlib.pyplot as plt\n",
    "import pandas as pd\n",
    "import seaborn as sns\n",
    "import tensorflow as tf\n",
    "from tensorflow import keras\n",
    "import gspread\n",
    "from oauth2client.service_account import ServiceAccountCredentials\n",
    "import os\n",
    "from dotenv import load_dotenv\n",
    "load_dotenv()"
   ]
  },
  {
   "cell_type": "code",
   "execution_count": 3,
   "metadata": {},
   "outputs": [],
   "source": [
    "FILEPATH = os.getenv(\"FILEPATH\")\n",
    "URL = os.getenv(\"URL\")"
   ]
  },
  {
   "cell_type": "code",
   "execution_count": 4,
   "metadata": {},
   "outputs": [
    {
     "name": "stdout",
     "output_type": "stream",
     "text": [
      "./credentials/empyrean-maxim-406006-63f920d838bd.json\n"
     ]
    }
   ],
   "source": [
    "print(FILEPATH)"
   ]
  },
  {
   "cell_type": "code",
   "execution_count": 5,
   "metadata": {},
   "outputs": [],
   "source": [
    "def read_data(path, url):\n",
    "    scope = ['https://www.googleapis.com/auth/spreadsheets', 'https://www.googleapis.com/auth/drive']\n",
    "    creds = ServiceAccountCredentials.from_json_keyfile_name(path, scope)\n",
    "    client = gspread.authorize(creds)\n",
    "    sheet_url = url\n",
    "    sheet = client.open_by_url(sheet_url)\n",
    "    worksheet = sheet.get_worksheet(2) \n",
    "    data = worksheet.get_all_values()\n",
    "    return pd.DataFrame(data[1:], columns=data[0])\n"
   ]
  },
  {
   "cell_type": "code",
   "execution_count": 6,
   "metadata": {},
   "outputs": [
    {
     "name": "stderr",
     "output_type": "stream",
     "text": [
      "C:\\Users\\Vardan\\AppData\\Local\\Temp\\ipykernel_12984\\724327505.py:1: DeprecationWarning: [Deprecated][in version 6.0.0]: client_factory will be replaced by gspread.http_client types\n",
      "  data = read_data(FILEPATH,URL)\n"
     ]
    }
   ],
   "source": [
    "data = read_data(FILEPATH,URL)"
   ]
  },
  {
   "cell_type": "markdown",
   "metadata": {},
   "source": [
    "## Data Analysis"
   ]
  },
  {
   "cell_type": "code",
   "execution_count": 7,
   "metadata": {},
   "outputs": [
    {
     "name": "stdout",
     "output_type": "stream",
     "text": [
      "<class 'pandas.core.frame.DataFrame'>\n",
      "RangeIndex: 108 entries, 0 to 107\n",
      "Data columns (total 18 columns):\n",
      " #   Column                    Non-Null Count  Dtype \n",
      "---  ------                    --------------  ----- \n",
      " 0   Spindle Speed             108 non-null    object\n",
      " 1   Feed (mm/min)             108 non-null    object\n",
      " 2   Tool Dia. (mm)            108 non-null    object\n",
      " 3   Depth of Cut (mm)         108 non-null    object\n",
      " 4   Length of Cut (mm)        108 non-null    object\n",
      " 5   Length of cut actual(mm)  108 non-null    object\n",
      " 6   Width of Cut(mm)          108 non-null    object\n",
      " 7   Actual Width(mm)          108 non-null    object\n",
      " 8   Wi                        108 non-null    object\n",
      " 9   Wf                        108 non-null    object\n",
      " 10  delta Weight              108 non-null    object\n",
      " 11  Time (sec)                108 non-null    object\n",
      " 12  Time (min)                108 non-null    object\n",
      " 13  MRR ideal                 108 non-null    object\n",
      " 14  MRR actual                108 non-null    object\n",
      " 15  Density(g/mm3)            108 non-null    object\n",
      " 16  Delta L                   108 non-null    object\n",
      " 17  Delta W                   108 non-null    object\n",
      "dtypes: object(18)\n",
      "memory usage: 15.3+ KB\n"
     ]
    }
   ],
   "source": [
    "data.info()"
   ]
  },
  {
   "cell_type": "code",
   "execution_count": 8,
   "metadata": {},
   "outputs": [],
   "source": [
    "data = data.drop([\"Density(g/mm3)\", \"Time (min)\", \"Time (sec)\", \"Depth of Cut (mm)\", \"Length of Cut (mm)\",\"Length of cut actual(mm)\", \"Width of Cut(mm)\", \"Actual Width(mm)\" ], axis=1)\n",
    "data = data.astype(\"float\")"
   ]
  },
  {
   "cell_type": "code",
   "execution_count": 9,
   "metadata": {},
   "outputs": [
    {
     "data": {
      "text/html": [
       "<div>\n",
       "<style scoped>\n",
       "    .dataframe tbody tr th:only-of-type {\n",
       "        vertical-align: middle;\n",
       "    }\n",
       "\n",
       "    .dataframe tbody tr th {\n",
       "        vertical-align: top;\n",
       "    }\n",
       "\n",
       "    .dataframe thead th {\n",
       "        text-align: right;\n",
       "    }\n",
       "</style>\n",
       "<table border=\"1\" class=\"dataframe\">\n",
       "  <thead>\n",
       "    <tr style=\"text-align: right;\">\n",
       "      <th></th>\n",
       "      <th>Spindle Speed</th>\n",
       "      <th>Feed (mm/min)</th>\n",
       "      <th>Tool Dia. (mm)</th>\n",
       "      <th>Wi</th>\n",
       "      <th>Wf</th>\n",
       "      <th>delta Weight</th>\n",
       "      <th>MRR ideal</th>\n",
       "      <th>MRR actual</th>\n",
       "      <th>Delta L</th>\n",
       "      <th>Delta W</th>\n",
       "    </tr>\n",
       "  </thead>\n",
       "  <tbody>\n",
       "    <tr>\n",
       "      <th>0</th>\n",
       "      <td>3000.0</td>\n",
       "      <td>10.0</td>\n",
       "      <td>1.0</td>\n",
       "      <td>49.3753</td>\n",
       "      <td>49.3694</td>\n",
       "      <td>0.0059</td>\n",
       "      <td>3.0</td>\n",
       "      <td>1.076451</td>\n",
       "      <td>0.0480</td>\n",
       "      <td>0.18700</td>\n",
       "    </tr>\n",
       "    <tr>\n",
       "      <th>1</th>\n",
       "      <td>3000.0</td>\n",
       "      <td>15.0</td>\n",
       "      <td>1.0</td>\n",
       "      <td>49.3694</td>\n",
       "      <td>49.3682</td>\n",
       "      <td>0.0012</td>\n",
       "      <td>4.5</td>\n",
       "      <td>0.327195</td>\n",
       "      <td>0.0640</td>\n",
       "      <td>0.00200</td>\n",
       "    </tr>\n",
       "    <tr>\n",
       "      <th>2</th>\n",
       "      <td>3000.0</td>\n",
       "      <td>20.0</td>\n",
       "      <td>1.0</td>\n",
       "      <td>49.3682</td>\n",
       "      <td>49.3659</td>\n",
       "      <td>0.0023</td>\n",
       "      <td>6.0</td>\n",
       "      <td>0.806629</td>\n",
       "      <td>0.0500</td>\n",
       "      <td>0.14500</td>\n",
       "    </tr>\n",
       "    <tr>\n",
       "      <th>3</th>\n",
       "      <td>3250.0</td>\n",
       "      <td>10.0</td>\n",
       "      <td>1.0</td>\n",
       "      <td>49.3659</td>\n",
       "      <td>49.3635</td>\n",
       "      <td>0.0024</td>\n",
       "      <td>3.0</td>\n",
       "      <td>1.007537</td>\n",
       "      <td>0.0565</td>\n",
       "      <td>0.14425</td>\n",
       "    </tr>\n",
       "    <tr>\n",
       "      <th>4</th>\n",
       "      <td>3250.0</td>\n",
       "      <td>15.0</td>\n",
       "      <td>1.0</td>\n",
       "      <td>49.3635</td>\n",
       "      <td>49.3617</td>\n",
       "      <td>0.0018</td>\n",
       "      <td>4.5</td>\n",
       "      <td>0.553689</td>\n",
       "      <td>0.0605</td>\n",
       "      <td>0.08075</td>\n",
       "    </tr>\n",
       "  </tbody>\n",
       "</table>\n",
       "</div>"
      ],
      "text/plain": [
       "   Spindle Speed  Feed (mm/min)  Tool Dia. (mm)       Wi       Wf  \\\n",
       "0         3000.0           10.0             1.0  49.3753  49.3694   \n",
       "1         3000.0           15.0             1.0  49.3694  49.3682   \n",
       "2         3000.0           20.0             1.0  49.3682  49.3659   \n",
       "3         3250.0           10.0             1.0  49.3659  49.3635   \n",
       "4         3250.0           15.0             1.0  49.3635  49.3617   \n",
       "\n",
       "   delta Weight  MRR ideal  MRR actual  Delta L  Delta W  \n",
       "0        0.0059        3.0    1.076451   0.0480  0.18700  \n",
       "1        0.0012        4.5    0.327195   0.0640  0.00200  \n",
       "2        0.0023        6.0    0.806629   0.0500  0.14500  \n",
       "3        0.0024        3.0    1.007537   0.0565  0.14425  \n",
       "4        0.0018        4.5    0.553689   0.0605  0.08075  "
      ]
     },
     "execution_count": 9,
     "metadata": {},
     "output_type": "execute_result"
    }
   ],
   "source": [
    "data.head()"
   ]
  },
  {
   "cell_type": "code",
   "execution_count": 10,
   "metadata": {},
   "outputs": [
    {
     "name": "stdout",
     "output_type": "stream",
     "text": [
      "<class 'pandas.core.frame.DataFrame'>\n",
      "RangeIndex: 108 entries, 0 to 107\n",
      "Data columns (total 10 columns):\n",
      " #   Column          Non-Null Count  Dtype  \n",
      "---  ------          --------------  -----  \n",
      " 0   Spindle Speed   108 non-null    float64\n",
      " 1   Feed (mm/min)   108 non-null    float64\n",
      " 2   Tool Dia. (mm)  108 non-null    float64\n",
      " 3   Wi              108 non-null    float64\n",
      " 4   Wf              108 non-null    float64\n",
      " 5   delta Weight    108 non-null    float64\n",
      " 6   MRR ideal       108 non-null    float64\n",
      " 7   MRR actual      108 non-null    float64\n",
      " 8   Delta L         108 non-null    float64\n",
      " 9   Delta W         108 non-null    float64\n",
      "dtypes: float64(10)\n",
      "memory usage: 8.6 KB\n"
     ]
    }
   ],
   "source": [
    "data.info()"
   ]
  },
  {
   "cell_type": "code",
   "execution_count": 11,
   "metadata": {},
   "outputs": [
    {
     "data": {
      "text/plain": [
       "array([[<Axes: title={'center': 'Spindle Speed'}>,\n",
       "        <Axes: title={'center': 'Feed (mm/min)'}>,\n",
       "        <Axes: title={'center': 'Tool Dia. (mm)'}>],\n",
       "       [<Axes: title={'center': 'Wi'}>, <Axes: title={'center': 'Wf'}>,\n",
       "        <Axes: title={'center': 'delta Weight'}>],\n",
       "       [<Axes: title={'center': 'MRR ideal'}>,\n",
       "        <Axes: title={'center': 'MRR actual'}>,\n",
       "        <Axes: title={'center': 'Delta L'}>],\n",
       "       [<Axes: title={'center': 'Delta W'}>, <Axes: >, <Axes: >]],\n",
       "      dtype=object)"
      ]
     },
     "execution_count": 11,
     "metadata": {},
     "output_type": "execute_result"
    },
    {
     "data": {
      "image/png": "[encoded data removed]",
      "text/plain": [
       "<Figure size 1200x1200 with 12 Axes>"
      ]
     },
     "metadata": {},
     "output_type": "display_data"
    }
   ],
   "source": [
    "data.hist(figsize=(12,12))"
   ]
  },
  {
   "cell_type": "code",
   "execution_count": 12,
   "metadata": {},
   "outputs": [
    {
     "data": {
      "text/plain": [
       "Wi               -2.316687e-01\n",
       "Wf               -2.288657e-01\n",
       "delta Weight     -5.537949e-03\n",
       "Tool Dia. (mm)   -2.481599e-16\n",
       "MRR ideal        -1.984575e-16\n",
       "Feed (mm/min)    -1.086517e-16\n",
       "MRR actual        9.541056e-02\n",
       "Delta W           1.562890e-01\n",
       "Delta L           2.144670e-01\n",
       "Spindle Speed     1.000000e+00\n",
       "Name: Spindle Speed, dtype: float64"
      ]
     },
     "execution_count": 12,
     "metadata": {},
     "output_type": "execute_result"
    }
   ],
   "source": [
    "data.corr()[\"Spindle Speed\"].sort_values()"
   ]
  },
  {
   "cell_type": "code",
   "execution_count": 13,
   "metadata": {},
   "outputs": [
    {
     "data": {
      "text/plain": [
       "Delta L          -9.533012e-02\n",
       "delta Weight     -5.602127e-02\n",
       "Wi               -2.463229e-02\n",
       "Wf               -2.341556e-02\n",
       "Delta W          -1.963717e-02\n",
       "Spindle Speed    -1.086517e-16\n",
       "Tool Dia. (mm)   -3.840069e-17\n",
       "MRR actual        3.685047e-01\n",
       "MRR ideal         5.573312e-01\n",
       "Feed (mm/min)     1.000000e+00\n",
       "Name: Feed (mm/min), dtype: float64"
      ]
     },
     "execution_count": 13,
     "metadata": {},
     "output_type": "execute_result"
    }
   ],
   "source": [
    "data.corr()[\"Feed (mm/min)\"].sort_values()"
   ]
  },
  {
   "cell_type": "code",
   "execution_count": 14,
   "metadata": {},
   "outputs": [
    {
     "data": {
      "text/plain": [
       "array([[<Axes: xlabel='Delta W', ylabel='Feed (mm/min)'>,\n",
       "        <Axes: xlabel='Delta L', ylabel='Feed (mm/min)'>,\n",
       "        <Axes: xlabel='Feed (mm/min)', ylabel='Feed (mm/min)'>,\n",
       "        <Axes: xlabel='Spindle Speed', ylabel='Feed (mm/min)'>],\n",
       "       [<Axes: xlabel='Delta W', ylabel='Spindle Speed'>,\n",
       "        <Axes: xlabel='Delta L', ylabel='Spindle Speed'>,\n",
       "        <Axes: xlabel='Feed (mm/min)', ylabel='Spindle Speed'>,\n",
       "        <Axes: xlabel='Spindle Speed', ylabel='Spindle Speed'>]],\n",
       "      dtype=object)"
      ]
     },
     "execution_count": 14,
     "metadata": {},
     "output_type": "execute_result"
    },
    {
     "data": {
      "image/png": "[encoded data removed]",
      "text/plain": [
       "<Figure size 1200x800 with 16 Axes>"
      ]
     },
     "metadata": {},
     "output_type": "display_data"
    }
   ],
   "source": [
    "from pandas.plotting import scatter_matrix\n",
    "attributes=[\"Delta W\", \"Delta L\", \"Feed (mm/min)\", \"Spindle Speed\"]\n",
    "scatter_matrix(data[attributes], figsize=(12, 8))[2:]"
   ]
  },
  {
   "cell_type": "markdown",
   "metadata": {},
   "source": [
    "## Data Preprocessing"
   ]
  },
  {
   "cell_type": "code",
   "execution_count": 15,
   "metadata": {},
   "outputs": [],
   "source": [
    "from sklearn.preprocessing import StandardScaler\n",
    "from sklearn.model_selection import train_test_split\n",
    "from sklearn.pipeline import Pipeline\n",
    "train_set, test_set = train_test_split(data, test_size=0.2, random_state=32)"
   ]
  },
  {
   "cell_type": "code",
   "execution_count": 16,
   "metadata": {},
   "outputs": [],
   "source": [
    "X_train = train_set.drop([\"Spindle Speed\", \"Feed (mm/min)\"], axis = 1)\n",
    "y_train=pd.concat([train_set[\"Spindle Speed\"], train_set[\"Feed (mm/min)\"]], axis=1)"
   ]
  },
  {
   "cell_type": "code",
   "execution_count": 17,
   "metadata": {},
   "outputs": [],
   "source": [
    "features_name = X_train.columns\n",
    "target_name = y_train.columns"
   ]
  },
  {
   "cell_type": "markdown",
   "metadata": {},
   "source": [
    "## Model Selection"
   ]
  },
  {
   "cell_type": "markdown",
   "metadata": {},
   "source": [
    "### 1. Linear Regression"
   ]
  },
  {
   "cell_type": "code",
   "execution_count": 18,
   "metadata": {},
   "outputs": [],
   "source": [
    "from sklearn.linear_model import LinearRegression"
   ]
  },
  {
   "cell_type": "code",
   "execution_count": 19,
   "metadata": {},
   "outputs": [
    {
     "data": {
      "text/html": [
       "<div>\n",
       "<style scoped>\n",
       "    .dataframe tbody tr th:only-of-type {\n",
       "        vertical-align: middle;\n",
       "    }\n",
       "\n",
       "    .dataframe tbody tr th {\n",
       "        vertical-align: top;\n",
       "    }\n",
       "\n",
       "    .dataframe thead th {\n",
       "        text-align: right;\n",
       "    }\n",
       "</style>\n",
       "<table border=\"1\" class=\"dataframe\">\n",
       "  <thead>\n",
       "    <tr style=\"text-align: right;\">\n",
       "      <th></th>\n",
       "      <th>Tool Dia. (mm)</th>\n",
       "      <th>Wi</th>\n",
       "      <th>Wf</th>\n",
       "      <th>delta Weight</th>\n",
       "      <th>MRR ideal</th>\n",
       "      <th>MRR actual</th>\n",
       "      <th>Delta L</th>\n",
       "      <th>Delta W</th>\n",
       "    </tr>\n",
       "  </thead>\n",
       "  <tbody>\n",
       "    <tr>\n",
       "      <th>86</th>\n",
       "      <td>2.0</td>\n",
       "      <td>47.7829</td>\n",
       "      <td>47.7544</td>\n",
       "      <td>0.0285</td>\n",
       "      <td>20.0</td>\n",
       "      <td>10.292861</td>\n",
       "      <td>0.1645</td>\n",
       "      <td>0.02850</td>\n",
       "    </tr>\n",
       "    <tr>\n",
       "      <th>63</th>\n",
       "      <td>3.0</td>\n",
       "      <td>48.3988</td>\n",
       "      <td>48.3622</td>\n",
       "      <td>0.0366</td>\n",
       "      <td>9.0</td>\n",
       "      <td>7.071112</td>\n",
       "      <td>0.3280</td>\n",
       "      <td>0.11200</td>\n",
       "    </tr>\n",
       "    <tr>\n",
       "      <th>39</th>\n",
       "      <td>2.0</td>\n",
       "      <td>49.0267</td>\n",
       "      <td>49.0095</td>\n",
       "      <td>0.0172</td>\n",
       "      <td>6.0</td>\n",
       "      <td>3.296042</td>\n",
       "      <td>0.1210</td>\n",
       "      <td>0.22700</td>\n",
       "    </tr>\n",
       "    <tr>\n",
       "      <th>32</th>\n",
       "      <td>2.0</td>\n",
       "      <td>49.1434</td>\n",
       "      <td>49.1284</td>\n",
       "      <td>0.0150</td>\n",
       "      <td>12.0</td>\n",
       "      <td>5.147540</td>\n",
       "      <td>0.0145</td>\n",
       "      <td>0.08300</td>\n",
       "    </tr>\n",
       "    <tr>\n",
       "      <th>8</th>\n",
       "      <td>1.0</td>\n",
       "      <td>49.3532</td>\n",
       "      <td>49.3503</td>\n",
       "      <td>0.0029</td>\n",
       "      <td>6.0</td>\n",
       "      <td>1.243090</td>\n",
       "      <td>0.0660</td>\n",
       "      <td>0.20300</td>\n",
       "    </tr>\n",
       "    <tr>\n",
       "      <th>...</th>\n",
       "      <td>...</td>\n",
       "      <td>...</td>\n",
       "      <td>...</td>\n",
       "      <td>...</td>\n",
       "      <td>...</td>\n",
       "      <td>...</td>\n",
       "      <td>...</td>\n",
       "      <td>...</td>\n",
       "    </tr>\n",
       "    <tr>\n",
       "      <th>62</th>\n",
       "      <td>3.0</td>\n",
       "      <td>48.4374</td>\n",
       "      <td>48.3988</td>\n",
       "      <td>0.0386</td>\n",
       "      <td>18.0</td>\n",
       "      <td>14.257849</td>\n",
       "      <td>0.4340</td>\n",
       "      <td>0.24800</td>\n",
       "    </tr>\n",
       "    <tr>\n",
       "      <th>54</th>\n",
       "      <td>3.0</td>\n",
       "      <td>48.7300</td>\n",
       "      <td>48.6940</td>\n",
       "      <td>0.0360</td>\n",
       "      <td>9.0</td>\n",
       "      <td>6.406108</td>\n",
       "      <td>0.2560</td>\n",
       "      <td>0.12400</td>\n",
       "    </tr>\n",
       "    <tr>\n",
       "      <th>5</th>\n",
       "      <td>1.0</td>\n",
       "      <td>49.3617</td>\n",
       "      <td>49.3593</td>\n",
       "      <td>0.0024</td>\n",
       "      <td>6.0</td>\n",
       "      <td>0.944173</td>\n",
       "      <td>0.0545</td>\n",
       "      <td>0.16625</td>\n",
       "    </tr>\n",
       "    <tr>\n",
       "      <th>43</th>\n",
       "      <td>2.0</td>\n",
       "      <td>48.9651</td>\n",
       "      <td>48.9459</td>\n",
       "      <td>0.0192</td>\n",
       "      <td>9.0</td>\n",
       "      <td>9.295289</td>\n",
       "      <td>0.3065</td>\n",
       "      <td>0.26000</td>\n",
       "    </tr>\n",
       "    <tr>\n",
       "      <th>87</th>\n",
       "      <td>2.0</td>\n",
       "      <td>47.7544</td>\n",
       "      <td>47.7221</td>\n",
       "      <td>0.0323</td>\n",
       "      <td>10.0</td>\n",
       "      <td>6.002454</td>\n",
       "      <td>0.1620</td>\n",
       "      <td>0.05600</td>\n",
       "    </tr>\n",
       "  </tbody>\n",
       "</table>\n",
       "<p>86 rows × 8 columns</p>\n",
       "</div>"
      ],
      "text/plain": [
       "    Tool Dia. (mm)       Wi       Wf  delta Weight  MRR ideal  MRR actual  \\\n",
       "86             2.0  47.7829  47.7544        0.0285       20.0   10.292861   \n",
       "63             3.0  48.3988  48.3622        0.0366        9.0    7.071112   \n",
       "39             2.0  49.0267  49.0095        0.0172        6.0    3.296042   \n",
       "32             2.0  49.1434  49.1284        0.0150       12.0    5.147540   \n",
       "8              1.0  49.3532  49.3503        0.0029        6.0    1.243090   \n",
       "..             ...      ...      ...           ...        ...         ...   \n",
       "62             3.0  48.4374  48.3988        0.0386       18.0   14.257849   \n",
       "54             3.0  48.7300  48.6940        0.0360        9.0    6.406108   \n",
       "5              1.0  49.3617  49.3593        0.0024        6.0    0.944173   \n",
       "43             2.0  48.9651  48.9459        0.0192        9.0    9.295289   \n",
       "87             2.0  47.7544  47.7221        0.0323       10.0    6.002454   \n",
       "\n",
       "    Delta L  Delta W  \n",
       "86   0.1645  0.02850  \n",
       "63   0.3280  0.11200  \n",
       "39   0.1210  0.22700  \n",
       "32   0.0145  0.08300  \n",
       "8    0.0660  0.20300  \n",
       "..      ...      ...  \n",
       "62   0.4340  0.24800  \n",
       "54   0.2560  0.12400  \n",
       "5    0.0545  0.16625  \n",
       "43   0.3065  0.26000  \n",
       "87   0.1620  0.05600  \n",
       "\n",
       "[86 rows x 8 columns]"
      ]
     },
     "execution_count": 19,
     "metadata": {},
     "output_type": "execute_result"
    }
   ],
   "source": [
    "X_train"
   ]
  },
  {
   "cell_type": "code",
   "execution_count": 20,
   "metadata": {},
   "outputs": [
    {
     "data": {
      "text/html": [
       "<div>\n",
       "<style scoped>\n",
       "    .dataframe tbody tr th:only-of-type {\n",
       "        vertical-align: middle;\n",
       "    }\n",
       "\n",
       "    .dataframe tbody tr th {\n",
       "        vertical-align: top;\n",
       "    }\n",
       "\n",
       "    .dataframe thead th {\n",
       "        text-align: right;\n",
       "    }\n",
       "</style>\n",
       "<table border=\"1\" class=\"dataframe\">\n",
       "  <thead>\n",
       "    <tr style=\"text-align: right;\">\n",
       "      <th></th>\n",
       "      <th>Spindle Speed</th>\n",
       "      <th>Feed (mm/min)</th>\n",
       "    </tr>\n",
       "  </thead>\n",
       "  <tbody>\n",
       "    <tr>\n",
       "      <th>86</th>\n",
       "      <td>3250.0</td>\n",
       "      <td>20.0</td>\n",
       "    </tr>\n",
       "    <tr>\n",
       "      <th>63</th>\n",
       "      <td>3750.0</td>\n",
       "      <td>10.0</td>\n",
       "    </tr>\n",
       "    <tr>\n",
       "      <th>39</th>\n",
       "      <td>4000.0</td>\n",
       "      <td>10.0</td>\n",
       "    </tr>\n",
       "    <tr>\n",
       "      <th>32</th>\n",
       "      <td>3250.0</td>\n",
       "      <td>20.0</td>\n",
       "    </tr>\n",
       "    <tr>\n",
       "      <th>8</th>\n",
       "      <td>3500.0</td>\n",
       "      <td>20.0</td>\n",
       "    </tr>\n",
       "    <tr>\n",
       "      <th>...</th>\n",
       "      <td>...</td>\n",
       "      <td>...</td>\n",
       "    </tr>\n",
       "    <tr>\n",
       "      <th>62</th>\n",
       "      <td>3500.0</td>\n",
       "      <td>20.0</td>\n",
       "    </tr>\n",
       "    <tr>\n",
       "      <th>54</th>\n",
       "      <td>3000.0</td>\n",
       "      <td>10.0</td>\n",
       "    </tr>\n",
       "    <tr>\n",
       "      <th>5</th>\n",
       "      <td>3250.0</td>\n",
       "      <td>20.0</td>\n",
       "    </tr>\n",
       "    <tr>\n",
       "      <th>43</th>\n",
       "      <td>4250.0</td>\n",
       "      <td>15.0</td>\n",
       "    </tr>\n",
       "    <tr>\n",
       "      <th>87</th>\n",
       "      <td>3500.0</td>\n",
       "      <td>10.0</td>\n",
       "    </tr>\n",
       "  </tbody>\n",
       "</table>\n",
       "<p>86 rows × 2 columns</p>\n",
       "</div>"
      ],
      "text/plain": [
       "    Spindle Speed  Feed (mm/min)\n",
       "86         3250.0           20.0\n",
       "63         3750.0           10.0\n",
       "39         4000.0           10.0\n",
       "32         3250.0           20.0\n",
       "8          3500.0           20.0\n",
       "..            ...            ...\n",
       "62         3500.0           20.0\n",
       "54         3000.0           10.0\n",
       "5          3250.0           20.0\n",
       "43         4250.0           15.0\n",
       "87         3500.0           10.0\n",
       "\n",
       "[86 rows x 2 columns]"
      ]
     },
     "execution_count": 20,
     "metadata": {},
     "output_type": "execute_result"
    }
   ],
   "source": [
    "y_train"
   ]
  },
  {
   "cell_type": "markdown",
   "metadata": {},
   "source": [
    "### 2. Random Forest"
   ]
  },
  {
   "cell_type": "code",
   "execution_count": 21,
   "metadata": {},
   "outputs": [],
   "source": [
    "from sklearn.ensemble import RandomForestRegressor\n",
    "rnd_reg = RandomForestRegressor(n_estimators=500, max_leaf_nodes=20, n_jobs=-1, max_depth=10)\n",
    "rf_pipeline = Pipeline([\n",
    "    (\"scaler\", StandardScaler()),\n",
    "    (\"Random Forest\", rnd_reg)\n",
    "])\n",
    "\n",
    "rf_model = rf_pipeline.fit(X_train, y_train)"
   ]
  },
  {
   "cell_type": "code",
   "execution_count": 22,
   "metadata": {},
   "outputs": [
    {
     "name": "stderr",
     "output_type": "stream",
     "text": [
      "f:\\Projects\\Micromilling_process_optimisation\\.venv\\Lib\\site-packages\\sklearn\\base.py:465: UserWarning: X does not have valid feature names, but StandardScaler was fitted with feature names\n",
      "  warnings.warn(\n"
     ]
    },
    {
     "data": {
      "text/plain": [
       "array([[3272.32738499,   15.85081896]])"
      ]
     },
     "execution_count": 22,
     "metadata": {},
     "output_type": "execute_result"
    }
   ],
   "source": [
    "rf_model.predict([[2.0,47.7829,47.7544,0.0285,20.0,10.292861,0.1645,0.02850]])"
   ]
  },
  {
   "cell_type": "code",
   "execution_count": 23,
   "metadata": {},
   "outputs": [],
   "source": [
    "estimator = rf_model.named_steps[\"Random Forest\"].estimators_[0]"
   ]
  },
  {
   "cell_type": "code",
   "execution_count": 24,
   "metadata": {},
   "outputs": [],
   "source": [
    "# ! pip install graphviz"
   ]
  },
  {
   "cell_type": "code",
   "execution_count": 25,
   "metadata": {},
   "outputs": [
    {
     "data": {
      "image/svg+xml": [
       "<?xml version=\"1.0\" encoding=\"UTF-8\" standalone=\"no\"?>\n",
       "<!DOCTYPE svg PUBLIC \"-//W3C//DTD SVG 1.1//EN\"\n",
       " \"http://www.w3.org/Graphics/SVG/1.1/DTD/svg11.dtd\">\n",
       "<!-- Generated by graphviz version 9.0.0 (20230911.1827)\n",
       " -->\n",
       "<!-- Title: Tree Pages: 1 -->\n",
       "<svg width=\"1973pt\" height=\"1094pt\"\n",
       " viewBox=\"0.00 0.00 1972.75 1094.00\" xmlns=\"http://www.w3.org/2000/svg\" xmlns:xlink=\"http://www.w3.org/1999/xlink\">\n",
       "<g id=\"graph0\" class=\"graph\" transform=\"scale(1 1) rotate(0) translate(4 1090)\">\n",
       "<title>Tree</title>\n",
       "<polygon fill=\"white\" stroke=\"none\" points=\"-4,4 -4,-1090 1968.75,-1090 1968.75,4 -4,4\"/>\n",
       "<!-- 0 -->\n",
       "<g id=\"node1\" class=\"node\">\n",
       "<title>0</title>\n",
       "<path fill=\"#ffffff\" stroke=\"black\" d=\"M1048.12,-1086C1048.12,-1086 872.38,-1086 872.38,-1086 866.38,-1086 860.38,-1080 860.38,-1074 860.38,-1074 860.38,-1007.5 860.38,-1007.5 860.38,-1001.5 866.38,-995.5 872.38,-995.5 872.38,-995.5 1048.12,-995.5 1048.12,-995.5 1054.12,-995.5 1060.12,-1001.5 1060.12,-1007.5 1060.12,-1007.5 1060.12,-1074 1060.12,-1074 1060.12,-1080 1054.12,-1086 1048.12,-1086\"/>\n",
       "<text text-anchor=\"middle\" x=\"960.25\" y=\"-1068.7\" font-family=\"Helvetica,sans-Serif\" font-size=\"14.00\">Wf &lt;= 1.161</text>\n",
       "<text text-anchor=\"middle\" x=\"960.25\" y=\"-1052.2\" font-family=\"Helvetica,sans-Serif\" font-size=\"14.00\">squared_error = 237048.634</text>\n",
       "<text text-anchor=\"middle\" x=\"960.25\" y=\"-1035.7\" font-family=\"Helvetica,sans-Serif\" font-size=\"14.00\">samples = 56</text>\n",
       "<text text-anchor=\"middle\" x=\"960.25\" y=\"-1019.2\" font-family=\"Helvetica,sans-Serif\" font-size=\"14.00\">value = [[4095.93]</text>\n",
       "<text text-anchor=\"middle\" x=\"960.25\" y=\"-1002.7\" font-family=\"Helvetica,sans-Serif\" font-size=\"14.00\">[14.651]]</text>\n",
       "</g>\n",
       "<!-- 1 -->\n",
       "<g id=\"node2\" class=\"node\">\n",
       "<title>1</title>\n",
       "<path fill=\"#fcf2eb\" stroke=\"black\" d=\"M941.12,-959.5C941.12,-959.5 765.38,-959.5 765.38,-959.5 759.38,-959.5 753.38,-953.5 753.38,-947.5 753.38,-947.5 753.38,-881 753.38,-881 753.38,-875 759.38,-869 765.38,-869 765.38,-869 941.12,-869 941.12,-869 947.12,-869 953.12,-875 953.12,-881 953.12,-881 953.12,-947.5 953.12,-947.5 953.12,-953.5 947.12,-959.5 941.12,-959.5\"/>\n",
       "<text text-anchor=\"middle\" x=\"853.25\" y=\"-942.2\" font-family=\"Helvetica,sans-Serif\" font-size=\"14.00\">Delta W &lt;= &#45;1.466</text>\n",
       "<text text-anchor=\"middle\" x=\"853.25\" y=\"-925.7\" font-family=\"Helvetica,sans-Serif\" font-size=\"14.00\">squared_error = 212943.848</text>\n",
       "<text text-anchor=\"middle\" x=\"853.25\" y=\"-909.2\" font-family=\"Helvetica,sans-Serif\" font-size=\"14.00\">samples = 50</text>\n",
       "<text text-anchor=\"middle\" x=\"853.25\" y=\"-892.7\" font-family=\"Helvetica,sans-Serif\" font-size=\"14.00\">value = [[4198.052]</text>\n",
       "<text text-anchor=\"middle\" x=\"853.25\" y=\"-876.2\" font-family=\"Helvetica,sans-Serif\" font-size=\"14.00\">[14.74]]</text>\n",
       "</g>\n",
       "<!-- 0&#45;&gt;1 -->\n",
       "<g id=\"edge1\" class=\"edge\">\n",
       "<title>0&#45;&gt;1</title>\n",
       "<path fill=\"none\" stroke=\"black\" d=\"M921.92,-995.15C914.55,-986.57 906.75,-977.5 899.16,-968.67\"/>\n",
       "<polygon fill=\"black\" stroke=\"black\" points=\"901.83,-966.4 892.66,-961.1 896.52,-970.97 901.83,-966.4\"/>\n",
       "<text text-anchor=\"middle\" x=\"889.78\" y=\"-979.83\" font-family=\"Helvetica,sans-Serif\" font-size=\"14.00\">True</text>\n",
       "</g>\n",
       "<!-- 2 -->\n",
       "<g id=\"node39\" class=\"node\">\n",
       "<title>2</title>\n",
       "<path fill=\"#e78a47\" stroke=\"black\" d=\"M1151,-951.25C1151,-951.25 983.5,-951.25 983.5,-951.25 977.5,-951.25 971.5,-945.25 971.5,-939.25 971.5,-939.25 971.5,-889.25 971.5,-889.25 971.5,-883.25 977.5,-877.25 983.5,-877.25 983.5,-877.25 1151,-877.25 1151,-877.25 1157,-877.25 1163,-883.25 1163,-889.25 1163,-889.25 1163,-939.25 1163,-939.25 1163,-945.25 1157,-951.25 1151,-951.25\"/>\n",
       "<text text-anchor=\"middle\" x=\"1067.25\" y=\"-933.95\" font-family=\"Helvetica,sans-Serif\" font-size=\"14.00\">squared_error = 16983.025</text>\n",
       "<text text-anchor=\"middle\" x=\"1067.25\" y=\"-917.45\" font-family=\"Helvetica,sans-Serif\" font-size=\"14.00\">samples = 6</text>\n",
       "<text text-anchor=\"middle\" x=\"1067.25\" y=\"-900.95\" font-family=\"Helvetica,sans-Serif\" font-size=\"14.00\">value = [[3222.222]</text>\n",
       "<text text-anchor=\"middle\" x=\"1067.25\" y=\"-884.45\" font-family=\"Helvetica,sans-Serif\" font-size=\"14.00\">[13.889]]</text>\n",
       "</g>\n",
       "<!-- 0&#45;&gt;2 -->\n",
       "<g id=\"edge38\" class=\"edge\">\n",
       "<title>0&#45;&gt;2</title>\n",
       "<path fill=\"none\" stroke=\"black\" d=\"M998.58,-995.15C1008.42,-983.7 1019.01,-971.38 1028.86,-959.92\"/>\n",
       "<polygon fill=\"black\" stroke=\"black\" points=\"1031.37,-962.37 1035.23,-952.5 1026.06,-957.81 1031.37,-962.37\"/>\n",
       "<text text-anchor=\"middle\" x=\"1038.1\" y=\"-971.23\" font-family=\"Helvetica,sans-Serif\" font-size=\"14.00\">False</text>\n",
       "</g>\n",
       "<!-- 3 -->\n",
       "<g id=\"node3\" class=\"node\">\n",
       "<title>3</title>\n",
       "<path fill=\"#e58139\" stroke=\"black\" d=\"M818.25,-824.75C818.25,-824.75 700.25,-824.75 700.25,-824.75 694.25,-824.75 688.25,-818.75 688.25,-812.75 688.25,-812.75 688.25,-762.75 688.25,-762.75 688.25,-756.75 694.25,-750.75 700.25,-750.75 700.25,-750.75 818.25,-750.75 818.25,-750.75 824.25,-750.75 830.25,-756.75 830.25,-762.75 830.25,-762.75 830.25,-812.75 830.25,-812.75 830.25,-818.75 824.25,-824.75 818.25,-824.75\"/>\n",
       "<text text-anchor=\"middle\" x=\"759.25\" y=\"-807.45\" font-family=\"Helvetica,sans-Serif\" font-size=\"14.00\">squared_error = 0.0</text>\n",
       "<text text-anchor=\"middle\" x=\"759.25\" y=\"-790.95\" font-family=\"Helvetica,sans-Serif\" font-size=\"14.00\">samples = 1</text>\n",
       "<text text-anchor=\"middle\" x=\"759.25\" y=\"-774.45\" font-family=\"Helvetica,sans-Serif\" font-size=\"14.00\">value = [[3000.0]</text>\n",
       "<text text-anchor=\"middle\" x=\"759.25\" y=\"-757.95\" font-family=\"Helvetica,sans-Serif\" font-size=\"14.00\">[20.0]]</text>\n",
       "</g>\n",
       "<!-- 1&#45;&gt;3 -->\n",
       "<g id=\"edge2\" class=\"edge\">\n",
       "<title>1&#45;&gt;3</title>\n",
       "<path fill=\"none\" stroke=\"black\" d=\"M819.58,-868.65C811.02,-857.31 801.81,-845.12 793.23,-833.76\"/>\n",
       "<polygon fill=\"black\" stroke=\"black\" points=\"796.24,-831.94 787.42,-826.06 790.66,-836.15 796.24,-831.94\"/>\n",
       "</g>\n",
       "<!-- 4 -->\n",
       "<g id=\"node4\" class=\"node\">\n",
       "<title>4</title>\n",
       "<path fill=\"#fae7d9\" stroke=\"black\" d=\"M1036.12,-833C1036.12,-833 860.38,-833 860.38,-833 854.38,-833 848.38,-827 848.38,-821 848.38,-821 848.38,-754.5 848.38,-754.5 848.38,-748.5 854.38,-742.5 860.38,-742.5 860.38,-742.5 1036.12,-742.5 1036.12,-742.5 1042.12,-742.5 1048.12,-748.5 1048.12,-754.5 1048.12,-754.5 1048.12,-821 1048.12,-821 1048.12,-827 1042.12,-833 1036.12,-833\"/>\n",
       "<text text-anchor=\"middle\" x=\"948.25\" y=\"-815.7\" font-family=\"Helvetica,sans-Serif\" font-size=\"14.00\">Delta L &lt;= &#45;0.128</text>\n",
       "<text text-anchor=\"middle\" x=\"948.25\" y=\"-799.2\" font-family=\"Helvetica,sans-Serif\" font-size=\"14.00\">squared_error = 191302.121</text>\n",
       "<text text-anchor=\"middle\" x=\"948.25\" y=\"-782.7\" font-family=\"Helvetica,sans-Serif\" font-size=\"14.00\">samples = 49</text>\n",
       "<text text-anchor=\"middle\" x=\"948.25\" y=\"-766.2\" font-family=\"Helvetica,sans-Serif\" font-size=\"14.00\">value = [[4246.622]</text>\n",
       "<text text-anchor=\"middle\" x=\"948.25\" y=\"-749.7\" font-family=\"Helvetica,sans-Serif\" font-size=\"14.00\">[14.527]]</text>\n",
       "</g>\n",
       "<!-- 1&#45;&gt;4 -->\n",
       "<g id=\"edge3\" class=\"edge\">\n",
       "<title>1&#45;&gt;4</title>\n",
       "<path fill=\"none\" stroke=\"black\" d=\"M887.28,-868.65C893.76,-860.16 900.6,-851.19 907.27,-842.45\"/>\n",
       "<polygon fill=\"black\" stroke=\"black\" points=\"909.94,-844.73 913.22,-834.66 904.37,-840.48 909.94,-844.73\"/>\n",
       "</g>\n",
       "<!-- 5 -->\n",
       "<g id=\"node5\" class=\"node\">\n",
       "<title>5</title>\n",
       "<path fill=\"#f3c3a0\" stroke=\"black\" d=\"M915.12,-706.5C915.12,-706.5 739.38,-706.5 739.38,-706.5 733.38,-706.5 727.38,-700.5 727.38,-694.5 727.38,-694.5 727.38,-628 727.38,-628 727.38,-622 733.38,-616 739.38,-616 739.38,-616 915.12,-616 915.12,-616 921.12,-616 927.12,-622 927.12,-628 927.12,-628 927.12,-694.5 927.12,-694.5 927.12,-700.5 921.12,-706.5 915.12,-706.5\"/>\n",
       "<text text-anchor=\"middle\" x=\"827.25\" y=\"-689.2\" font-family=\"Helvetica,sans-Serif\" font-size=\"14.00\">Wi &lt;= 1.072</text>\n",
       "<text text-anchor=\"middle\" x=\"827.25\" y=\"-672.7\" font-family=\"Helvetica,sans-Serif\" font-size=\"14.00\">squared_error = 123803.466</text>\n",
       "<text text-anchor=\"middle\" x=\"827.25\" y=\"-656.2\" font-family=\"Helvetica,sans-Serif\" font-size=\"14.00\">samples = 19</text>\n",
       "<text text-anchor=\"middle\" x=\"827.25\" y=\"-639.7\" font-family=\"Helvetica,sans-Serif\" font-size=\"14.00\">value = [[4477.273]</text>\n",
       "<text text-anchor=\"middle\" x=\"827.25\" y=\"-623.2\" font-family=\"Helvetica,sans-Serif\" font-size=\"14.00\">[14.848]]</text>\n",
       "</g>\n",
       "<!-- 4&#45;&gt;5 -->\n",
       "<g id=\"edge4\" class=\"edge\">\n",
       "<title>4&#45;&gt;5</title>\n",
       "<path fill=\"none\" stroke=\"black\" d=\"M904.91,-742.15C896.39,-733.39 887.38,-724.12 878.64,-715.12\"/>\n",
       "<polygon fill=\"black\" stroke=\"black\" points=\"881.23,-712.77 871.75,-708.04 876.21,-717.65 881.23,-712.77\"/>\n",
       "</g>\n",
       "<!-- 6 -->\n",
       "<g id=\"node20\" class=\"node\">\n",
       "<title>6</title>\n",
       "<path fill=\"#fcefe6\" stroke=\"black\" d=\"M1168.12,-706.5C1168.12,-706.5 992.38,-706.5 992.38,-706.5 986.38,-706.5 980.38,-700.5 980.38,-694.5 980.38,-694.5 980.38,-628 980.38,-628 980.38,-622 986.38,-616 992.38,-616 992.38,-616 1168.12,-616 1168.12,-616 1174.12,-616 1180.12,-622 1180.12,-628 1180.12,-628 1180.12,-694.5 1180.12,-694.5 1180.12,-700.5 1174.12,-706.5 1168.12,-706.5\"/>\n",
       "<text text-anchor=\"middle\" x=\"1080.25\" y=\"-689.2\" font-family=\"Helvetica,sans-Serif\" font-size=\"14.00\">MRR actual &lt;= 0.111</text>\n",
       "<text text-anchor=\"middle\" x=\"1080.25\" y=\"-672.7\" font-family=\"Helvetica,sans-Serif\" font-size=\"14.00\">squared_error = 206988.281</text>\n",
       "<text text-anchor=\"middle\" x=\"1080.25\" y=\"-656.2\" font-family=\"Helvetica,sans-Serif\" font-size=\"14.00\">samples = 30</text>\n",
       "<text text-anchor=\"middle\" x=\"1080.25\" y=\"-639.7\" font-family=\"Helvetica,sans-Serif\" font-size=\"14.00\">value = [[4060.976]</text>\n",
       "<text text-anchor=\"middle\" x=\"1080.25\" y=\"-623.2\" font-family=\"Helvetica,sans-Serif\" font-size=\"14.00\">[14.268]]</text>\n",
       "</g>\n",
       "<!-- 4&#45;&gt;6 -->\n",
       "<g id=\"edge19\" class=\"edge\">\n",
       "<title>4&#45;&gt;6</title>\n",
       "<path fill=\"none\" stroke=\"black\" d=\"M995.53,-742.15C1004.92,-733.3 1014.85,-723.93 1024.48,-714.85\"/>\n",
       "<polygon fill=\"black\" stroke=\"black\" points=\"1026.88,-717.4 1031.75,-707.99 1022.08,-712.31 1026.88,-717.4\"/>\n",
       "</g>\n",
       "<!-- 13 -->\n",
       "<g id=\"node6\" class=\"node\">\n",
       "<title>13</title>\n",
       "<path fill=\"#f1ba92\" stroke=\"black\" d=\"M622.12,-580C622.12,-580 446.38,-580 446.38,-580 440.38,-580 434.38,-574 434.38,-568 434.38,-568 434.38,-501.5 434.38,-501.5 434.38,-495.5 440.38,-489.5 446.38,-489.5 446.38,-489.5 622.12,-489.5 622.12,-489.5 628.12,-489.5 634.12,-495.5 634.12,-501.5 634.12,-501.5 634.12,-568 634.12,-568 634.12,-574 628.12,-580 622.12,-580\"/>\n",
       "<text text-anchor=\"middle\" x=\"534.25\" y=\"-562.7\" font-family=\"Helvetica,sans-Serif\" font-size=\"14.00\">MRR actual &lt;= &#45;0.216</text>\n",
       "<text text-anchor=\"middle\" x=\"534.25\" y=\"-546.2\" font-family=\"Helvetica,sans-Serif\" font-size=\"14.00\">squared_error = 107092.069</text>\n",
       "<text text-anchor=\"middle\" x=\"534.25\" y=\"-529.7\" font-family=\"Helvetica,sans-Serif\" font-size=\"14.00\">samples = 17</text>\n",
       "<text text-anchor=\"middle\" x=\"534.25\" y=\"-513.2\" font-family=\"Helvetica,sans-Serif\" font-size=\"14.00\">value = [[4550.0]</text>\n",
       "<text text-anchor=\"middle\" x=\"534.25\" y=\"-496.7\" font-family=\"Helvetica,sans-Serif\" font-size=\"14.00\">[15.167]]</text>\n",
       "</g>\n",
       "<!-- 5&#45;&gt;13 -->\n",
       "<g id=\"edge5\" class=\"edge\">\n",
       "<title>5&#45;&gt;13</title>\n",
       "<path fill=\"none\" stroke=\"black\" d=\"M727.24,-617.75C700.63,-606.45 671.74,-594.17 644.61,-582.64\"/>\n",
       "<polygon fill=\"black\" stroke=\"black\" points=\"646.28,-579.55 635.7,-578.86 643.54,-585.99 646.28,-579.55\"/>\n",
       "</g>\n",
       "<!-- 14 -->\n",
       "<g id=\"node19\" class=\"node\">\n",
       "<title>14</title>\n",
       "<path fill=\"#e58139\" stroke=\"black\" d=\"M894.5,-571.75C894.5,-571.75 760,-571.75 760,-571.75 754,-571.75 748,-565.75 748,-559.75 748,-559.75 748,-509.75 748,-509.75 748,-503.75 754,-497.75 760,-497.75 760,-497.75 894.5,-497.75 894.5,-497.75 900.5,-497.75 906.5,-503.75 906.5,-509.75 906.5,-509.75 906.5,-559.75 906.5,-559.75 906.5,-565.75 900.5,-571.75 894.5,-571.75\"/>\n",
       "<text text-anchor=\"middle\" x=\"827.25\" y=\"-554.45\" font-family=\"Helvetica,sans-Serif\" font-size=\"14.00\">squared_error = 2.778</text>\n",
       "<text text-anchor=\"middle\" x=\"827.25\" y=\"-537.95\" font-family=\"Helvetica,sans-Serif\" font-size=\"14.00\">samples = 2</text>\n",
       "<text text-anchor=\"middle\" x=\"827.25\" y=\"-521.45\" font-family=\"Helvetica,sans-Serif\" font-size=\"14.00\">value = [[3750.0]</text>\n",
       "<text text-anchor=\"middle\" x=\"827.25\" y=\"-504.95\" font-family=\"Helvetica,sans-Serif\" font-size=\"14.00\">[11.667]]</text>\n",
       "</g>\n",
       "<!-- 5&#45;&gt;14 -->\n",
       "<g id=\"edge18\" class=\"edge\">\n",
       "<title>5&#45;&gt;14</title>\n",
       "<path fill=\"none\" stroke=\"black\" d=\"M827.25,-615.65C827.25,-605.1 827.25,-593.81 827.25,-583.13\"/>\n",
       "<polygon fill=\"black\" stroke=\"black\" points=\"830.75,-583.37 827.25,-573.37 823.75,-583.37 830.75,-583.37\"/>\n",
       "</g>\n",
       "<!-- 15 -->\n",
       "<g id=\"node7\" class=\"node\">\n",
       "<title>15</title>\n",
       "<path fill=\"#e88f4f\" stroke=\"black\" d=\"M356,-453.5C356,-453.5 188.5,-453.5 188.5,-453.5 182.5,-453.5 176.5,-447.5 176.5,-441.5 176.5,-441.5 176.5,-375 176.5,-375 176.5,-369 182.5,-363 188.5,-363 188.5,-363 356,-363 356,-363 362,-363 368,-369 368,-375 368,-375 368,-441.5 368,-441.5 368,-447.5 362,-453.5 356,-453.5\"/>\n",
       "<text text-anchor=\"middle\" x=\"272.25\" y=\"-436.2\" font-family=\"Helvetica,sans-Serif\" font-size=\"14.00\">Delta W &lt;= 0.333</text>\n",
       "<text text-anchor=\"middle\" x=\"272.25\" y=\"-419.7\" font-family=\"Helvetica,sans-Serif\" font-size=\"14.00\">squared_error = 26630.178</text>\n",
       "<text text-anchor=\"middle\" x=\"272.25\" y=\"-403.2\" font-family=\"Helvetica,sans-Serif\" font-size=\"14.00\">samples = 5</text>\n",
       "<text text-anchor=\"middle\" x=\"272.25\" y=\"-386.7\" font-family=\"Helvetica,sans-Serif\" font-size=\"14.00\">value = [[4846.154]</text>\n",
       "<text text-anchor=\"middle\" x=\"272.25\" y=\"-370.2\" font-family=\"Helvetica,sans-Serif\" font-size=\"14.00\">[11.923]]</text>\n",
       "</g>\n",
       "<!-- 13&#45;&gt;15 -->\n",
       "<g id=\"edge6\" class=\"edge\">\n",
       "<title>13&#45;&gt;15</title>\n",
       "<path fill=\"none\" stroke=\"black\" d=\"M440.4,-489.15C419.71,-479.32 397.67,-468.85 376.58,-458.83\"/>\n",
       "<polygon fill=\"black\" stroke=\"black\" points=\"378.22,-455.73 367.69,-454.6 375.22,-462.06 378.22,-455.73\"/>\n",
       "</g>\n",
       "<!-- 16 -->\n",
       "<g id=\"node12\" class=\"node\">\n",
       "<title>16</title>\n",
       "<path fill=\"#f1bb94\" stroke=\"black\" d=\"M622.12,-453.5C622.12,-453.5 446.38,-453.5 446.38,-453.5 440.38,-453.5 434.38,-447.5 434.38,-441.5 434.38,-441.5 434.38,-375 434.38,-375 434.38,-369 440.38,-363 446.38,-363 446.38,-363 622.12,-363 622.12,-363 628.12,-363 634.12,-369 634.12,-375 634.12,-375 634.12,-441.5 634.12,-441.5 634.12,-447.5 628.12,-453.5 622.12,-453.5\"/>\n",
       "<text text-anchor=\"middle\" x=\"534.25\" y=\"-436.2\" font-family=\"Helvetica,sans-Serif\" font-size=\"14.00\">MRR actual &lt;= 0.028</text>\n",
       "<text text-anchor=\"middle\" x=\"534.25\" y=\"-419.7\" font-family=\"Helvetica,sans-Serif\" font-size=\"14.00\">squared_error = 109435.121</text>\n",
       "<text text-anchor=\"middle\" x=\"534.25\" y=\"-403.2\" font-family=\"Helvetica,sans-Serif\" font-size=\"14.00\">samples = 12</text>\n",
       "<text text-anchor=\"middle\" x=\"534.25\" y=\"-386.7\" font-family=\"Helvetica,sans-Serif\" font-size=\"14.00\">value = [[4323.529]</text>\n",
       "<text text-anchor=\"middle\" x=\"534.25\" y=\"-370.2\" font-family=\"Helvetica,sans-Serif\" font-size=\"14.00\">[17.647]]</text>\n",
       "</g>\n",
       "<!-- 13&#45;&gt;16 -->\n",
       "<g id=\"edge11\" class=\"edge\">\n",
       "<title>13&#45;&gt;16</title>\n",
       "<path fill=\"none\" stroke=\"black\" d=\"M534.25,-489.15C534.25,-481.47 534.25,-473.39 534.25,-465.44\"/>\n",
       "<polygon fill=\"black\" stroke=\"black\" points=\"537.75,-465.47 534.25,-455.47 530.75,-465.47 537.75,-465.47\"/>\n",
       "</g>\n",
       "<!-- 35 -->\n",
       "<g id=\"node8\" class=\"node\">\n",
       "<title>35</title>\n",
       "<path fill=\"#e58139\" stroke=\"black\" d=\"M146.5,-318.75C146.5,-318.75 12,-318.75 12,-318.75 6,-318.75 0,-312.75 0,-306.75 0,-306.75 0,-256.75 0,-256.75 0,-250.75 6,-244.75 12,-244.75 12,-244.75 146.5,-244.75 146.5,-244.75 152.5,-244.75 158.5,-250.75 158.5,-256.75 158.5,-256.75 158.5,-306.75 158.5,-306.75 158.5,-312.75 152.5,-318.75 146.5,-318.75\"/>\n",
       "<text text-anchor=\"middle\" x=\"79.25\" y=\"-301.45\" font-family=\"Helvetica,sans-Serif\" font-size=\"14.00\">squared_error = 2.778</text>\n",
       "<text text-anchor=\"middle\" x=\"79.25\" y=\"-284.95\" font-family=\"Helvetica,sans-Serif\" font-size=\"14.00\">samples = 3</text>\n",
       "<text text-anchor=\"middle\" x=\"79.25\" y=\"-268.45\" font-family=\"Helvetica,sans-Serif\" font-size=\"14.00\">value = [[5000.0]</text>\n",
       "<text text-anchor=\"middle\" x=\"79.25\" y=\"-251.95\" font-family=\"Helvetica,sans-Serif\" font-size=\"14.00\">[11.667]]</text>\n",
       "</g>\n",
       "<!-- 15&#45;&gt;35 -->\n",
       "<g id=\"edge7\" class=\"edge\">\n",
       "<title>15&#45;&gt;35</title>\n",
       "<path fill=\"none\" stroke=\"black\" d=\"M203.12,-362.65C184.24,-350.47 163.83,-337.31 145.13,-325.25\"/>\n",
       "<polygon fill=\"black\" stroke=\"black\" points=\"147.1,-322.36 136.8,-319.88 143.31,-328.24 147.1,-322.36\"/>\n",
       "</g>\n",
       "<!-- 36 -->\n",
       "<g id=\"node9\" class=\"node\">\n",
       "<title>36</title>\n",
       "<path fill=\"#e89153\" stroke=\"black\" d=\"M356,-327C356,-327 188.5,-327 188.5,-327 182.5,-327 176.5,-321 176.5,-315 176.5,-315 176.5,-248.5 176.5,-248.5 176.5,-242.5 182.5,-236.5 188.5,-236.5 188.5,-236.5 356,-236.5 356,-236.5 362,-236.5 368,-242.5 368,-248.5 368,-248.5 368,-315 368,-315 368,-321 362,-327 356,-327\"/>\n",
       "<text text-anchor=\"middle\" x=\"272.25\" y=\"-309.7\" font-family=\"Helvetica,sans-Serif\" font-size=\"14.00\">delta Weight &lt;= &#45;0.541</text>\n",
       "<text text-anchor=\"middle\" x=\"272.25\" y=\"-293.2\" font-family=\"Helvetica,sans-Serif\" font-size=\"14.00\">squared_error = 30615.306</text>\n",
       "<text text-anchor=\"middle\" x=\"272.25\" y=\"-276.7\" font-family=\"Helvetica,sans-Serif\" font-size=\"14.00\">samples = 2</text>\n",
       "<text text-anchor=\"middle\" x=\"272.25\" y=\"-260.2\" font-family=\"Helvetica,sans-Serif\" font-size=\"14.00\">value = [[4714.286]</text>\n",
       "<text text-anchor=\"middle\" x=\"272.25\" y=\"-243.7\" font-family=\"Helvetica,sans-Serif\" font-size=\"14.00\">[12.143]]</text>\n",
       "</g>\n",
       "<!-- 15&#45;&gt;36 -->\n",
       "<g id=\"edge8\" class=\"edge\">\n",
       "<title>15&#45;&gt;36</title>\n",
       "<path fill=\"none\" stroke=\"black\" d=\"M272.25,-362.65C272.25,-354.97 272.25,-346.89 272.25,-338.94\"/>\n",
       "<polygon fill=\"black\" stroke=\"black\" points=\"275.75,-338.97 272.25,-328.97 268.75,-338.97 275.75,-338.97\"/>\n",
       "</g>\n",
       "<!-- 37 -->\n",
       "<g id=\"node10\" class=\"node\">\n",
       "<title>37</title>\n",
       "<path fill=\"#e58139\" stroke=\"black\" d=\"M202.25,-192.25C202.25,-192.25 84.25,-192.25 84.25,-192.25 78.25,-192.25 72.25,-186.25 72.25,-180.25 72.25,-180.25 72.25,-130.25 72.25,-130.25 72.25,-124.25 78.25,-118.25 84.25,-118.25 84.25,-118.25 202.25,-118.25 202.25,-118.25 208.25,-118.25 214.25,-124.25 214.25,-130.25 214.25,-130.25 214.25,-180.25 214.25,-180.25 214.25,-186.25 208.25,-192.25 202.25,-192.25\"/>\n",
       "<text text-anchor=\"middle\" x=\"143.25\" y=\"-174.95\" font-family=\"Helvetica,sans-Serif\" font-size=\"14.00\">squared_error = 0.0</text>\n",
       "<text text-anchor=\"middle\" x=\"143.25\" y=\"-158.45\" font-family=\"Helvetica,sans-Serif\" font-size=\"14.00\">samples = 1</text>\n",
       "<text text-anchor=\"middle\" x=\"143.25\" y=\"-141.95\" font-family=\"Helvetica,sans-Serif\" font-size=\"14.00\">value = [[5000.0]</text>\n",
       "<text text-anchor=\"middle\" x=\"143.25\" y=\"-125.45\" font-family=\"Helvetica,sans-Serif\" font-size=\"14.00\">[15.0]]</text>\n",
       "</g>\n",
       "<!-- 36&#45;&gt;37 -->\n",
       "<g id=\"edge9\" class=\"edge\">\n",
       "<title>36&#45;&gt;37</title>\n",
       "<path fill=\"none\" stroke=\"black\" d=\"M226.04,-236.15C213.94,-224.48 200.91,-211.89 188.84,-200.25\"/>\n",
       "<polygon fill=\"black\" stroke=\"black\" points=\"191.38,-197.83 181.75,-193.41 186.51,-202.87 191.38,-197.83\"/>\n",
       "</g>\n",
       "<!-- 38 -->\n",
       "<g id=\"node11\" class=\"node\">\n",
       "<title>38</title>\n",
       "<path fill=\"#e58139\" stroke=\"black\" d=\"M362.25,-192.25C362.25,-192.25 244.25,-192.25 244.25,-192.25 238.25,-192.25 232.25,-186.25 232.25,-180.25 232.25,-180.25 232.25,-130.25 232.25,-130.25 232.25,-124.25 238.25,-118.25 244.25,-118.25 244.25,-118.25 362.25,-118.25 362.25,-118.25 368.25,-118.25 374.25,-124.25 374.25,-130.25 374.25,-130.25 374.25,-180.25 374.25,-180.25 374.25,-186.25 368.25,-192.25 362.25,-192.25\"/>\n",
       "<text text-anchor=\"middle\" x=\"303.25\" y=\"-174.95\" font-family=\"Helvetica,sans-Serif\" font-size=\"14.00\">squared_error = 0.0</text>\n",
       "<text text-anchor=\"middle\" x=\"303.25\" y=\"-158.45\" font-family=\"Helvetica,sans-Serif\" font-size=\"14.00\">samples = 1</text>\n",
       "<text text-anchor=\"middle\" x=\"303.25\" y=\"-141.95\" font-family=\"Helvetica,sans-Serif\" font-size=\"14.00\">value = [[4500.0]</text>\n",
       "<text text-anchor=\"middle\" x=\"303.25\" y=\"-125.45\" font-family=\"Helvetica,sans-Serif\" font-size=\"14.00\">[10.0]]</text>\n",
       "</g>\n",
       "<!-- 36&#45;&gt;38 -->\n",
       "<g id=\"edge10\" class=\"edge\">\n",
       "<title>36&#45;&gt;38</title>\n",
       "<path fill=\"none\" stroke=\"black\" d=\"M283.35,-236.15C286.01,-225.49 288.85,-214.06 291.54,-203.29\"/>\n",
       "<polygon fill=\"black\" stroke=\"black\" points=\"294.87,-204.37 293.89,-193.82 288.08,-202.68 294.87,-204.37\"/>\n",
       "</g>\n",
       "<!-- 17 -->\n",
       "<g id=\"node13\" class=\"node\">\n",
       "<title>17</title>\n",
       "<path fill=\"#e78c4a\" stroke=\"black\" d=\"M566,-318.75C566,-318.75 398.5,-318.75 398.5,-318.75 392.5,-318.75 386.5,-312.75 386.5,-306.75 386.5,-306.75 386.5,-256.75 386.5,-256.75 386.5,-250.75 392.5,-244.75 398.5,-244.75 398.5,-244.75 566,-244.75 566,-244.75 572,-244.75 578,-250.75 578,-256.75 578,-256.75 578,-306.75 578,-306.75 578,-312.75 572,-318.75 566,-318.75\"/>\n",
       "<text text-anchor=\"middle\" x=\"482.25\" y=\"-301.45\" font-family=\"Helvetica,sans-Serif\" font-size=\"14.00\">squared_error = 20836.111</text>\n",
       "<text text-anchor=\"middle\" x=\"482.25\" y=\"-284.95\" font-family=\"Helvetica,sans-Serif\" font-size=\"14.00\">samples = 3</text>\n",
       "<text text-anchor=\"middle\" x=\"482.25\" y=\"-268.45\" font-family=\"Helvetica,sans-Serif\" font-size=\"14.00\">value = [[3500.0]</text>\n",
       "<text text-anchor=\"middle\" x=\"482.25\" y=\"-251.95\" font-family=\"Helvetica,sans-Serif\" font-size=\"14.00\">[16.667]]</text>\n",
       "</g>\n",
       "<!-- 16&#45;&gt;17 -->\n",
       "<g id=\"edge12\" class=\"edge\">\n",
       "<title>16&#45;&gt;17</title>\n",
       "<path fill=\"none\" stroke=\"black\" d=\"M515.62,-362.65C511.12,-351.87 506.3,-340.32 501.76,-329.45\"/>\n",
       "<polygon fill=\"black\" stroke=\"black\" points=\"505,-328.13 497.91,-320.25 498.54,-330.83 505,-328.13\"/>\n",
       "</g>\n",
       "<!-- 18 -->\n",
       "<g id=\"node14\" class=\"node\">\n",
       "<title>18</title>\n",
       "<path fill=\"#e9965b\" stroke=\"black\" d=\"M776,-327C776,-327 608.5,-327 608.5,-327 602.5,-327 596.5,-321 596.5,-315 596.5,-315 596.5,-248.5 596.5,-248.5 596.5,-242.5 602.5,-236.5 608.5,-236.5 608.5,-236.5 776,-236.5 776,-236.5 782,-236.5 788,-242.5 788,-248.5 788,-248.5 788,-315 788,-315 788,-321 782,-327 776,-327\"/>\n",
       "<text text-anchor=\"middle\" x=\"692.25\" y=\"-309.7\" font-family=\"Helvetica,sans-Serif\" font-size=\"14.00\">MRR actual &lt;= 1.419</text>\n",
       "<text text-anchor=\"middle\" x=\"692.25\" y=\"-293.2\" font-family=\"Helvetica,sans-Serif\" font-size=\"14.00\">squared_error = 40185.204</text>\n",
       "<text text-anchor=\"middle\" x=\"692.25\" y=\"-276.7\" font-family=\"Helvetica,sans-Serif\" font-size=\"14.00\">samples = 9</text>\n",
       "<text text-anchor=\"middle\" x=\"692.25\" y=\"-260.2\" font-family=\"Helvetica,sans-Serif\" font-size=\"14.00\">value = [[4500.0]</text>\n",
       "<text text-anchor=\"middle\" x=\"692.25\" y=\"-243.7\" font-family=\"Helvetica,sans-Serif\" font-size=\"14.00\">[17.857]]</text>\n",
       "</g>\n",
       "<!-- 16&#45;&gt;18 -->\n",
       "<g id=\"edge13\" class=\"edge\">\n",
       "<title>16&#45;&gt;18</title>\n",
       "<path fill=\"none\" stroke=\"black\" d=\"M590.85,-362.65C602.42,-353.54 614.69,-343.87 626.55,-334.52\"/>\n",
       "<polygon fill=\"black\" stroke=\"black\" points=\"628.64,-337.33 634.33,-328.39 624.31,-331.83 628.64,-337.33\"/>\n",
       "</g>\n",
       "<!-- 23 -->\n",
       "<g id=\"node15\" class=\"node\">\n",
       "<title>23</title>\n",
       "<path fill=\"#e78d4c\" stroke=\"black\" d=\"M593,-200.5C593,-200.5 425.5,-200.5 425.5,-200.5 419.5,-200.5 413.5,-194.5 413.5,-188.5 413.5,-188.5 413.5,-122 413.5,-122 413.5,-116 419.5,-110 425.5,-110 425.5,-110 593,-110 593,-110 599,-110 605,-116 605,-122 605,-122 605,-188.5 605,-188.5 605,-194.5 599,-200.5 593,-200.5\"/>\n",
       "<text text-anchor=\"middle\" x=\"509.25\" y=\"-183.2\" font-family=\"Helvetica,sans-Serif\" font-size=\"14.00\">delta Weight &lt;= &#45;0.266</text>\n",
       "<text text-anchor=\"middle\" x=\"509.25\" y=\"-166.7\" font-family=\"Helvetica,sans-Serif\" font-size=\"14.00\">squared_error = 22576.649</text>\n",
       "<text text-anchor=\"middle\" x=\"509.25\" y=\"-150.2\" font-family=\"Helvetica,sans-Serif\" font-size=\"14.00\">samples = 7</text>\n",
       "<text text-anchor=\"middle\" x=\"509.25\" y=\"-133.7\" font-family=\"Helvetica,sans-Serif\" font-size=\"14.00\">value = [[4583.333]</text>\n",
       "<text text-anchor=\"middle\" x=\"509.25\" y=\"-117.2\" font-family=\"Helvetica,sans-Serif\" font-size=\"14.00\">[17.917]]</text>\n",
       "</g>\n",
       "<!-- 18&#45;&gt;23 -->\n",
       "<g id=\"edge14\" class=\"edge\">\n",
       "<title>18&#45;&gt;23</title>\n",
       "<path fill=\"none\" stroke=\"black\" d=\"M626.7,-236.15C612.9,-226.77 598.25,-216.8 584.14,-207.2\"/>\n",
       "<polygon fill=\"black\" stroke=\"black\" points=\"586.45,-204.54 576.21,-201.8 582.51,-210.32 586.45,-204.54\"/>\n",
       "</g>\n",
       "<!-- 24 -->\n",
       "<g id=\"node18\" class=\"node\">\n",
       "<title>24</title>\n",
       "<path fill=\"#e58139\" stroke=\"black\" d=\"M769.5,-192.25C769.5,-192.25 635,-192.25 635,-192.25 629,-192.25 623,-186.25 623,-180.25 623,-180.25 623,-130.25 623,-130.25 623,-124.25 629,-118.25 635,-118.25 635,-118.25 769.5,-118.25 769.5,-118.25 775.5,-118.25 781.5,-124.25 781.5,-130.25 781.5,-130.25 781.5,-180.25 781.5,-180.25 781.5,-186.25 775.5,-192.25 769.5,-192.25\"/>\n",
       "<text text-anchor=\"middle\" x=\"702.25\" y=\"-174.95\" font-family=\"Helvetica,sans-Serif\" font-size=\"14.00\">squared_error = 3.125</text>\n",
       "<text text-anchor=\"middle\" x=\"702.25\" y=\"-158.45\" font-family=\"Helvetica,sans-Serif\" font-size=\"14.00\">samples = 2</text>\n",
       "<text text-anchor=\"middle\" x=\"702.25\" y=\"-141.95\" font-family=\"Helvetica,sans-Serif\" font-size=\"14.00\">value = [[4000.0]</text>\n",
       "<text text-anchor=\"middle\" x=\"702.25\" y=\"-125.45\" font-family=\"Helvetica,sans-Serif\" font-size=\"14.00\">[17.5]]</text>\n",
       "</g>\n",
       "<!-- 18&#45;&gt;24 -->\n",
       "<g id=\"edge17\" class=\"edge\">\n",
       "<title>18&#45;&gt;24</title>\n",
       "<path fill=\"none\" stroke=\"black\" d=\"M695.83,-236.15C696.68,-225.6 697.59,-214.31 698.44,-203.63\"/>\n",
       "<polygon fill=\"black\" stroke=\"black\" points=\"701.92,-204.11 699.23,-193.86 694.94,-203.55 701.92,-204.11\"/>\n",
       "</g>\n",
       "<!-- 31 -->\n",
       "<g id=\"node16\" class=\"node\">\n",
       "<title>31</title>\n",
       "<path fill=\"#e58139\" stroke=\"black\" d=\"M475.25,-74C475.25,-74 357.25,-74 357.25,-74 351.25,-74 345.25,-68 345.25,-62 345.25,-62 345.25,-12 345.25,-12 345.25,-6 351.25,0 357.25,0 357.25,0 475.25,0 475.25,0 481.25,0 487.25,-6 487.25,-12 487.25,-12 487.25,-62 487.25,-62 487.25,-68 481.25,-74 475.25,-74\"/>\n",
       "<text text-anchor=\"middle\" x=\"416.25\" y=\"-56.7\" font-family=\"Helvetica,sans-Serif\" font-size=\"14.00\">squared_error = 0.0</text>\n",
       "<text text-anchor=\"middle\" x=\"416.25\" y=\"-40.2\" font-family=\"Helvetica,sans-Serif\" font-size=\"14.00\">samples = 1</text>\n",
       "<text text-anchor=\"middle\" x=\"416.25\" y=\"-23.7\" font-family=\"Helvetica,sans-Serif\" font-size=\"14.00\">value = [[4250.0]</text>\n",
       "<text text-anchor=\"middle\" x=\"416.25\" y=\"-7.2\" font-family=\"Helvetica,sans-Serif\" font-size=\"14.00\">[20.0]]</text>\n",
       "</g>\n",
       "<!-- 23&#45;&gt;31 -->\n",
       "<g id=\"edge15\" class=\"edge\">\n",
       "<title>23&#45;&gt;31</title>\n",
       "<path fill=\"none\" stroke=\"black\" d=\"M473.56,-109.64C466.64,-100.99 459.38,-91.92 452.45,-83.25\"/>\n",
       "<polygon fill=\"black\" stroke=\"black\" points=\"455.29,-81.2 446.31,-75.58 449.82,-85.57 455.29,-81.2\"/>\n",
       "</g>\n",
       "<!-- 32 -->\n",
       "<g id=\"node17\" class=\"node\">\n",
       "<title>32</title>\n",
       "<path fill=\"#e78844\" stroke=\"black\" d=\"M685,-74C685,-74 517.5,-74 517.5,-74 511.5,-74 505.5,-68 505.5,-62 505.5,-62 505.5,-12 505.5,-12 505.5,-6 511.5,0 517.5,0 517.5,0 685,0 685,0 691,0 697,-6 697,-12 697,-12 697,-62 697,-62 697,-68 691,-74 685,-74\"/>\n",
       "<text text-anchor=\"middle\" x=\"601.25\" y=\"-56.7\" font-family=\"Helvetica,sans-Serif\" font-size=\"14.00\">squared_error = 13758.125</text>\n",
       "<text text-anchor=\"middle\" x=\"601.25\" y=\"-40.2\" font-family=\"Helvetica,sans-Serif\" font-size=\"14.00\">samples = 6</text>\n",
       "<text text-anchor=\"middle\" x=\"601.25\" y=\"-23.7\" font-family=\"Helvetica,sans-Serif\" font-size=\"14.00\">value = [[4650.0]</text>\n",
       "<text text-anchor=\"middle\" x=\"601.25\" y=\"-7.2\" font-family=\"Helvetica,sans-Serif\" font-size=\"14.00\">[17.5]]</text>\n",
       "</g>\n",
       "<!-- 23&#45;&gt;32 -->\n",
       "<g id=\"edge16\" class=\"edge\">\n",
       "<title>23&#45;&gt;32</title>\n",
       "<path fill=\"none\" stroke=\"black\" d=\"M544.56,-109.64C551.4,-100.99 558.58,-91.92 565.44,-83.25\"/>\n",
       "<polygon fill=\"black\" stroke=\"black\" points=\"568.05,-85.59 571.51,-75.58 562.56,-81.25 568.05,-85.59\"/>\n",
       "</g>\n",
       "<!-- 7 -->\n",
       "<g id=\"node21\" class=\"node\">\n",
       "<title>7</title>\n",
       "<path fill=\"#f7d8c2\" stroke=\"black\" d=\"M1168.12,-580C1168.12,-580 992.38,-580 992.38,-580 986.38,-580 980.38,-574 980.38,-568 980.38,-568 980.38,-501.5 980.38,-501.5 980.38,-495.5 986.38,-489.5 992.38,-489.5 992.38,-489.5 1168.12,-489.5 1168.12,-489.5 1174.12,-489.5 1180.12,-495.5 1180.12,-501.5 1180.12,-501.5 1180.12,-568 1180.12,-568 1180.12,-574 1174.12,-580 1168.12,-580\"/>\n",
       "<text text-anchor=\"middle\" x=\"1080.25\" y=\"-562.7\" font-family=\"Helvetica,sans-Serif\" font-size=\"14.00\">Tool Dia. (mm) &lt;= &#45;0.707</text>\n",
       "<text text-anchor=\"middle\" x=\"1080.25\" y=\"-546.2\" font-family=\"Helvetica,sans-Serif\" font-size=\"14.00\">squared_error = 163958.726</text>\n",
       "<text text-anchor=\"middle\" x=\"1080.25\" y=\"-529.7\" font-family=\"Helvetica,sans-Serif\" font-size=\"14.00\">samples = 15</text>\n",
       "<text text-anchor=\"middle\" x=\"1080.25\" y=\"-513.2\" font-family=\"Helvetica,sans-Serif\" font-size=\"14.00\">value = [[3684.211]</text>\n",
       "<text text-anchor=\"middle\" x=\"1080.25\" y=\"-496.7\" font-family=\"Helvetica,sans-Serif\" font-size=\"14.00\">[12.632]]</text>\n",
       "</g>\n",
       "<!-- 6&#45;&gt;7 -->\n",
       "<g id=\"edge20\" class=\"edge\">\n",
       "<title>6&#45;&gt;7</title>\n",
       "<path fill=\"none\" stroke=\"black\" d=\"M1080.25,-615.65C1080.25,-607.97 1080.25,-599.89 1080.25,-591.94\"/>\n",
       "<polygon fill=\"black\" stroke=\"black\" points=\"1083.75,-591.97 1080.25,-581.97 1076.75,-591.97 1083.75,-591.97\"/>\n",
       "</g>\n",
       "<!-- 8 -->\n",
       "<g id=\"node28\" class=\"node\">\n",
       "<title>8</title>\n",
       "<path fill=\"#f3c6a6\" stroke=\"black\" d=\"M1410.12,-580C1410.12,-580 1234.38,-580 1234.38,-580 1228.38,-580 1222.38,-574 1222.38,-568 1222.38,-568 1222.38,-501.5 1222.38,-501.5 1222.38,-495.5 1228.38,-489.5 1234.38,-489.5 1234.38,-489.5 1410.12,-489.5 1410.12,-489.5 1416.12,-489.5 1422.12,-495.5 1422.12,-501.5 1422.12,-501.5 1422.12,-568 1422.12,-568 1422.12,-574 1416.12,-580 1410.12,-580\"/>\n",
       "<text text-anchor=\"middle\" x=\"1322.25\" y=\"-562.7\" font-family=\"Helvetica,sans-Serif\" font-size=\"14.00\">delta Weight &lt;= 0.87</text>\n",
       "<text text-anchor=\"middle\" x=\"1322.25\" y=\"-546.2\" font-family=\"Helvetica,sans-Serif\" font-size=\"14.00\">squared_error = 129911.906</text>\n",
       "<text text-anchor=\"middle\" x=\"1322.25\" y=\"-529.7\" font-family=\"Helvetica,sans-Serif\" font-size=\"14.00\">samples = 15</text>\n",
       "<text text-anchor=\"middle\" x=\"1322.25\" y=\"-513.2\" font-family=\"Helvetica,sans-Serif\" font-size=\"14.00\">value = [[4386.364]</text>\n",
       "<text text-anchor=\"middle\" x=\"1322.25\" y=\"-496.7\" font-family=\"Helvetica,sans-Serif\" font-size=\"14.00\">[15.682]]</text>\n",
       "</g>\n",
       "<!-- 6&#45;&gt;8 -->\n",
       "<g id=\"edge27\" class=\"edge\">\n",
       "<title>6&#45;&gt;8</title>\n",
       "<path fill=\"none\" stroke=\"black\" d=\"M1166.93,-615.65C1185.87,-605.91 1206.04,-595.54 1225.35,-585.6\"/>\n",
       "<polygon fill=\"black\" stroke=\"black\" points=\"1226.72,-588.83 1234.01,-581.15 1223.52,-582.61 1226.72,-588.83\"/>\n",
       "</g>\n",
       "<!-- 9 -->\n",
       "<g id=\"node22\" class=\"node\">\n",
       "<title>9</title>\n",
       "<path fill=\"#e78d4b\" stroke=\"black\" d=\"M970,-445.25C970,-445.25 802.5,-445.25 802.5,-445.25 796.5,-445.25 790.5,-439.25 790.5,-433.25 790.5,-433.25 790.5,-383.25 790.5,-383.25 790.5,-377.25 796.5,-371.25 802.5,-371.25 802.5,-371.25 970,-371.25 970,-371.25 976,-371.25 982,-377.25 982,-383.25 982,-383.25 982,-433.25 982,-433.25 982,-439.25 976,-445.25 970,-445.25\"/>\n",
       "<text text-anchor=\"middle\" x=\"886.25\" y=\"-427.95\" font-family=\"Helvetica,sans-Serif\" font-size=\"14.00\">squared_error = 21690.306</text>\n",
       "<text text-anchor=\"middle\" x=\"886.25\" y=\"-411.45\" font-family=\"Helvetica,sans-Serif\" font-size=\"14.00\">samples = 6</text>\n",
       "<text text-anchor=\"middle\" x=\"886.25\" y=\"-394.95\" font-family=\"Helvetica,sans-Serif\" font-size=\"14.00\">value = [[4285.714]</text>\n",
       "<text text-anchor=\"middle\" x=\"886.25\" y=\"-378.45\" font-family=\"Helvetica,sans-Serif\" font-size=\"14.00\">[12.857]]</text>\n",
       "</g>\n",
       "<!-- 7&#45;&gt;9 -->\n",
       "<g id=\"edge21\" class=\"edge\">\n",
       "<title>7&#45;&gt;9</title>\n",
       "<path fill=\"none\" stroke=\"black\" d=\"M1010.76,-489.15C991.78,-476.97 971.27,-463.81 952.48,-451.75\"/>\n",
       "<polygon fill=\"black\" stroke=\"black\" points=\"954.4,-448.83 944.1,-446.37 950.62,-454.72 954.4,-448.83\"/>\n",
       "</g>\n",
       "<!-- 10 -->\n",
       "<g id=\"node23\" class=\"node\">\n",
       "<title>10</title>\n",
       "<path fill=\"#eeab7c\" stroke=\"black\" d=\"M1180,-453.5C1180,-453.5 1012.5,-453.5 1012.5,-453.5 1006.5,-453.5 1000.5,-447.5 1000.5,-441.5 1000.5,-441.5 1000.5,-375 1000.5,-375 1000.5,-369 1006.5,-363 1012.5,-363 1012.5,-363 1180,-363 1180,-363 1186,-363 1192,-369 1192,-375 1192,-375 1192,-441.5 1192,-441.5 1192,-447.5 1186,-453.5 1180,-453.5\"/>\n",
       "<text text-anchor=\"middle\" x=\"1096.25\" y=\"-436.2\" font-family=\"Helvetica,sans-Serif\" font-size=\"14.00\">Delta W &lt;= 1.442</text>\n",
       "<text text-anchor=\"middle\" x=\"1096.25\" y=\"-419.7\" font-family=\"Helvetica,sans-Serif\" font-size=\"14.00\">squared_error = 79864.236</text>\n",
       "<text text-anchor=\"middle\" x=\"1096.25\" y=\"-403.2\" font-family=\"Helvetica,sans-Serif\" font-size=\"14.00\">samples = 9</text>\n",
       "<text text-anchor=\"middle\" x=\"1096.25\" y=\"-386.7\" font-family=\"Helvetica,sans-Serif\" font-size=\"14.00\">value = [[3333.333]</text>\n",
       "<text text-anchor=\"middle\" x=\"1096.25\" y=\"-370.2\" font-family=\"Helvetica,sans-Serif\" font-size=\"14.00\">[12.5]]</text>\n",
       "</g>\n",
       "<!-- 7&#45;&gt;10 -->\n",
       "<g id=\"edge22\" class=\"edge\">\n",
       "<title>7&#45;&gt;10</title>\n",
       "<path fill=\"none\" stroke=\"black\" d=\"M1085.98,-489.15C1086.98,-481.38 1088.03,-473.2 1089.06,-465.16\"/>\n",
       "<polygon fill=\"black\" stroke=\"black\" points=\"1092.51,-465.82 1090.31,-455.45 1085.57,-464.93 1092.51,-465.82\"/>\n",
       "</g>\n",
       "<!-- 21 -->\n",
       "<g id=\"node24\" class=\"node\">\n",
       "<title>21</title>\n",
       "<path fill=\"#e78b49\" stroke=\"black\" d=\"M986,-327C986,-327 818.5,-327 818.5,-327 812.5,-327 806.5,-321 806.5,-315 806.5,-315 806.5,-248.5 806.5,-248.5 806.5,-242.5 812.5,-236.5 818.5,-236.5 818.5,-236.5 986,-236.5 986,-236.5 992,-236.5 998,-242.5 998,-248.5 998,-248.5 998,-315 998,-315 998,-321 992,-327 986,-327\"/>\n",
       "<text text-anchor=\"middle\" x=\"902.25\" y=\"-309.7\" font-family=\"Helvetica,sans-Serif\" font-size=\"14.00\">Delta L &lt;= 0.188</text>\n",
       "<text text-anchor=\"middle\" x=\"902.25\" y=\"-293.2\" font-family=\"Helvetica,sans-Serif\" font-size=\"14.00\">squared_error = 19065.625</text>\n",
       "<text text-anchor=\"middle\" x=\"902.25\" y=\"-276.7\" font-family=\"Helvetica,sans-Serif\" font-size=\"14.00\">samples = 7</text>\n",
       "<text text-anchor=\"middle\" x=\"902.25\" y=\"-260.2\" font-family=\"Helvetica,sans-Serif\" font-size=\"14.00\">value = [[3175.0]</text>\n",
       "<text text-anchor=\"middle\" x=\"902.25\" y=\"-243.7\" font-family=\"Helvetica,sans-Serif\" font-size=\"14.00\">[12.5]]</text>\n",
       "</g>\n",
       "<!-- 10&#45;&gt;21 -->\n",
       "<g id=\"edge23\" class=\"edge\">\n",
       "<title>10&#45;&gt;21</title>\n",
       "<path fill=\"none\" stroke=\"black\" d=\"M1026.76,-362.65C1011.99,-353.18 996.3,-343.11 981.21,-333.42\"/>\n",
       "<polygon fill=\"black\" stroke=\"black\" points=\"983.49,-330.73 973.18,-328.27 979.71,-336.62 983.49,-330.73\"/>\n",
       "</g>\n",
       "<!-- 22 -->\n",
       "<g id=\"node27\" class=\"node\">\n",
       "<title>22</title>\n",
       "<path fill=\"#e68540\" stroke=\"black\" d=\"M1186.88,-318.75C1186.88,-318.75 1027.62,-318.75 1027.62,-318.75 1021.62,-318.75 1015.62,-312.75 1015.62,-306.75 1015.62,-306.75 1015.62,-256.75 1015.62,-256.75 1015.62,-250.75 1021.62,-244.75 1027.62,-244.75 1027.62,-244.75 1186.88,-244.75 1186.88,-244.75 1192.88,-244.75 1198.88,-250.75 1198.88,-256.75 1198.88,-256.75 1198.88,-306.75 1198.88,-306.75 1198.88,-312.75 1192.88,-318.75 1186.88,-318.75\"/>\n",
       "<text text-anchor=\"middle\" x=\"1107.25\" y=\"-301.45\" font-family=\"Helvetica,sans-Serif\" font-size=\"14.00\">squared_error = 7815.625</text>\n",
       "<text text-anchor=\"middle\" x=\"1107.25\" y=\"-284.95\" font-family=\"Helvetica,sans-Serif\" font-size=\"14.00\">samples = 2</text>\n",
       "<text text-anchor=\"middle\" x=\"1107.25\" y=\"-268.45\" font-family=\"Helvetica,sans-Serif\" font-size=\"14.00\">value = [[4125.0]</text>\n",
       "<text text-anchor=\"middle\" x=\"1107.25\" y=\"-251.95\" font-family=\"Helvetica,sans-Serif\" font-size=\"14.00\">[12.5]]</text>\n",
       "</g>\n",
       "<!-- 10&#45;&gt;22 -->\n",
       "<g id=\"edge26\" class=\"edge\">\n",
       "<title>10&#45;&gt;22</title>\n",
       "<path fill=\"none\" stroke=\"black\" d=\"M1100.19,-362.65C1101.12,-352.1 1102.12,-340.81 1103.06,-330.13\"/>\n",
       "<polygon fill=\"black\" stroke=\"black\" points=\"1106.53,-330.63 1103.93,-320.36 1099.56,-330.02 1106.53,-330.63\"/>\n",
       "</g>\n",
       "<!-- 33 -->\n",
       "<g id=\"node25\" class=\"node\">\n",
       "<title>33</title>\n",
       "<path fill=\"#e58139\" stroke=\"black\" d=\"M940.25,-192.25C940.25,-192.25 822.25,-192.25 822.25,-192.25 816.25,-192.25 810.25,-186.25 810.25,-180.25 810.25,-180.25 810.25,-130.25 810.25,-130.25 810.25,-124.25 816.25,-118.25 822.25,-118.25 822.25,-118.25 940.25,-118.25 940.25,-118.25 946.25,-118.25 952.25,-124.25 952.25,-130.25 952.25,-130.25 952.25,-180.25 952.25,-180.25 952.25,-186.25 946.25,-192.25 940.25,-192.25\"/>\n",
       "<text text-anchor=\"middle\" x=\"881.25\" y=\"-174.95\" font-family=\"Helvetica,sans-Serif\" font-size=\"14.00\">squared_error = 0.0</text>\n",
       "<text text-anchor=\"middle\" x=\"881.25\" y=\"-158.45\" font-family=\"Helvetica,sans-Serif\" font-size=\"14.00\">samples = 1</text>\n",
       "<text text-anchor=\"middle\" x=\"881.25\" y=\"-141.95\" font-family=\"Helvetica,sans-Serif\" font-size=\"14.00\">value = [[3500.0]</text>\n",
       "<text text-anchor=\"middle\" x=\"881.25\" y=\"-125.45\" font-family=\"Helvetica,sans-Serif\" font-size=\"14.00\">[10.0]]</text>\n",
       "</g>\n",
       "<!-- 21&#45;&gt;33 -->\n",
       "<g id=\"edge24\" class=\"edge\">\n",
       "<title>21&#45;&gt;33</title>\n",
       "<path fill=\"none\" stroke=\"black\" d=\"M894.73,-236.15C892.95,-225.6 891.04,-214.31 889.24,-203.63\"/>\n",
       "<polygon fill=\"black\" stroke=\"black\" points=\"892.71,-203.13 887.59,-193.85 885.8,-204.29 892.71,-203.13\"/>\n",
       "</g>\n",
       "<!-- 34 -->\n",
       "<g id=\"node26\" class=\"node\">\n",
       "<title>34</title>\n",
       "<path fill=\"#e6853f\" stroke=\"black\" d=\"M1141.88,-192.25C1141.88,-192.25 982.62,-192.25 982.62,-192.25 976.62,-192.25 970.62,-186.25 970.62,-180.25 970.62,-180.25 970.62,-130.25 970.62,-130.25 970.62,-124.25 976.62,-118.25 982.62,-118.25 982.62,-118.25 1141.88,-118.25 1141.88,-118.25 1147.88,-118.25 1153.88,-124.25 1153.88,-130.25 1153.88,-130.25 1153.88,-180.25 1153.88,-180.25 1153.88,-186.25 1147.88,-192.25 1141.88,-192.25\"/>\n",
       "<text text-anchor=\"middle\" x=\"1062.25\" y=\"-174.95\" font-family=\"Helvetica,sans-Serif\" font-size=\"14.00\">squared_error = 7327.148</text>\n",
       "<text text-anchor=\"middle\" x=\"1062.25\" y=\"-158.45\" font-family=\"Helvetica,sans-Serif\" font-size=\"14.00\">samples = 6</text>\n",
       "<text text-anchor=\"middle\" x=\"1062.25\" y=\"-141.95\" font-family=\"Helvetica,sans-Serif\" font-size=\"14.00\">value = [[3093.75]</text>\n",
       "<text text-anchor=\"middle\" x=\"1062.25\" y=\"-125.45\" font-family=\"Helvetica,sans-Serif\" font-size=\"14.00\">[13.125]]</text>\n",
       "</g>\n",
       "<!-- 21&#45;&gt;34 -->\n",
       "<g id=\"edge25\" class=\"edge\">\n",
       "<title>21&#45;&gt;34</title>\n",
       "<path fill=\"none\" stroke=\"black\" d=\"M959.56,-236.15C974.93,-224.2 991.51,-211.29 1006.78,-199.42\"/>\n",
       "<polygon fill=\"black\" stroke=\"black\" points=\"1008.66,-202.39 1014.4,-193.48 1004.36,-196.86 1008.66,-202.39\"/>\n",
       "</g>\n",
       "<!-- 11 -->\n",
       "<g id=\"node29\" class=\"node\">\n",
       "<title>11</title>\n",
       "<path fill=\"#eeab7b\" stroke=\"black\" d=\"M1406,-453.5C1406,-453.5 1238.5,-453.5 1238.5,-453.5 1232.5,-453.5 1226.5,-447.5 1226.5,-441.5 1226.5,-441.5 1226.5,-375 1226.5,-375 1226.5,-369 1232.5,-363 1238.5,-363 1238.5,-363 1406,-363 1406,-363 1412,-363 1418,-369 1418,-375 1418,-375 1418,-441.5 1418,-441.5 1418,-447.5 1412,-453.5 1406,-453.5\"/>\n",
       "<text text-anchor=\"middle\" x=\"1322.25\" y=\"-436.2\" font-family=\"Helvetica,sans-Serif\" font-size=\"14.00\">Wi &lt;= 0.561</text>\n",
       "<text text-anchor=\"middle\" x=\"1322.25\" y=\"-419.7\" font-family=\"Helvetica,sans-Serif\" font-size=\"14.00\">squared_error = 79084.184</text>\n",
       "<text text-anchor=\"middle\" x=\"1322.25\" y=\"-403.2\" font-family=\"Helvetica,sans-Serif\" font-size=\"14.00\">samples = 8</text>\n",
       "<text text-anchor=\"middle\" x=\"1322.25\" y=\"-386.7\" font-family=\"Helvetica,sans-Serif\" font-size=\"14.00\">value = [[4642.857]</text>\n",
       "<text text-anchor=\"middle\" x=\"1322.25\" y=\"-370.2\" font-family=\"Helvetica,sans-Serif\" font-size=\"14.00\">[16.429]]</text>\n",
       "</g>\n",
       "<!-- 8&#45;&gt;11 -->\n",
       "<g id=\"edge28\" class=\"edge\">\n",
       "<title>8&#45;&gt;11</title>\n",
       "<path fill=\"none\" stroke=\"black\" d=\"M1322.25,-489.15C1322.25,-481.47 1322.25,-473.39 1322.25,-465.44\"/>\n",
       "<polygon fill=\"black\" stroke=\"black\" points=\"1325.75,-465.47 1322.25,-455.47 1318.75,-465.47 1325.75,-465.47\"/>\n",
       "</g>\n",
       "<!-- 12 -->\n",
       "<g id=\"node34\" class=\"node\">\n",
       "<title>12</title>\n",
       "<path fill=\"#eca16c\" stroke=\"black\" d=\"M1794,-453.5C1794,-453.5 1626.5,-453.5 1626.5,-453.5 1620.5,-453.5 1614.5,-447.5 1614.5,-441.5 1614.5,-441.5 1614.5,-375 1614.5,-375 1614.5,-369 1620.5,-363 1626.5,-363 1626.5,-363 1794,-363 1794,-363 1800,-363 1806,-369 1806,-375 1806,-375 1806,-441.5 1806,-441.5 1806,-447.5 1800,-453.5 1794,-453.5\"/>\n",
       "<text text-anchor=\"middle\" x=\"1710.25\" y=\"-436.2\" font-family=\"Helvetica,sans-Serif\" font-size=\"14.00\">Delta W &lt;= 1.242</text>\n",
       "<text text-anchor=\"middle\" x=\"1710.25\" y=\"-419.7\" font-family=\"Helvetica,sans-Serif\" font-size=\"14.00\">squared_error = 60554.492</text>\n",
       "<text text-anchor=\"middle\" x=\"1710.25\" y=\"-403.2\" font-family=\"Helvetica,sans-Serif\" font-size=\"14.00\">samples = 7</text>\n",
       "<text text-anchor=\"middle\" x=\"1710.25\" y=\"-386.7\" font-family=\"Helvetica,sans-Serif\" font-size=\"14.00\">value = [[3937.5]</text>\n",
       "<text text-anchor=\"middle\" x=\"1710.25\" y=\"-370.2\" font-family=\"Helvetica,sans-Serif\" font-size=\"14.00\">[14.375]]</text>\n",
       "</g>\n",
       "<!-- 8&#45;&gt;12 -->\n",
       "<g id=\"edge33\" class=\"edge\">\n",
       "<title>8&#45;&gt;12</title>\n",
       "<path fill=\"none\" stroke=\"black\" d=\"M1422.42,-501.61C1477.9,-483.81 1546.86,-461.68 1603.37,-443.54\"/>\n",
       "<polygon fill=\"black\" stroke=\"black\" points=\"1604.24,-446.94 1612.7,-440.55 1602.11,-440.28 1604.24,-446.94\"/>\n",
       "</g>\n",
       "<!-- 19 -->\n",
       "<g id=\"node30\" class=\"node\">\n",
       "<title>19</title>\n",
       "<path fill=\"#e68743\" stroke=\"black\" d=\"M1396,-318.75C1396,-318.75 1228.5,-318.75 1228.5,-318.75 1222.5,-318.75 1216.5,-312.75 1216.5,-306.75 1216.5,-306.75 1216.5,-256.75 1216.5,-256.75 1216.5,-250.75 1222.5,-244.75 1228.5,-244.75 1228.5,-244.75 1396,-244.75 1396,-244.75 1402,-244.75 1408,-250.75 1408,-256.75 1408,-256.75 1408,-306.75 1408,-306.75 1408,-312.75 1402,-318.75 1396,-318.75\"/>\n",
       "<text text-anchor=\"middle\" x=\"1312.25\" y=\"-301.45\" font-family=\"Helvetica,sans-Serif\" font-size=\"14.00\">squared_error = 11883.058</text>\n",
       "<text text-anchor=\"middle\" x=\"1312.25\" y=\"-284.95\" font-family=\"Helvetica,sans-Serif\" font-size=\"14.00\">samples = 6</text>\n",
       "<text text-anchor=\"middle\" x=\"1312.25\" y=\"-268.45\" font-family=\"Helvetica,sans-Serif\" font-size=\"14.00\">value = [[4818.182]</text>\n",
       "<text text-anchor=\"middle\" x=\"1312.25\" y=\"-251.95\" font-family=\"Helvetica,sans-Serif\" font-size=\"14.00\">[16.818]]</text>\n",
       "</g>\n",
       "<!-- 11&#45;&gt;19 -->\n",
       "<g id=\"edge29\" class=\"edge\">\n",
       "<title>11&#45;&gt;19</title>\n",
       "<path fill=\"none\" stroke=\"black\" d=\"M1318.67,-362.65C1317.82,-352.1 1316.91,-340.81 1316.06,-330.13\"/>\n",
       "<polygon fill=\"black\" stroke=\"black\" points=\"1319.56,-330.05 1315.27,-320.36 1312.58,-330.61 1319.56,-330.05\"/>\n",
       "</g>\n",
       "<!-- 20 -->\n",
       "<g id=\"node31\" class=\"node\">\n",
       "<title>20</title>\n",
       "<path fill=\"#eca26d\" stroke=\"black\" d=\"M1588.75,-327C1588.75,-327 1437.75,-327 1437.75,-327 1431.75,-327 1425.75,-321 1425.75,-315 1425.75,-315 1425.75,-248.5 1425.75,-248.5 1425.75,-242.5 1431.75,-236.5 1437.75,-236.5 1437.75,-236.5 1588.75,-236.5 1588.75,-236.5 1594.75,-236.5 1600.75,-242.5 1600.75,-248.5 1600.75,-248.5 1600.75,-315 1600.75,-315 1600.75,-321 1594.75,-327 1588.75,-327\"/>\n",
       "<text text-anchor=\"middle\" x=\"1513.25\" y=\"-309.7\" font-family=\"Helvetica,sans-Serif\" font-size=\"14.00\">Wf &lt;= 0.699</text>\n",
       "<text text-anchor=\"middle\" x=\"1513.25\" y=\"-293.2\" font-family=\"Helvetica,sans-Serif\" font-size=\"14.00\">squared_error = 62500.0</text>\n",
       "<text text-anchor=\"middle\" x=\"1513.25\" y=\"-276.7\" font-family=\"Helvetica,sans-Serif\" font-size=\"14.00\">samples = 2</text>\n",
       "<text text-anchor=\"middle\" x=\"1513.25\" y=\"-260.2\" font-family=\"Helvetica,sans-Serif\" font-size=\"14.00\">value = [[4000.0]</text>\n",
       "<text text-anchor=\"middle\" x=\"1513.25\" y=\"-243.7\" font-family=\"Helvetica,sans-Serif\" font-size=\"14.00\">[15.0]]</text>\n",
       "</g>\n",
       "<!-- 11&#45;&gt;20 -->\n",
       "<g id=\"edge30\" class=\"edge\">\n",
       "<title>11&#45;&gt;20</title>\n",
       "<path fill=\"none\" stroke=\"black\" d=\"M1390.67,-362.65C1405.07,-353.27 1420.36,-343.3 1435.09,-333.7\"/>\n",
       "<polygon fill=\"black\" stroke=\"black\" points=\"1436.94,-336.67 1443.4,-328.28 1433.11,-330.81 1436.94,-336.67\"/>\n",
       "</g>\n",
       "<!-- 25 -->\n",
       "<g id=\"node32\" class=\"node\">\n",
       "<title>25</title>\n",
       "<path fill=\"#e58139\" stroke=\"black\" d=\"M1421.25,-192.25C1421.25,-192.25 1303.25,-192.25 1303.25,-192.25 1297.25,-192.25 1291.25,-186.25 1291.25,-180.25 1291.25,-180.25 1291.25,-130.25 1291.25,-130.25 1291.25,-124.25 1297.25,-118.25 1303.25,-118.25 1303.25,-118.25 1421.25,-118.25 1421.25,-118.25 1427.25,-118.25 1433.25,-124.25 1433.25,-130.25 1433.25,-130.25 1433.25,-180.25 1433.25,-180.25 1433.25,-186.25 1427.25,-192.25 1421.25,-192.25\"/>\n",
       "<text text-anchor=\"middle\" x=\"1362.25\" y=\"-174.95\" font-family=\"Helvetica,sans-Serif\" font-size=\"14.00\">squared_error = 0.0</text>\n",
       "<text text-anchor=\"middle\" x=\"1362.25\" y=\"-158.45\" font-family=\"Helvetica,sans-Serif\" font-size=\"14.00\">samples = 1</text>\n",
       "<text text-anchor=\"middle\" x=\"1362.25\" y=\"-141.95\" font-family=\"Helvetica,sans-Serif\" font-size=\"14.00\">value = [[4250.0]</text>\n",
       "<text text-anchor=\"middle\" x=\"1362.25\" y=\"-125.45\" font-family=\"Helvetica,sans-Serif\" font-size=\"14.00\">[15.0]]</text>\n",
       "</g>\n",
       "<!-- 20&#45;&gt;25 -->\n",
       "<g id=\"edge31\" class=\"edge\">\n",
       "<title>20&#45;&gt;25</title>\n",
       "<path fill=\"none\" stroke=\"black\" d=\"M1459.16,-236.15C1444.73,-224.25 1429.15,-211.41 1414.8,-199.58\"/>\n",
       "<polygon fill=\"black\" stroke=\"black\" points=\"1417.15,-196.98 1407.21,-193.32 1412.7,-202.38 1417.15,-196.98\"/>\n",
       "</g>\n",
       "<!-- 26 -->\n",
       "<g id=\"node33\" class=\"node\">\n",
       "<title>26</title>\n",
       "<path fill=\"#e58139\" stroke=\"black\" d=\"M1581.25,-192.25C1581.25,-192.25 1463.25,-192.25 1463.25,-192.25 1457.25,-192.25 1451.25,-186.25 1451.25,-180.25 1451.25,-180.25 1451.25,-130.25 1451.25,-130.25 1451.25,-124.25 1457.25,-118.25 1463.25,-118.25 1463.25,-118.25 1581.25,-118.25 1581.25,-118.25 1587.25,-118.25 1593.25,-124.25 1593.25,-130.25 1593.25,-130.25 1593.25,-180.25 1593.25,-180.25 1593.25,-186.25 1587.25,-192.25 1581.25,-192.25\"/>\n",
       "<text text-anchor=\"middle\" x=\"1522.25\" y=\"-174.95\" font-family=\"Helvetica,sans-Serif\" font-size=\"14.00\">squared_error = 0.0</text>\n",
       "<text text-anchor=\"middle\" x=\"1522.25\" y=\"-158.45\" font-family=\"Helvetica,sans-Serif\" font-size=\"14.00\">samples = 1</text>\n",
       "<text text-anchor=\"middle\" x=\"1522.25\" y=\"-141.95\" font-family=\"Helvetica,sans-Serif\" font-size=\"14.00\">value = [[3500.0]</text>\n",
       "<text text-anchor=\"middle\" x=\"1522.25\" y=\"-125.45\" font-family=\"Helvetica,sans-Serif\" font-size=\"14.00\">[15.0]]</text>\n",
       "</g>\n",
       "<!-- 20&#45;&gt;26 -->\n",
       "<g id=\"edge32\" class=\"edge\">\n",
       "<title>20&#45;&gt;26</title>\n",
       "<path fill=\"none\" stroke=\"black\" d=\"M1516.47,-236.15C1517.24,-225.6 1518.05,-214.31 1518.82,-203.63\"/>\n",
       "<polygon fill=\"black\" stroke=\"black\" points=\"1522.3,-204.09 1519.53,-193.87 1515.32,-203.59 1522.3,-204.09\"/>\n",
       "</g>\n",
       "<!-- 27 -->\n",
       "<g id=\"node35\" class=\"node\">\n",
       "<title>27</title>\n",
       "<path fill=\"#ea985d\" stroke=\"black\" d=\"M1789.88,-327C1789.88,-327 1630.62,-327 1630.62,-327 1624.62,-327 1618.62,-321 1618.62,-315 1618.62,-315 1618.62,-248.5 1618.62,-248.5 1618.62,-242.5 1624.62,-236.5 1630.62,-236.5 1630.62,-236.5 1789.88,-236.5 1789.88,-236.5 1795.88,-236.5 1801.88,-242.5 1801.88,-248.5 1801.88,-248.5 1801.88,-315 1801.88,-315 1801.88,-321 1795.88,-327 1789.88,-327\"/>\n",
       "<text text-anchor=\"middle\" x=\"1710.25\" y=\"-309.7\" font-family=\"Helvetica,sans-Serif\" font-size=\"14.00\">Wi &lt;= &#45;1.515</text>\n",
       "<text text-anchor=\"middle\" x=\"1710.25\" y=\"-293.2\" font-family=\"Helvetica,sans-Serif\" font-size=\"14.00\">squared_error = 43374.49</text>\n",
       "<text text-anchor=\"middle\" x=\"1710.25\" y=\"-276.7\" font-family=\"Helvetica,sans-Serif\" font-size=\"14.00\">samples = 6</text>\n",
       "<text text-anchor=\"middle\" x=\"1710.25\" y=\"-260.2\" font-family=\"Helvetica,sans-Serif\" font-size=\"14.00\">value = [[3857.143]</text>\n",
       "<text text-anchor=\"middle\" x=\"1710.25\" y=\"-243.7\" font-family=\"Helvetica,sans-Serif\" font-size=\"14.00\">[15.0]]</text>\n",
       "</g>\n",
       "<!-- 12&#45;&gt;27 -->\n",
       "<g id=\"edge34\" class=\"edge\">\n",
       "<title>12&#45;&gt;27</title>\n",
       "<path fill=\"none\" stroke=\"black\" d=\"M1710.25,-362.65C1710.25,-354.97 1710.25,-346.89 1710.25,-338.94\"/>\n",
       "<polygon fill=\"black\" stroke=\"black\" points=\"1713.75,-338.97 1710.25,-328.97 1706.75,-338.97 1713.75,-338.97\"/>\n",
       "</g>\n",
       "<!-- 28 -->\n",
       "<g id=\"node38\" class=\"node\">\n",
       "<title>28</title>\n",
       "<path fill=\"#e58139\" stroke=\"black\" d=\"M1950.25,-318.75C1950.25,-318.75 1832.25,-318.75 1832.25,-318.75 1826.25,-318.75 1820.25,-312.75 1820.25,-306.75 1820.25,-306.75 1820.25,-256.75 1820.25,-256.75 1820.25,-250.75 1826.25,-244.75 1832.25,-244.75 1832.25,-244.75 1950.25,-244.75 1950.25,-244.75 1956.25,-244.75 1962.25,-250.75 1962.25,-256.75 1962.25,-256.75 1962.25,-306.75 1962.25,-306.75 1962.25,-312.75 1956.25,-318.75 1950.25,-318.75\"/>\n",
       "<text text-anchor=\"middle\" x=\"1891.25\" y=\"-301.45\" font-family=\"Helvetica,sans-Serif\" font-size=\"14.00\">squared_error = 0.0</text>\n",
       "<text text-anchor=\"middle\" x=\"1891.25\" y=\"-284.95\" font-family=\"Helvetica,sans-Serif\" font-size=\"14.00\">samples = 1</text>\n",
       "<text text-anchor=\"middle\" x=\"1891.25\" y=\"-268.45\" font-family=\"Helvetica,sans-Serif\" font-size=\"14.00\">value = [[4500.0]</text>\n",
       "<text text-anchor=\"middle\" x=\"1891.25\" y=\"-251.95\" font-family=\"Helvetica,sans-Serif\" font-size=\"14.00\">[10.0]]</text>\n",
       "</g>\n",
       "<!-- 12&#45;&gt;28 -->\n",
       "<g id=\"edge37\" class=\"edge\">\n",
       "<title>12&#45;&gt;28</title>\n",
       "<path fill=\"none\" stroke=\"black\" d=\"M1775.08,-362.65C1792.79,-350.47 1811.93,-337.31 1829.46,-325.25\"/>\n",
       "<polygon fill=\"black\" stroke=\"black\" points=\"1830.97,-328.46 1837.22,-319.91 1827,-322.7 1830.97,-328.46\"/>\n",
       "</g>\n",
       "<!-- 29 -->\n",
       "<g id=\"node36\" class=\"node\">\n",
       "<title>29</title>\n",
       "<path fill=\"#e58139\" stroke=\"black\" d=\"M1759.25,-192.25C1759.25,-192.25 1641.25,-192.25 1641.25,-192.25 1635.25,-192.25 1629.25,-186.25 1629.25,-180.25 1629.25,-180.25 1629.25,-130.25 1629.25,-130.25 1629.25,-124.25 1635.25,-118.25 1641.25,-118.25 1641.25,-118.25 1759.25,-118.25 1759.25,-118.25 1765.25,-118.25 1771.25,-124.25 1771.25,-130.25 1771.25,-130.25 1771.25,-180.25 1771.25,-180.25 1771.25,-186.25 1765.25,-192.25 1759.25,-192.25\"/>\n",
       "<text text-anchor=\"middle\" x=\"1700.25\" y=\"-174.95\" font-family=\"Helvetica,sans-Serif\" font-size=\"14.00\">squared_error = 0.0</text>\n",
       "<text text-anchor=\"middle\" x=\"1700.25\" y=\"-158.45\" font-family=\"Helvetica,sans-Serif\" font-size=\"14.00\">samples = 1</text>\n",
       "<text text-anchor=\"middle\" x=\"1700.25\" y=\"-141.95\" font-family=\"Helvetica,sans-Serif\" font-size=\"14.00\">value = [[4500.0]</text>\n",
       "<text text-anchor=\"middle\" x=\"1700.25\" y=\"-125.45\" font-family=\"Helvetica,sans-Serif\" font-size=\"14.00\">[15.0]]</text>\n",
       "</g>\n",
       "<!-- 27&#45;&gt;29 -->\n",
       "<g id=\"edge35\" class=\"edge\">\n",
       "<title>27&#45;&gt;29</title>\n",
       "<path fill=\"none\" stroke=\"black\" d=\"M1706.67,-236.15C1705.82,-225.6 1704.91,-214.31 1704.06,-203.63\"/>\n",
       "<polygon fill=\"black\" stroke=\"black\" points=\"1707.56,-203.55 1703.27,-193.86 1700.58,-204.11 1707.56,-203.55\"/>\n",
       "</g>\n",
       "<!-- 30 -->\n",
       "<g id=\"node37\" class=\"node\">\n",
       "<title>30</title>\n",
       "<path fill=\"#e68742\" stroke=\"black\" d=\"M1952.75,-192.25C1952.75,-192.25 1801.75,-192.25 1801.75,-192.25 1795.75,-192.25 1789.75,-186.25 1789.75,-180.25 1789.75,-180.25 1789.75,-130.25 1789.75,-130.25 1789.75,-124.25 1795.75,-118.25 1801.75,-118.25 1801.75,-118.25 1952.75,-118.25 1952.75,-118.25 1958.75,-118.25 1964.75,-124.25 1964.75,-130.25 1964.75,-130.25 1964.75,-180.25 1964.75,-180.25 1964.75,-186.25 1958.75,-192.25 1952.75,-192.25\"/>\n",
       "<text text-anchor=\"middle\" x=\"1877.25\" y=\"-174.95\" font-family=\"Helvetica,sans-Serif\" font-size=\"14.00\">squared_error = 10425.0</text>\n",
       "<text text-anchor=\"middle\" x=\"1877.25\" y=\"-158.45\" font-family=\"Helvetica,sans-Serif\" font-size=\"14.00\">samples = 5</text>\n",
       "<text text-anchor=\"middle\" x=\"1877.25\" y=\"-141.95\" font-family=\"Helvetica,sans-Serif\" font-size=\"14.00\">value = [[3750.0]</text>\n",
       "<text text-anchor=\"middle\" x=\"1877.25\" y=\"-125.45\" font-family=\"Helvetica,sans-Serif\" font-size=\"14.00\">[15.0]]</text>\n",
       "</g>\n",
       "<!-- 27&#45;&gt;30 -->\n",
       "<g id=\"edge36\" class=\"edge\">\n",
       "<title>27&#45;&gt;30</title>\n",
       "<path fill=\"none\" stroke=\"black\" d=\"M1770.07,-236.15C1786.11,-224.2 1803.42,-211.29 1819.35,-199.42\"/>\n",
       "<polygon fill=\"black\" stroke=\"black\" points=\"1821.41,-202.24 1827.34,-193.46 1817.23,-196.63 1821.41,-202.24\"/>\n",
       "</g>\n",
       "</g>\n",
       "</svg>\n"
      ],
      "text/plain": [
       "<graphviz.sources.Source at 0x1b13d06c090>"
      ]
     },
     "execution_count": 25,
     "metadata": {},
     "output_type": "execute_result"
    }
   ],
   "source": [
    "from sklearn.tree import export_graphviz\n",
    "import graphviz\n",
    "export_graphviz(estimator, out_file='tree.dot', feature_names=features_name, class_names=target_name, filled=True, rounded=True)\n",
    "with open('./tree.dot') as f:\n",
    "    dot_graph = f.read()\n",
    "graphviz.Source(dot_graph)"
   ]
  },
  {
   "cell_type": "code",
   "execution_count": 26,
   "metadata": {},
   "outputs": [
    {
     "data": {
      "text/plain": [
       "0"
      ]
     },
     "execution_count": 26,
     "metadata": {},
     "output_type": "execute_result"
    }
   ],
   "source": [
    "from subprocess import call\n",
    "call(['dot', '-Tpng', './tree.dot', '-o', 'tree.png', '-Gdpi=600'])"
   ]
  },
  {
   "cell_type": "code",
   "execution_count": 27,
   "metadata": {},
   "outputs": [
    {
     "data": {
      "image/png": "[encoded data removed]",
      "text/plain": [
       "<Figure size 800x600 with 1 Axes>"
      ]
     },
     "metadata": {},
     "output_type": "display_data"
    }
   ],
   "source": [
    "importances = rf_model.named_steps['Random Forest'].feature_importances_\n",
    "plt.figure(figsize=(8, 6))\n",
    "plt.barh(features_name, importances)\n",
    "plt.xlabel('Feature Importance')\n",
    "plt.ylabel('Features')\n",
    "plt.title('Random Forest Feature Importance')\n",
    "plt.show()"
   ]
  },
  {
   "cell_type": "markdown",
   "metadata": {},
   "source": [
    "## Performance Testing"
   ]
  },
  {
   "cell_type": "markdown",
   "metadata": {},
   "source": [
    "### 2. Random Forest Performance"
   ]
  },
  {
   "cell_type": "code",
   "execution_count": 33,
   "metadata": {},
   "outputs": [
    {
     "name": "stdout",
     "output_type": "stream",
     "text": [
      "Scores: [ 80.85009719 125.45876538 465.46292877 172.70287953 254.94188945\n",
      " 357.41008318 510.16780961 166.71497446 326.04354602 303.58253597\n",
      " 191.62423056 232.72958721 516.11419641 214.84516476 148.87247776\n",
      " 304.09561397 552.73532201 523.15232188 366.1210533  100.30211633\n",
      " 206.98310865 366.02365649 315.95196629 273.02289318 167.3815202\n",
      " 257.49167765 166.71116966 312.75882692 387.58741383  30.48751636]\n",
      "Mean: 279.9442447652474\n",
      "Standard deviation: 136.6981852971556\n"
     ]
    }
   ],
   "source": [
    "from performace_checking import Performance_testing\n",
    "Performance_testing(rf_model, X_train,y_train, 10)"
   ]
  },
  {
   "cell_type": "markdown",
   "metadata": {},
   "source": [
    "## Model Optimization"
   ]
  },
  {
   "cell_type": "markdown",
   "metadata": {},
   "source": [
    "### 1. For Linear Regression"
   ]
  },
  {
   "cell_type": "code",
   "execution_count": null,
   "metadata": {},
   "outputs": [],
   "source": []
  },
  {
   "cell_type": "markdown",
   "metadata": {},
   "source": [
    "### 2. For Random Forest"
   ]
  },
  {
   "cell_type": "code",
   "execution_count": 36,
   "metadata": {},
   "outputs": [],
   "source": [
    "from sklearn.model_selection import RandomizedSearchCV\n",
    "random_grid = {\n",
    "    \"bootstrap\":[True],\n",
    "    \"n_estimators\":[300, 350, 400, 450, 500, 550, 600],\n",
    "    \"max_depth\":[10, 20, 30, 40, 50, 60, 70, 80, 90, 100, None],\n",
    "    \"max_features\":[\"auto\",\"sqrt\"],\n",
    "    \"min_samples_leaf\":[1, 2, 4],\n",
    "    \"min_samples_split\":[2, 5, 10],\n",
    "}\n",
    "rnd_new = RandomForestRegressor()\n",
    "rnd_search = RandomizedSearchCV(rnd_new, param_distributions=random_grid,cv=10,n_jobs=2,random_state=42)\n"
   ]
  },
  {
   "cell_type": "code",
   "execution_count": 37,
   "metadata": {},
   "outputs": [
    {
     "name": "stderr",
     "output_type": "stream",
     "text": [
      "f:\\Projects\\Micromilling_process_optimisation\\.venv\\Lib\\site-packages\\sklearn\\model_selection\\_validation.py:425: FitFailedWarning: \n",
      "20 fits failed out of a total of 100.\n",
      "The score on these train-test partitions for these parameters will be set to nan.\n",
      "If these failures are not expected, you can try to debug them by setting error_score='raise'.\n",
      "\n",
      "Below are more details about the failures:\n",
      "--------------------------------------------------------------------------------\n",
      "16 fits failed with the following error:\n",
      "Traceback (most recent call last):\n",
      "  File \"f:\\Projects\\Micromilling_process_optimisation\\.venv\\Lib\\site-packages\\sklearn\\model_selection\\_validation.py\", line 729, in _fit_and_score\n",
      "    estimator.fit(X_train, y_train, **fit_params)\n",
      "  File \"f:\\Projects\\Micromilling_process_optimisation\\.venv\\Lib\\site-packages\\sklearn\\base.py\", line 1145, in wrapper\n",
      "    estimator._validate_params()\n",
      "  File \"f:\\Projects\\Micromilling_process_optimisation\\.venv\\Lib\\site-packages\\sklearn\\base.py\", line 638, in _validate_params\n",
      "    validate_parameter_constraints(\n",
      "  File \"f:\\Projects\\Micromilling_process_optimisation\\.venv\\Lib\\site-packages\\sklearn\\utils\\_param_validation.py\", line 96, in validate_parameter_constraints\n",
      "    raise InvalidParameterError(\n",
      "sklearn.utils._param_validation.InvalidParameterError: The 'max_features' parameter of RandomForestRegressor must be an int in the range [1, inf), a float in the range (0.0, 1.0], a str among {'sqrt', 'log2'} or None. Got 'auto' instead.\n",
      "\n",
      "--------------------------------------------------------------------------------\n",
      "4 fits failed with the following error:\n",
      "Traceback (most recent call last):\n",
      "  File \"f:\\Projects\\Micromilling_process_optimisation\\.venv\\Lib\\site-packages\\sklearn\\model_selection\\_validation.py\", line 729, in _fit_and_score\n",
      "    estimator.fit(X_train, y_train, **fit_params)\n",
      "  File \"f:\\Projects\\Micromilling_process_optimisation\\.venv\\Lib\\site-packages\\sklearn\\base.py\", line 1145, in wrapper\n",
      "    estimator._validate_params()\n",
      "  File \"f:\\Projects\\Micromilling_process_optimisation\\.venv\\Lib\\site-packages\\sklearn\\base.py\", line 638, in _validate_params\n",
      "    validate_parameter_constraints(\n",
      "  File \"f:\\Projects\\Micromilling_process_optimisation\\.venv\\Lib\\site-packages\\sklearn\\utils\\_param_validation.py\", line 96, in validate_parameter_constraints\n",
      "    raise InvalidParameterError(\n",
      "sklearn.utils._param_validation.InvalidParameterError: The 'max_features' parameter of RandomForestRegressor must be an int in the range [1, inf), a float in the range (0.0, 1.0], a str among {'log2', 'sqrt'} or None. Got 'auto' instead.\n",
      "\n",
      "  warnings.warn(some_fits_failed_message, FitFailedWarning)\n",
      "f:\\Projects\\Micromilling_process_optimisation\\.venv\\Lib\\site-packages\\sklearn\\model_selection\\_search.py:979: UserWarning: One or more of the test scores are non-finite: [-0.05855728 -0.04331452         nan -0.0950239   0.14790644         nan\n",
      " -0.08962568  0.15896469 -0.04616369 -0.03979375]\n",
      "  warnings.warn(\n"
     ]
    },
    {
     "data": {
      "text/html": [
       "<style>#sk-container-id-1 {color: black;}#sk-container-id-1 pre{padding: 0;}#sk-container-id-1 div.sk-toggleable {background-color: white;}#sk-container-id-1 label.sk-toggleable__label {cursor: pointer;display: block;width: 100%;margin-bottom: 0;padding: 0.3em;box-sizing: border-box;text-align: center;}#sk-container-id-1 label.sk-toggleable__label-arrow:before {content: \"▸\";float: left;margin-right: 0.25em;color: #696969;}#sk-container-id-1 label.sk-toggleable__label-arrow:hover:before {color: black;}#sk-container-id-1 div.sk-estimator:hover label.sk-toggleable__label-arrow:before {color: black;}#sk-container-id-1 div.sk-toggleable__content {max-height: 0;max-width: 0;overflow: hidden;text-align: left;background-color: #f0f8ff;}#sk-container-id-1 div.sk-toggleable__content pre {margin: 0.2em;color: black;border-radius: 0.25em;background-color: #f0f8ff;}#sk-container-id-1 input.sk-toggleable__control:checked~div.sk-toggleable__content {max-height: 200px;max-width: 100%;overflow: auto;}#sk-container-id-1 input.sk-toggleable__control:checked~label.sk-toggleable__label-arrow:before {content: \"▾\";}#sk-container-id-1 div.sk-estimator input.sk-toggleable__control:checked~label.sk-toggleable__label {background-color: #d4ebff;}#sk-container-id-1 div.sk-label input.sk-toggleable__control:checked~label.sk-toggleable__label {background-color: #d4ebff;}#sk-container-id-1 input.sk-hidden--visually {border: 0;clip: rect(1px 1px 1px 1px);clip: rect(1px, 1px, 1px, 1px);height: 1px;margin: -1px;overflow: hidden;padding: 0;position: absolute;width: 1px;}#sk-container-id-1 div.sk-estimator {font-family: monospace;background-color: #f0f8ff;border: 1px dotted black;border-radius: 0.25em;box-sizing: border-box;margin-bottom: 0.5em;}#sk-container-id-1 div.sk-estimator:hover {background-color: #d4ebff;}#sk-container-id-1 div.sk-parallel-item::after {content: \"\";width: 100%;border-bottom: 1px solid gray;flex-grow: 1;}#sk-container-id-1 div.sk-label:hover label.sk-toggleable__label {background-color: #d4ebff;}#sk-container-id-1 div.sk-serial::before {content: \"\";position: absolute;border-left: 1px solid gray;box-sizing: border-box;top: 0;bottom: 0;left: 50%;z-index: 0;}#sk-container-id-1 div.sk-serial {display: flex;flex-direction: column;align-items: center;background-color: white;padding-right: 0.2em;padding-left: 0.2em;position: relative;}#sk-container-id-1 div.sk-item {position: relative;z-index: 1;}#sk-container-id-1 div.sk-parallel {display: flex;align-items: stretch;justify-content: center;background-color: white;position: relative;}#sk-container-id-1 div.sk-item::before, #sk-container-id-1 div.sk-parallel-item::before {content: \"\";position: absolute;border-left: 1px solid gray;box-sizing: border-box;top: 0;bottom: 0;left: 50%;z-index: -1;}#sk-container-id-1 div.sk-parallel-item {display: flex;flex-direction: column;z-index: 1;position: relative;background-color: white;}#sk-container-id-1 div.sk-parallel-item:first-child::after {align-self: flex-end;width: 50%;}#sk-container-id-1 div.sk-parallel-item:last-child::after {align-self: flex-start;width: 50%;}#sk-container-id-1 div.sk-parallel-item:only-child::after {width: 0;}#sk-container-id-1 div.sk-dashed-wrapped {border: 1px dashed gray;margin: 0 0.4em 0.5em 0.4em;box-sizing: border-box;padding-bottom: 0.4em;background-color: white;}#sk-container-id-1 div.sk-label label {font-family: monospace;font-weight: bold;display: inline-block;line-height: 1.2em;}#sk-container-id-1 div.sk-label-container {text-align: center;}#sk-container-id-1 div.sk-container {/* jupyter's `normalize.less` sets `[hidden] { display: none; }` but bootstrap.min.css set `[hidden] { display: none !important; }` so we also need the `!important` here to be able to override the default hidden behavior on the sphinx rendered scikit-learn.org. See: https://github.com/scikit-learn/scikit-learn/issues/21755 */display: inline-block !important;position: relative;}#sk-container-id-1 div.sk-text-repr-fallback {display: none;}</style><div id=\"sk-container-id-1\" class=\"sk-top-container\"><div class=\"sk-text-repr-fallback\"><pre>RandomizedSearchCV(cv=10, estimator=RandomForestRegressor(), n_jobs=2,\n",
       "                   param_distributions={&#x27;bootstrap&#x27;: [True],\n",
       "                                        &#x27;max_depth&#x27;: [10, 20, 30, 40, 50, 60,\n",
       "                                                      70, 80, 90, 100, None],\n",
       "                                        &#x27;max_features&#x27;: [&#x27;auto&#x27;, &#x27;sqrt&#x27;],\n",
       "                                        &#x27;min_samples_leaf&#x27;: [1, 2, 4],\n",
       "                                        &#x27;min_samples_split&#x27;: [2, 5, 10],\n",
       "                                        &#x27;n_estimators&#x27;: [300, 350, 400, 450,\n",
       "                                                         500, 550, 600]},\n",
       "                   random_state=42)</pre><b>In a Jupyter environment, please rerun this cell to show the HTML representation or trust the notebook. <br />On GitHub, the HTML representation is unable to render, please try loading this page with nbviewer.org.</b></div><div class=\"sk-container\" hidden><div class=\"sk-item sk-dashed-wrapped\"><div class=\"sk-label-container\"><div class=\"sk-label sk-toggleable\"><input class=\"sk-toggleable__control sk-hidden--visually\" id=\"sk-estimator-id-1\" type=\"checkbox\" ><label for=\"sk-estimator-id-1\" class=\"sk-toggleable__label sk-toggleable__label-arrow\">RandomizedSearchCV</label><div class=\"sk-toggleable__content\"><pre>RandomizedSearchCV(cv=10, estimator=RandomForestRegressor(), n_jobs=2,\n",
       "                   param_distributions={&#x27;bootstrap&#x27;: [True],\n",
       "                                        &#x27;max_depth&#x27;: [10, 20, 30, 40, 50, 60,\n",
       "                                                      70, 80, 90, 100, None],\n",
       "                                        &#x27;max_features&#x27;: [&#x27;auto&#x27;, &#x27;sqrt&#x27;],\n",
       "                                        &#x27;min_samples_leaf&#x27;: [1, 2, 4],\n",
       "                                        &#x27;min_samples_split&#x27;: [2, 5, 10],\n",
       "                                        &#x27;n_estimators&#x27;: [300, 350, 400, 450,\n",
       "                                                         500, 550, 600]},\n",
       "                   random_state=42)</pre></div></div></div><div class=\"sk-parallel\"><div class=\"sk-parallel-item\"><div class=\"sk-item\"><div class=\"sk-label-container\"><div class=\"sk-label sk-toggleable\"><input class=\"sk-toggleable__control sk-hidden--visually\" id=\"sk-estimator-id-2\" type=\"checkbox\" ><label for=\"sk-estimator-id-2\" class=\"sk-toggleable__label sk-toggleable__label-arrow\">estimator: RandomForestRegressor</label><div class=\"sk-toggleable__content\"><pre>RandomForestRegressor()</pre></div></div></div><div class=\"sk-serial\"><div class=\"sk-item\"><div class=\"sk-estimator sk-toggleable\"><input class=\"sk-toggleable__control sk-hidden--visually\" id=\"sk-estimator-id-3\" type=\"checkbox\" ><label for=\"sk-estimator-id-3\" class=\"sk-toggleable__label sk-toggleable__label-arrow\">RandomForestRegressor</label><div class=\"sk-toggleable__content\"><pre>RandomForestRegressor()</pre></div></div></div></div></div></div></div></div></div></div>"
      ],
      "text/plain": [
       "RandomizedSearchCV(cv=10, estimator=RandomForestRegressor(), n_jobs=2,\n",
       "                   param_distributions={'bootstrap': [True],\n",
       "                                        'max_depth': [10, 20, 30, 40, 50, 60,\n",
       "                                                      70, 80, 90, 100, None],\n",
       "                                        'max_features': ['auto', 'sqrt'],\n",
       "                                        'min_samples_leaf': [1, 2, 4],\n",
       "                                        'min_samples_split': [2, 5, 10],\n",
       "                                        'n_estimators': [300, 350, 400, 450,\n",
       "                                                         500, 550, 600]},\n",
       "                   random_state=42)"
      ]
     },
     "execution_count": 37,
     "metadata": {},
     "output_type": "execute_result"
    }
   ],
   "source": [
    "rnd_search.fit(X_train,y_train)"
   ]
  },
  {
   "cell_type": "code",
   "execution_count": 38,
   "metadata": {},
   "outputs": [
    {
     "data": {
      "text/html": [
       "<style>#sk-container-id-2 {color: black;}#sk-container-id-2 pre{padding: 0;}#sk-container-id-2 div.sk-toggleable {background-color: white;}#sk-container-id-2 label.sk-toggleable__label {cursor: pointer;display: block;width: 100%;margin-bottom: 0;padding: 0.3em;box-sizing: border-box;text-align: center;}#sk-container-id-2 label.sk-toggleable__label-arrow:before {content: \"▸\";float: left;margin-right: 0.25em;color: #696969;}#sk-container-id-2 label.sk-toggleable__label-arrow:hover:before {color: black;}#sk-container-id-2 div.sk-estimator:hover label.sk-toggleable__label-arrow:before {color: black;}#sk-container-id-2 div.sk-toggleable__content {max-height: 0;max-width: 0;overflow: hidden;text-align: left;background-color: #f0f8ff;}#sk-container-id-2 div.sk-toggleable__content pre {margin: 0.2em;color: black;border-radius: 0.25em;background-color: #f0f8ff;}#sk-container-id-2 input.sk-toggleable__control:checked~div.sk-toggleable__content {max-height: 200px;max-width: 100%;overflow: auto;}#sk-container-id-2 input.sk-toggleable__control:checked~label.sk-toggleable__label-arrow:before {content: \"▾\";}#sk-container-id-2 div.sk-estimator input.sk-toggleable__control:checked~label.sk-toggleable__label {background-color: #d4ebff;}#sk-container-id-2 div.sk-label input.sk-toggleable__control:checked~label.sk-toggleable__label {background-color: #d4ebff;}#sk-container-id-2 input.sk-hidden--visually {border: 0;clip: rect(1px 1px 1px 1px);clip: rect(1px, 1px, 1px, 1px);height: 1px;margin: -1px;overflow: hidden;padding: 0;position: absolute;width: 1px;}#sk-container-id-2 div.sk-estimator {font-family: monospace;background-color: #f0f8ff;border: 1px dotted black;border-radius: 0.25em;box-sizing: border-box;margin-bottom: 0.5em;}#sk-container-id-2 div.sk-estimator:hover {background-color: #d4ebff;}#sk-container-id-2 div.sk-parallel-item::after {content: \"\";width: 100%;border-bottom: 1px solid gray;flex-grow: 1;}#sk-container-id-2 div.sk-label:hover label.sk-toggleable__label {background-color: #d4ebff;}#sk-container-id-2 div.sk-serial::before {content: \"\";position: absolute;border-left: 1px solid gray;box-sizing: border-box;top: 0;bottom: 0;left: 50%;z-index: 0;}#sk-container-id-2 div.sk-serial {display: flex;flex-direction: column;align-items: center;background-color: white;padding-right: 0.2em;padding-left: 0.2em;position: relative;}#sk-container-id-2 div.sk-item {position: relative;z-index: 1;}#sk-container-id-2 div.sk-parallel {display: flex;align-items: stretch;justify-content: center;background-color: white;position: relative;}#sk-container-id-2 div.sk-item::before, #sk-container-id-2 div.sk-parallel-item::before {content: \"\";position: absolute;border-left: 1px solid gray;box-sizing: border-box;top: 0;bottom: 0;left: 50%;z-index: -1;}#sk-container-id-2 div.sk-parallel-item {display: flex;flex-direction: column;z-index: 1;position: relative;background-color: white;}#sk-container-id-2 div.sk-parallel-item:first-child::after {align-self: flex-end;width: 50%;}#sk-container-id-2 div.sk-parallel-item:last-child::after {align-self: flex-start;width: 50%;}#sk-container-id-2 div.sk-parallel-item:only-child::after {width: 0;}#sk-container-id-2 div.sk-dashed-wrapped {border: 1px dashed gray;margin: 0 0.4em 0.5em 0.4em;box-sizing: border-box;padding-bottom: 0.4em;background-color: white;}#sk-container-id-2 div.sk-label label {font-family: monospace;font-weight: bold;display: inline-block;line-height: 1.2em;}#sk-container-id-2 div.sk-label-container {text-align: center;}#sk-container-id-2 div.sk-container {/* jupyter's `normalize.less` sets `[hidden] { display: none; }` but bootstrap.min.css set `[hidden] { display: none !important; }` so we also need the `!important` here to be able to override the default hidden behavior on the sphinx rendered scikit-learn.org. See: https://github.com/scikit-learn/scikit-learn/issues/21755 */display: inline-block !important;position: relative;}#sk-container-id-2 div.sk-text-repr-fallback {display: none;}</style><div id=\"sk-container-id-2\" class=\"sk-top-container\"><div class=\"sk-text-repr-fallback\"><pre>RandomForestRegressor(max_depth=40, max_features=&#x27;sqrt&#x27;, min_samples_leaf=2,\n",
       "                      n_estimators=500)</pre><b>In a Jupyter environment, please rerun this cell to show the HTML representation or trust the notebook. <br />On GitHub, the HTML representation is unable to render, please try loading this page with nbviewer.org.</b></div><div class=\"sk-container\" hidden><div class=\"sk-item\"><div class=\"sk-estimator sk-toggleable\"><input class=\"sk-toggleable__control sk-hidden--visually\" id=\"sk-estimator-id-4\" type=\"checkbox\" checked><label for=\"sk-estimator-id-4\" class=\"sk-toggleable__label sk-toggleable__label-arrow\">RandomForestRegressor</label><div class=\"sk-toggleable__content\"><pre>RandomForestRegressor(max_depth=40, max_features=&#x27;sqrt&#x27;, min_samples_leaf=2,\n",
       "                      n_estimators=500)</pre></div></div></div></div></div>"
      ],
      "text/plain": [
       "RandomForestRegressor(max_depth=40, max_features='sqrt', min_samples_leaf=2,\n",
       "                      n_estimators=500)"
      ]
     },
     "execution_count": 38,
     "metadata": {},
     "output_type": "execute_result"
    }
   ],
   "source": [
    "rnd_search.best_estimator_"
   ]
  },
  {
   "cell_type": "code",
   "execution_count": 39,
   "metadata": {},
   "outputs": [
    {
     "data": {
      "text/plain": [
       "{'n_estimators': 500,\n",
       " 'min_samples_split': 2,\n",
       " 'min_samples_leaf': 2,\n",
       " 'max_features': 'sqrt',\n",
       " 'max_depth': 40,\n",
       " 'bootstrap': True}"
      ]
     },
     "execution_count": 39,
     "metadata": {},
     "output_type": "execute_result"
    }
   ],
   "source": [
    "rnd_search.best_params_"
   ]
  },
  {
   "cell_type": "code",
   "execution_count": 41,
   "metadata": {},
   "outputs": [],
   "source": [
    "from sklearn.model_selection import GridSearchCV\n",
    "param_grid = {\n",
    "    \"bootstrap\": [True],\n",
    "    \"max_depth\": [10, 15, 20, 25,30,40],\n",
    "    \"min_samples_leaf\": [1,2,3],\n",
    "    \"min_samples_split\": [1,2,3],\n",
    "    \"n_estimators\": [500, 525, 600, 650, 700]\n",
    "}\n",
    "rnd_new2 = RandomForestRegressor()\n",
    "grid_search = GridSearchCV(estimator=rnd_new2,param_grid=param_grid,cv=10,n_jobs=2)"
   ]
  },
  {
   "cell_type": "code",
   "execution_count": 42,
   "metadata": {},
   "outputs": [
    {
     "name": "stderr",
     "output_type": "stream",
     "text": [
      "f:\\Projects\\Micromilling_process_optimisation\\.venv\\Lib\\site-packages\\sklearn\\model_selection\\_validation.py:425: FitFailedWarning: \n",
      "900 fits failed out of a total of 2700.\n",
      "The score on these train-test partitions for these parameters will be set to nan.\n",
      "If these failures are not expected, you can try to debug them by setting error_score='raise'.\n",
      "\n",
      "Below are more details about the failures:\n",
      "--------------------------------------------------------------------------------\n",
      "900 fits failed with the following error:\n",
      "Traceback (most recent call last):\n",
      "  File \"f:\\Projects\\Micromilling_process_optimisation\\.venv\\Lib\\site-packages\\sklearn\\model_selection\\_validation.py\", line 729, in _fit_and_score\n",
      "    estimator.fit(X_train, y_train, **fit_params)\n",
      "  File \"f:\\Projects\\Micromilling_process_optimisation\\.venv\\Lib\\site-packages\\sklearn\\base.py\", line 1145, in wrapper\n",
      "    estimator._validate_params()\n",
      "  File \"f:\\Projects\\Micromilling_process_optimisation\\.venv\\Lib\\site-packages\\sklearn\\base.py\", line 638, in _validate_params\n",
      "    validate_parameter_constraints(\n",
      "  File \"f:\\Projects\\Micromilling_process_optimisation\\.venv\\Lib\\site-packages\\sklearn\\utils\\_param_validation.py\", line 96, in validate_parameter_constraints\n",
      "    raise InvalidParameterError(\n",
      "sklearn.utils._param_validation.InvalidParameterError: The 'min_samples_split' parameter of RandomForestRegressor must be an int in the range [2, inf) or a float in the range (0.0, 1.0]. Got 1 instead.\n",
      "\n",
      "  warnings.warn(some_fits_failed_message, FitFailedWarning)\n",
      "f:\\Projects\\Micromilling_process_optimisation\\.venv\\Lib\\site-packages\\sklearn\\model_selection\\_search.py:979: UserWarning: One or more of the test scores are non-finite: [            nan             nan             nan             nan\n",
      "             nan  7.38017607e-02  8.56377211e-02  7.45196472e-02\n",
      "  7.94404772e-02  7.34206014e-02  4.72525955e-02  3.30076950e-02\n",
      "  3.22074069e-02  4.10520213e-02  3.97522606e-02             nan\n",
      "             nan             nan             nan             nan\n",
      " -8.01741292e-03  8.07198663e-03  2.86903554e-03  1.51202493e-02\n",
      "  4.47434926e-03 -1.13081838e-02  2.37049751e-03 -4.19578608e-03\n",
      " -2.19278189e-03  9.18743037e-03             nan             nan\n",
      "             nan             nan             nan -7.94811706e-02\n",
      " -6.42846887e-02 -8.09040909e-02 -7.12220145e-02 -7.03360028e-02\n",
      " -6.86445674e-02 -5.29808198e-02 -7.41810463e-02 -7.34955044e-02\n",
      " -6.67496189e-02             nan             nan             nan\n",
      "             nan             nan  9.11984794e-02  9.23242516e-02\n",
      "  9.03590851e-02  7.79430482e-02  9.15807362e-02  3.54786761e-02\n",
      "  3.85931376e-02  4.88472539e-02  2.60530492e-02  3.69493215e-02\n",
      "             nan             nan             nan             nan\n",
      "             nan  4.66141615e-03  1.37124716e-02  1.98834542e-03\n",
      "  4.39409437e-03 -1.59932439e-03  9.05946341e-03 -3.55466255e-03\n",
      " -6.52468102e-03  1.39385776e-03  2.62368605e-03             nan\n",
      "             nan             nan             nan             nan\n",
      " -7.16185669e-02 -6.66802412e-02 -7.52974041e-02 -7.62408123e-02\n",
      " -7.44422102e-02 -6.34440739e-02 -6.38418103e-02 -7.74407000e-02\n",
      " -6.62289874e-02 -6.98849949e-02             nan             nan\n",
      "             nan             nan             nan  9.40239685e-02\n",
      "  7.81144793e-02  7.40754344e-02  6.61029442e-02  8.22366242e-02\n",
      "  2.61852926e-02  1.97898045e-02  3.94352979e-02  3.25344258e-02\n",
      "  3.24801821e-02             nan             nan             nan\n",
      "             nan             nan  9.77985546e-04 -6.67300054e-03\n",
      "  3.46750687e-03 -1.01345214e-03 -5.99737294e-03  1.19424156e-02\n",
      "  9.21179667e-04 -6.26534366e-04  2.62219846e-03  7.40836847e-03\n",
      "             nan             nan             nan             nan\n",
      "             nan -6.76120974e-02 -5.91679832e-02 -7.94381332e-02\n",
      " -7.03215265e-02 -6.69054046e-02 -5.95682062e-02 -7.20707042e-02\n",
      " -7.82397796e-02 -7.87105905e-02 -6.72232874e-02             nan\n",
      "             nan             nan             nan             nan\n",
      "  8.64089611e-02  9.62642461e-02  8.58882214e-02  8.60724663e-02\n",
      "  9.06499051e-02  2.73438712e-02  1.51805729e-02  3.97299113e-02\n",
      "  3.24900518e-02  3.94990053e-02             nan             nan\n",
      "             nan             nan             nan  9.66393695e-03\n",
      "  7.49186034e-05 -1.30959638e-02 -4.81804854e-03  5.51621073e-03\n",
      " -2.49493083e-03 -3.36949022e-03  4.16639325e-03  1.61133310e-02\n",
      " -3.36589221e-03             nan             nan             nan\n",
      "             nan             nan -7.17233294e-02 -7.44372070e-02\n",
      " -7.54037187e-02 -6.66316398e-02 -7.52772065e-02 -6.61838946e-02\n",
      " -7.92140579e-02 -6.71953190e-02 -7.98924489e-02 -6.87894574e-02\n",
      "             nan             nan             nan             nan\n",
      "             nan  6.95279095e-02  8.27006789e-02  8.77261375e-02\n",
      "  8.59051428e-02  6.84132473e-02  9.24459069e-03  2.93601847e-02\n",
      "  2.03987357e-02  3.01227839e-02  3.87248929e-02             nan\n",
      "             nan             nan             nan             nan\n",
      "  1.24897524e-03 -2.95175387e-04  4.75246335e-03 -1.34365452e-02\n",
      " -6.09848129e-03  4.34011148e-03  8.83714803e-05  1.18363764e-02\n",
      " -7.90187305e-03  1.13965181e-02             nan             nan\n",
      "             nan             nan             nan -6.97490901e-02\n",
      " -7.60632973e-02 -8.08338181e-02 -7.42663651e-02 -6.55479312e-02\n",
      " -6.70221448e-02 -8.53549666e-02 -6.45896022e-02 -7.08214705e-02\n",
      " -6.33606657e-02             nan             nan             nan\n",
      "             nan             nan  8.18785222e-02  7.92267503e-02\n",
      "  7.94725023e-02  8.41916593e-02  8.47933773e-02  2.86056155e-02\n",
      "  2.20393371e-02  3.90364077e-02  1.71282804e-02  2.77573566e-02\n",
      "             nan             nan             nan             nan\n",
      "             nan -6.19103399e-03 -2.51781793e-03 -7.25353340e-03\n",
      "  2.35115879e-03 -2.72486528e-03  4.67209276e-03  9.66783926e-03\n",
      "  1.34378279e-03 -4.54951721e-04 -4.04210755e-03             nan\n",
      "             nan             nan             nan             nan\n",
      " -7.31672364e-02 -6.22494258e-02 -8.50583527e-02 -6.38727944e-02\n",
      " -7.15000003e-02 -6.47272624e-02 -6.61879239e-02 -7.29089850e-02\n",
      " -8.08515247e-02 -7.87976265e-02]\n",
      "  warnings.warn(\n"
     ]
    },
    {
     "data": {
      "text/html": [
       "<style>#sk-container-id-3 {color: black;}#sk-container-id-3 pre{padding: 0;}#sk-container-id-3 div.sk-toggleable {background-color: white;}#sk-container-id-3 label.sk-toggleable__label {cursor: pointer;display: block;width: 100%;margin-bottom: 0;padding: 0.3em;box-sizing: border-box;text-align: center;}#sk-container-id-3 label.sk-toggleable__label-arrow:before {content: \"▸\";float: left;margin-right: 0.25em;color: #696969;}#sk-container-id-3 label.sk-toggleable__label-arrow:hover:before {color: black;}#sk-container-id-3 div.sk-estimator:hover label.sk-toggleable__label-arrow:before {color: black;}#sk-container-id-3 div.sk-toggleable__content {max-height: 0;max-width: 0;overflow: hidden;text-align: left;background-color: #f0f8ff;}#sk-container-id-3 div.sk-toggleable__content pre {margin: 0.2em;color: black;border-radius: 0.25em;background-color: #f0f8ff;}#sk-container-id-3 input.sk-toggleable__control:checked~div.sk-toggleable__content {max-height: 200px;max-width: 100%;overflow: auto;}#sk-container-id-3 input.sk-toggleable__control:checked~label.sk-toggleable__label-arrow:before {content: \"▾\";}#sk-container-id-3 div.sk-estimator input.sk-toggleable__control:checked~label.sk-toggleable__label {background-color: #d4ebff;}#sk-container-id-3 div.sk-label input.sk-toggleable__control:checked~label.sk-toggleable__label {background-color: #d4ebff;}#sk-container-id-3 input.sk-hidden--visually {border: 0;clip: rect(1px 1px 1px 1px);clip: rect(1px, 1px, 1px, 1px);height: 1px;margin: -1px;overflow: hidden;padding: 0;position: absolute;width: 1px;}#sk-container-id-3 div.sk-estimator {font-family: monospace;background-color: #f0f8ff;border: 1px dotted black;border-radius: 0.25em;box-sizing: border-box;margin-bottom: 0.5em;}#sk-container-id-3 div.sk-estimator:hover {background-color: #d4ebff;}#sk-container-id-3 div.sk-parallel-item::after {content: \"\";width: 100%;border-bottom: 1px solid gray;flex-grow: 1;}#sk-container-id-3 div.sk-label:hover label.sk-toggleable__label {background-color: #d4ebff;}#sk-container-id-3 div.sk-serial::before {content: \"\";position: absolute;border-left: 1px solid gray;box-sizing: border-box;top: 0;bottom: 0;left: 50%;z-index: 0;}#sk-container-id-3 div.sk-serial {display: flex;flex-direction: column;align-items: center;background-color: white;padding-right: 0.2em;padding-left: 0.2em;position: relative;}#sk-container-id-3 div.sk-item {position: relative;z-index: 1;}#sk-container-id-3 div.sk-parallel {display: flex;align-items: stretch;justify-content: center;background-color: white;position: relative;}#sk-container-id-3 div.sk-item::before, #sk-container-id-3 div.sk-parallel-item::before {content: \"\";position: absolute;border-left: 1px solid gray;box-sizing: border-box;top: 0;bottom: 0;left: 50%;z-index: -1;}#sk-container-id-3 div.sk-parallel-item {display: flex;flex-direction: column;z-index: 1;position: relative;background-color: white;}#sk-container-id-3 div.sk-parallel-item:first-child::after {align-self: flex-end;width: 50%;}#sk-container-id-3 div.sk-parallel-item:last-child::after {align-self: flex-start;width: 50%;}#sk-container-id-3 div.sk-parallel-item:only-child::after {width: 0;}#sk-container-id-3 div.sk-dashed-wrapped {border: 1px dashed gray;margin: 0 0.4em 0.5em 0.4em;box-sizing: border-box;padding-bottom: 0.4em;background-color: white;}#sk-container-id-3 div.sk-label label {font-family: monospace;font-weight: bold;display: inline-block;line-height: 1.2em;}#sk-container-id-3 div.sk-label-container {text-align: center;}#sk-container-id-3 div.sk-container {/* jupyter's `normalize.less` sets `[hidden] { display: none; }` but bootstrap.min.css set `[hidden] { display: none !important; }` so we also need the `!important` here to be able to override the default hidden behavior on the sphinx rendered scikit-learn.org. See: https://github.com/scikit-learn/scikit-learn/issues/21755 */display: inline-block !important;position: relative;}#sk-container-id-3 div.sk-text-repr-fallback {display: none;}</style><div id=\"sk-container-id-3\" class=\"sk-top-container\"><div class=\"sk-text-repr-fallback\"><pre>GridSearchCV(cv=10, estimator=RandomForestRegressor(), n_jobs=2,\n",
       "             param_grid={&#x27;bootstrap&#x27;: [True],\n",
       "                         &#x27;max_depth&#x27;: [10, 15, 20, 25, 30, 40],\n",
       "                         &#x27;min_samples_leaf&#x27;: [1, 2, 3],\n",
       "                         &#x27;min_samples_split&#x27;: [1, 2, 3],\n",
       "                         &#x27;n_estimators&#x27;: [500, 525, 600, 650, 700]})</pre><b>In a Jupyter environment, please rerun this cell to show the HTML representation or trust the notebook. <br />On GitHub, the HTML representation is unable to render, please try loading this page with nbviewer.org.</b></div><div class=\"sk-container\" hidden><div class=\"sk-item sk-dashed-wrapped\"><div class=\"sk-label-container\"><div class=\"sk-label sk-toggleable\"><input class=\"sk-toggleable__control sk-hidden--visually\" id=\"sk-estimator-id-5\" type=\"checkbox\" ><label for=\"sk-estimator-id-5\" class=\"sk-toggleable__label sk-toggleable__label-arrow\">GridSearchCV</label><div class=\"sk-toggleable__content\"><pre>GridSearchCV(cv=10, estimator=RandomForestRegressor(), n_jobs=2,\n",
       "             param_grid={&#x27;bootstrap&#x27;: [True],\n",
       "                         &#x27;max_depth&#x27;: [10, 15, 20, 25, 30, 40],\n",
       "                         &#x27;min_samples_leaf&#x27;: [1, 2, 3],\n",
       "                         &#x27;min_samples_split&#x27;: [1, 2, 3],\n",
       "                         &#x27;n_estimators&#x27;: [500, 525, 600, 650, 700]})</pre></div></div></div><div class=\"sk-parallel\"><div class=\"sk-parallel-item\"><div class=\"sk-item\"><div class=\"sk-label-container\"><div class=\"sk-label sk-toggleable\"><input class=\"sk-toggleable__control sk-hidden--visually\" id=\"sk-estimator-id-6\" type=\"checkbox\" ><label for=\"sk-estimator-id-6\" class=\"sk-toggleable__label sk-toggleable__label-arrow\">estimator: RandomForestRegressor</label><div class=\"sk-toggleable__content\"><pre>RandomForestRegressor()</pre></div></div></div><div class=\"sk-serial\"><div class=\"sk-item\"><div class=\"sk-estimator sk-toggleable\"><input class=\"sk-toggleable__control sk-hidden--visually\" id=\"sk-estimator-id-7\" type=\"checkbox\" ><label for=\"sk-estimator-id-7\" class=\"sk-toggleable__label sk-toggleable__label-arrow\">RandomForestRegressor</label><div class=\"sk-toggleable__content\"><pre>RandomForestRegressor()</pre></div></div></div></div></div></div></div></div></div></div>"
      ],
      "text/plain": [
       "GridSearchCV(cv=10, estimator=RandomForestRegressor(), n_jobs=2,\n",
       "             param_grid={'bootstrap': [True],\n",
       "                         'max_depth': [10, 15, 20, 25, 30, 40],\n",
       "                         'min_samples_leaf': [1, 2, 3],\n",
       "                         'min_samples_split': [1, 2, 3],\n",
       "                         'n_estimators': [500, 525, 600, 650, 700]})"
      ]
     },
     "execution_count": 42,
     "metadata": {},
     "output_type": "execute_result"
    }
   ],
   "source": [
    "grid_search.fit(X_train,y_train)"
   ]
  },
  {
   "cell_type": "code",
   "execution_count": 43,
   "metadata": {},
   "outputs": [
    {
     "data": {
      "text/html": [
       "<style>#sk-container-id-4 {color: black;}#sk-container-id-4 pre{padding: 0;}#sk-container-id-4 div.sk-toggleable {background-color: white;}#sk-container-id-4 label.sk-toggleable__label {cursor: pointer;display: block;width: 100%;margin-bottom: 0;padding: 0.3em;box-sizing: border-box;text-align: center;}#sk-container-id-4 label.sk-toggleable__label-arrow:before {content: \"▸\";float: left;margin-right: 0.25em;color: #696969;}#sk-container-id-4 label.sk-toggleable__label-arrow:hover:before {color: black;}#sk-container-id-4 div.sk-estimator:hover label.sk-toggleable__label-arrow:before {color: black;}#sk-container-id-4 div.sk-toggleable__content {max-height: 0;max-width: 0;overflow: hidden;text-align: left;background-color: #f0f8ff;}#sk-container-id-4 div.sk-toggleable__content pre {margin: 0.2em;color: black;border-radius: 0.25em;background-color: #f0f8ff;}#sk-container-id-4 input.sk-toggleable__control:checked~div.sk-toggleable__content {max-height: 200px;max-width: 100%;overflow: auto;}#sk-container-id-4 input.sk-toggleable__control:checked~label.sk-toggleable__label-arrow:before {content: \"▾\";}#sk-container-id-4 div.sk-estimator input.sk-toggleable__control:checked~label.sk-toggleable__label {background-color: #d4ebff;}#sk-container-id-4 div.sk-label input.sk-toggleable__control:checked~label.sk-toggleable__label {background-color: #d4ebff;}#sk-container-id-4 input.sk-hidden--visually {border: 0;clip: rect(1px 1px 1px 1px);clip: rect(1px, 1px, 1px, 1px);height: 1px;margin: -1px;overflow: hidden;padding: 0;position: absolute;width: 1px;}#sk-container-id-4 div.sk-estimator {font-family: monospace;background-color: #f0f8ff;border: 1px dotted black;border-radius: 0.25em;box-sizing: border-box;margin-bottom: 0.5em;}#sk-container-id-4 div.sk-estimator:hover {background-color: #d4ebff;}#sk-container-id-4 div.sk-parallel-item::after {content: \"\";width: 100%;border-bottom: 1px solid gray;flex-grow: 1;}#sk-container-id-4 div.sk-label:hover label.sk-toggleable__label {background-color: #d4ebff;}#sk-container-id-4 div.sk-serial::before {content: \"\";position: absolute;border-left: 1px solid gray;box-sizing: border-box;top: 0;bottom: 0;left: 50%;z-index: 0;}#sk-container-id-4 div.sk-serial {display: flex;flex-direction: column;align-items: center;background-color: white;padding-right: 0.2em;padding-left: 0.2em;position: relative;}#sk-container-id-4 div.sk-item {position: relative;z-index: 1;}#sk-container-id-4 div.sk-parallel {display: flex;align-items: stretch;justify-content: center;background-color: white;position: relative;}#sk-container-id-4 div.sk-item::before, #sk-container-id-4 div.sk-parallel-item::before {content: \"\";position: absolute;border-left: 1px solid gray;box-sizing: border-box;top: 0;bottom: 0;left: 50%;z-index: -1;}#sk-container-id-4 div.sk-parallel-item {display: flex;flex-direction: column;z-index: 1;position: relative;background-color: white;}#sk-container-id-4 div.sk-parallel-item:first-child::after {align-self: flex-end;width: 50%;}#sk-container-id-4 div.sk-parallel-item:last-child::after {align-self: flex-start;width: 50%;}#sk-container-id-4 div.sk-parallel-item:only-child::after {width: 0;}#sk-container-id-4 div.sk-dashed-wrapped {border: 1px dashed gray;margin: 0 0.4em 0.5em 0.4em;box-sizing: border-box;padding-bottom: 0.4em;background-color: white;}#sk-container-id-4 div.sk-label label {font-family: monospace;font-weight: bold;display: inline-block;line-height: 1.2em;}#sk-container-id-4 div.sk-label-container {text-align: center;}#sk-container-id-4 div.sk-container {/* jupyter's `normalize.less` sets `[hidden] { display: none; }` but bootstrap.min.css set `[hidden] { display: none !important; }` so we also need the `!important` here to be able to override the default hidden behavior on the sphinx rendered scikit-learn.org. See: https://github.com/scikit-learn/scikit-learn/issues/21755 */display: inline-block !important;position: relative;}#sk-container-id-4 div.sk-text-repr-fallback {display: none;}</style><div id=\"sk-container-id-4\" class=\"sk-top-container\"><div class=\"sk-text-repr-fallback\"><pre>RandomForestRegressor(max_depth=25, n_estimators=525)</pre><b>In a Jupyter environment, please rerun this cell to show the HTML representation or trust the notebook. <br />On GitHub, the HTML representation is unable to render, please try loading this page with nbviewer.org.</b></div><div class=\"sk-container\" hidden><div class=\"sk-item\"><div class=\"sk-estimator sk-toggleable\"><input class=\"sk-toggleable__control sk-hidden--visually\" id=\"sk-estimator-id-8\" type=\"checkbox\" checked><label for=\"sk-estimator-id-8\" class=\"sk-toggleable__label sk-toggleable__label-arrow\">RandomForestRegressor</label><div class=\"sk-toggleable__content\"><pre>RandomForestRegressor(max_depth=25, n_estimators=525)</pre></div></div></div></div></div>"
      ],
      "text/plain": [
       "RandomForestRegressor(max_depth=25, n_estimators=525)"
      ]
     },
     "execution_count": 43,
     "metadata": {},
     "output_type": "execute_result"
    }
   ],
   "source": [
    "grid_search.best_estimator_"
   ]
  },
  {
   "cell_type": "code",
   "execution_count": 44,
   "metadata": {},
   "outputs": [
    {
     "data": {
      "text/plain": [
       "{'bootstrap': True,\n",
       " 'max_depth': 25,\n",
       " 'min_samples_leaf': 1,\n",
       " 'min_samples_split': 2,\n",
       " 'n_estimators': 525}"
      ]
     },
     "execution_count": 44,
     "metadata": {},
     "output_type": "execute_result"
    }
   ],
   "source": [
    "grid_search.best_params_"
   ]
  },
  {
   "cell_type": "code",
   "execution_count": 47,
   "metadata": {},
   "outputs": [],
   "source": [
    "final_rf_model = grid_search.best_estimator_"
   ]
  },
  {
   "cell_type": "code",
   "execution_count": 49,
   "metadata": {},
   "outputs": [
    {
     "name": "stdout",
     "output_type": "stream",
     "text": [
      "Scores: [292.7571868  264.79107158 370.61571324 240.33813473 353.23757403\n",
      " 489.50303007 252.74673593 269.65360327 285.5704542  253.15785599]\n",
      "Mean: 307.23713598568315\n",
      "Standard deviation: 73.22314759521902\n"
     ]
    }
   ],
   "source": [
    "Performance_testing(final_rf_model,X_train,y_train,10)"
   ]
  },
  {
   "cell_type": "code",
   "execution_count": 50,
   "metadata": {},
   "outputs": [
    {
     "data": {
      "text/plain": [
       "['Random_Forest_Model.pkl']"
      ]
     },
     "execution_count": 50,
     "metadata": {},
     "output_type": "execute_result"
    }
   ],
   "source": [
    "import joblib\n",
    "joblib.dump(final_rf_model,\"Random_Forest_Model.pkl\")"
   ]
  },
  {
   "cell_type": "markdown",
   "metadata": {},
   "source": [
    "## Models Testing"
   ]
  },
  {
   "cell_type": "markdown",
   "metadata": {},
   "source": [
    "### 2. Random Forest Testing"
   ]
  },
  {
   "cell_type": "code",
   "execution_count": null,
   "metadata": {},
   "outputs": [],
   "source": []
  }
 ],
 "metadata": {
  "kernelspec": {
   "display_name": ".venv",
   "language": "python",
   "name": "python3"
  },
  "language_info": {
   "codemirror_mode": {
    "name": "ipython",
    "version": 3
   },
   "file_extension": ".py",
   "mimetype": "text/x-python",
   "name": "python",
   "nbconvert_exporter": "python",
   "pygments_lexer": "ipython3",
   "version": "3.11.5"
  }
 },
 "nbformat": 4,
 "nbformat_minor": 2
}
