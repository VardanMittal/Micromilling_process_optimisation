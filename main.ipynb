{
 "cells": [
  {
   "cell_type": "markdown",
   "metadata": {},
   "source": [
    "# Process Parameter Optimization"
   ]
  },
  {
   "cell_type": "code",
   "execution_count": 1,
   "metadata": {},
   "outputs": [],
   "source": [
    "# ! pip install -r requirements.txt"
   ]
  },
  {
   "cell_type": "markdown",
   "metadata": {},
   "source": [
    "## Libraries"
   ]
  },
  {
   "cell_type": "code",
   "execution_count": 2,
   "metadata": {},
   "outputs": [
    {
     "name": "stdout",
     "output_type": "stream",
     "text": [
      "WARNING:tensorflow:From f:\\Projects\\Micromilling_process_optimisation\\.venv\\Lib\\site-packages\\keras\\src\\losses.py:2976: The name tf.losses.sparse_softmax_cross_entropy is deprecated. Please use tf.compat.v1.losses.sparse_softmax_cross_entropy instead.\n",
      "\n"
     ]
    },
    {
     "data": {
      "text/plain": [
       "True"
      ]
     },
     "execution_count": 2,
     "metadata": {},
     "output_type": "execute_result"
    }
   ],
   "source": [
    "import numpy as np\n",
    "import matplotlib.pyplot as plt\n",
    "import pandas as pd\n",
    "import seaborn as sns\n",
    "import tensorflow as tf\n",
    "from tensorflow import keras\n",
    "import gspread\n",
    "from oauth2client.service_account import ServiceAccountCredentials\n",
    "import os\n",
    "from dotenv import load_dotenv\n",
    "load_dotenv()"
   ]
  },
  {
   "cell_type": "code",
   "execution_count": 3,
   "metadata": {},
   "outputs": [],
   "source": [
    "FILEPATH = os.getenv(\"FILEPATH\")\n",
    "URL = os.getenv(\"URL\")"
   ]
  },
  {
   "cell_type": "code",
   "execution_count": 4,
   "metadata": {},
   "outputs": [
    {
     "name": "stdout",
     "output_type": "stream",
     "text": [
      "./credentials/empyrean-maxim-406006-63f920d838bd.json\n"
     ]
    }
   ],
   "source": [
    "print(FILEPATH)"
   ]
  },
  {
   "cell_type": "code",
   "execution_count": 5,
   "metadata": {},
   "outputs": [],
   "source": [
    "def read_data(path, url):\n",
    "    scope = ['https://www.googleapis.com/auth/spreadsheets', 'https://www.googleapis.com/auth/drive']\n",
    "    creds = ServiceAccountCredentials.from_json_keyfile_name(path, scope)\n",
    "    client = gspread.authorize(creds)\n",
    "    sheet_url = url\n",
    "    sheet = client.open_by_url(sheet_url)\n",
    "    worksheet = sheet.get_worksheet(2) \n",
    "    data = worksheet.get_all_values()\n",
    "    return pd.DataFrame(data[1:], columns=data[0])\n"
   ]
  },
  {
   "cell_type": "code",
   "execution_count": 6,
   "metadata": {},
   "outputs": [
    {
     "name": "stderr",
     "output_type": "stream",
     "text": [
      "C:\\Users\\Vardan\\AppData\\Local\\Temp\\ipykernel_7004\\724327505.py:1: DeprecationWarning: [Deprecated][in version 6.0.0]: client_factory will be replaced by gspread.http_client types\n",
      "  data = read_data(FILEPATH,URL)\n"
     ]
    }
   ],
   "source": [
    "data = read_data(FILEPATH,URL)"
   ]
  },
  {
   "cell_type": "markdown",
   "metadata": {},
   "source": [
    "## Data Analysis"
   ]
  },
  {
   "cell_type": "code",
   "execution_count": 7,
   "metadata": {},
   "outputs": [
    {
     "name": "stdout",
     "output_type": "stream",
     "text": [
      "<class 'pandas.core.frame.DataFrame'>\n",
      "RangeIndex: 108 entries, 0 to 107\n",
      "Data columns (total 18 columns):\n",
      " #   Column                    Non-Null Count  Dtype \n",
      "---  ------                    --------------  ----- \n",
      " 0   Spindle Speed             108 non-null    object\n",
      " 1   Feed (mm/min)             108 non-null    object\n",
      " 2   Tool Dia. (mm)            108 non-null    object\n",
      " 3   Depth of Cut (mm)         108 non-null    object\n",
      " 4   Length of Cut (mm)        108 non-null    object\n",
      " 5   Length of cut actual(mm)  108 non-null    object\n",
      " 6   Width of Cut(mm)          108 non-null    object\n",
      " 7   Actual Width(mm)          108 non-null    object\n",
      " 8   Wi                        108 non-null    object\n",
      " 9   Wf                        108 non-null    object\n",
      " 10  delta Weight              108 non-null    object\n",
      " 11  Time (sec)                108 non-null    object\n",
      " 12  Time (min)                108 non-null    object\n",
      " 13  MRR ideal                 108 non-null    object\n",
      " 14  MRR actual                108 non-null    object\n",
      " 15  Density(g/mm3)            108 non-null    object\n",
      " 16  Delta L                   108 non-null    object\n",
      " 17  Delta W                   108 non-null    object\n",
      "dtypes: object(18)\n",
      "memory usage: 15.3+ KB\n"
     ]
    }
   ],
   "source": [
    "data.info()"
   ]
  },
  {
   "cell_type": "code",
   "execution_count": 8,
   "metadata": {},
   "outputs": [],
   "source": [
    "data = data.drop([\"Density(g/mm3)\", \"Time (min)\", \"Time (sec)\", \"Depth of Cut (mm)\", \"Length of Cut (mm)\",\"Length of cut actual(mm)\", \"Width of Cut(mm)\", \"Actual Width(mm)\" ], axis=1)\n",
    "data = data.astype(\"float\")"
   ]
  },
  {
   "cell_type": "code",
   "execution_count": 9,
   "metadata": {},
   "outputs": [
    {
     "data": {
      "text/html": [
       "<div>\n",
       "<style scoped>\n",
       "    .dataframe tbody tr th:only-of-type {\n",
       "        vertical-align: middle;\n",
       "    }\n",
       "\n",
       "    .dataframe tbody tr th {\n",
       "        vertical-align: top;\n",
       "    }\n",
       "\n",
       "    .dataframe thead th {\n",
       "        text-align: right;\n",
       "    }\n",
       "</style>\n",
       "<table border=\"1\" class=\"dataframe\">\n",
       "  <thead>\n",
       "    <tr style=\"text-align: right;\">\n",
       "      <th></th>\n",
       "      <th>Spindle Speed</th>\n",
       "      <th>Feed (mm/min)</th>\n",
       "      <th>Tool Dia. (mm)</th>\n",
       "      <th>Wi</th>\n",
       "      <th>Wf</th>\n",
       "      <th>delta Weight</th>\n",
       "      <th>MRR ideal</th>\n",
       "      <th>MRR actual</th>\n",
       "      <th>Delta L</th>\n",
       "      <th>Delta W</th>\n",
       "    </tr>\n",
       "  </thead>\n",
       "  <tbody>\n",
       "    <tr>\n",
       "      <th>0</th>\n",
       "      <td>3000.0</td>\n",
       "      <td>10.0</td>\n",
       "      <td>1.0</td>\n",
       "      <td>49.3753</td>\n",
       "      <td>49.3694</td>\n",
       "      <td>0.0059</td>\n",
       "      <td>3.0</td>\n",
       "      <td>1.076451</td>\n",
       "      <td>0.0480</td>\n",
       "      <td>0.18700</td>\n",
       "    </tr>\n",
       "    <tr>\n",
       "      <th>1</th>\n",
       "      <td>3000.0</td>\n",
       "      <td>15.0</td>\n",
       "      <td>1.0</td>\n",
       "      <td>49.3694</td>\n",
       "      <td>49.3682</td>\n",
       "      <td>0.0012</td>\n",
       "      <td>4.5</td>\n",
       "      <td>0.327195</td>\n",
       "      <td>0.0640</td>\n",
       "      <td>0.00200</td>\n",
       "    </tr>\n",
       "    <tr>\n",
       "      <th>2</th>\n",
       "      <td>3000.0</td>\n",
       "      <td>20.0</td>\n",
       "      <td>1.0</td>\n",
       "      <td>49.3682</td>\n",
       "      <td>49.3659</td>\n",
       "      <td>0.0023</td>\n",
       "      <td>6.0</td>\n",
       "      <td>0.806629</td>\n",
       "      <td>0.0500</td>\n",
       "      <td>0.14500</td>\n",
       "    </tr>\n",
       "    <tr>\n",
       "      <th>3</th>\n",
       "      <td>3250.0</td>\n",
       "      <td>10.0</td>\n",
       "      <td>1.0</td>\n",
       "      <td>49.3659</td>\n",
       "      <td>49.3635</td>\n",
       "      <td>0.0024</td>\n",
       "      <td>3.0</td>\n",
       "      <td>1.007537</td>\n",
       "      <td>0.0565</td>\n",
       "      <td>0.14425</td>\n",
       "    </tr>\n",
       "    <tr>\n",
       "      <th>4</th>\n",
       "      <td>3250.0</td>\n",
       "      <td>15.0</td>\n",
       "      <td>1.0</td>\n",
       "      <td>49.3635</td>\n",
       "      <td>49.3617</td>\n",
       "      <td>0.0018</td>\n",
       "      <td>4.5</td>\n",
       "      <td>0.553689</td>\n",
       "      <td>0.0605</td>\n",
       "      <td>0.08075</td>\n",
       "    </tr>\n",
       "  </tbody>\n",
       "</table>\n",
       "</div>"
      ],
      "text/plain": [
       "   Spindle Speed  Feed (mm/min)  Tool Dia. (mm)       Wi       Wf  \\\n",
       "0         3000.0           10.0             1.0  49.3753  49.3694   \n",
       "1         3000.0           15.0             1.0  49.3694  49.3682   \n",
       "2         3000.0           20.0             1.0  49.3682  49.3659   \n",
       "3         3250.0           10.0             1.0  49.3659  49.3635   \n",
       "4         3250.0           15.0             1.0  49.3635  49.3617   \n",
       "\n",
       "   delta Weight  MRR ideal  MRR actual  Delta L  Delta W  \n",
       "0        0.0059        3.0    1.076451   0.0480  0.18700  \n",
       "1        0.0012        4.5    0.327195   0.0640  0.00200  \n",
       "2        0.0023        6.0    0.806629   0.0500  0.14500  \n",
       "3        0.0024        3.0    1.007537   0.0565  0.14425  \n",
       "4        0.0018        4.5    0.553689   0.0605  0.08075  "
      ]
     },
     "execution_count": 9,
     "metadata": {},
     "output_type": "execute_result"
    }
   ],
   "source": [
    "data.head()"
   ]
  },
  {
   "cell_type": "code",
   "execution_count": 10,
   "metadata": {},
   "outputs": [
    {
     "name": "stdout",
     "output_type": "stream",
     "text": [
      "<class 'pandas.core.frame.DataFrame'>\n",
      "RangeIndex: 108 entries, 0 to 107\n",
      "Data columns (total 10 columns):\n",
      " #   Column          Non-Null Count  Dtype  \n",
      "---  ------          --------------  -----  \n",
      " 0   Spindle Speed   108 non-null    float64\n",
      " 1   Feed (mm/min)   108 non-null    float64\n",
      " 2   Tool Dia. (mm)  108 non-null    float64\n",
      " 3   Wi              108 non-null    float64\n",
      " 4   Wf              108 non-null    float64\n",
      " 5   delta Weight    108 non-null    float64\n",
      " 6   MRR ideal       108 non-null    float64\n",
      " 7   MRR actual      108 non-null    float64\n",
      " 8   Delta L         108 non-null    float64\n",
      " 9   Delta W         108 non-null    float64\n",
      "dtypes: float64(10)\n",
      "memory usage: 8.6 KB\n"
     ]
    }
   ],
   "source": [
    "data.info()"
   ]
  },
  {
   "cell_type": "code",
   "execution_count": 11,
   "metadata": {},
   "outputs": [
    {
     "data": {
      "text/plain": [
       "array([[<Axes: title={'center': 'Spindle Speed'}>,\n",
       "        <Axes: title={'center': 'Feed (mm/min)'}>,\n",
       "        <Axes: title={'center': 'Tool Dia. (mm)'}>],\n",
       "       [<Axes: title={'center': 'Wi'}>, <Axes: title={'center': 'Wf'}>,\n",
       "        <Axes: title={'center': 'delta Weight'}>],\n",
       "       [<Axes: title={'center': 'MRR ideal'}>,\n",
       "        <Axes: title={'center': 'MRR actual'}>,\n",
       "        <Axes: title={'center': 'Delta L'}>],\n",
       "       [<Axes: title={'center': 'Delta W'}>, <Axes: >, <Axes: >]],\n",
       "      dtype=object)"
      ]
     },
     "execution_count": 11,
     "metadata": {},
     "output_type": "execute_result"
    },
    {
     "data": {
      "image/png": "[encoded data removed]",
      "text/plain": [
       "<Figure size 1200x1200 with 12 Axes>"
      ]
     },
     "metadata": {},
     "output_type": "display_data"
    }
   ],
   "source": [
    "data.hist(figsize=(12,12))"
   ]
  },
  {
   "cell_type": "code",
   "execution_count": 12,
   "metadata": {},
   "outputs": [
    {
     "data": {
      "text/plain": [
       "Wi               -2.316687e-01\n",
       "Wf               -2.288657e-01\n",
       "delta Weight     -5.537949e-03\n",
       "Tool Dia. (mm)   -2.481599e-16\n",
       "MRR ideal        -1.984575e-16\n",
       "Feed (mm/min)    -1.086517e-16\n",
       "MRR actual        9.541056e-02\n",
       "Delta W           1.562890e-01\n",
       "Delta L           2.144670e-01\n",
       "Spindle Speed     1.000000e+00\n",
       "Name: Spindle Speed, dtype: float64"
      ]
     },
     "execution_count": 12,
     "metadata": {},
     "output_type": "execute_result"
    }
   ],
   "source": [
    "data.corr()[\"Spindle Speed\"].sort_values()"
   ]
  },
  {
   "cell_type": "code",
   "execution_count": 13,
   "metadata": {},
   "outputs": [
    {
     "data": {
      "text/plain": [
       "Delta L          -9.533012e-02\n",
       "delta Weight     -5.602127e-02\n",
       "Wi               -2.463229e-02\n",
       "Wf               -2.341556e-02\n",
       "Delta W          -1.963717e-02\n",
       "Spindle Speed    -1.086517e-16\n",
       "Tool Dia. (mm)   -3.840069e-17\n",
       "MRR actual        3.685047e-01\n",
       "MRR ideal         5.573312e-01\n",
       "Feed (mm/min)     1.000000e+00\n",
       "Name: Feed (mm/min), dtype: float64"
      ]
     },
     "execution_count": 13,
     "metadata": {},
     "output_type": "execute_result"
    }
   ],
   "source": [
    "data.corr()[\"Feed (mm/min)\"].sort_values()"
   ]
  },
  {
   "cell_type": "code",
   "execution_count": 14,
   "metadata": {},
   "outputs": [
    {
     "data": {
      "text/plain": [
       "array([[<Axes: xlabel='Delta W', ylabel='Feed (mm/min)'>,\n",
       "        <Axes: xlabel='Delta L', ylabel='Feed (mm/min)'>,\n",
       "        <Axes: xlabel='Feed (mm/min)', ylabel='Feed (mm/min)'>,\n",
       "        <Axes: xlabel='Spindle Speed', ylabel='Feed (mm/min)'>],\n",
       "       [<Axes: xlabel='Delta W', ylabel='Spindle Speed'>,\n",
       "        <Axes: xlabel='Delta L', ylabel='Spindle Speed'>,\n",
       "        <Axes: xlabel='Feed (mm/min)', ylabel='Spindle Speed'>,\n",
       "        <Axes: xlabel='Spindle Speed', ylabel='Spindle Speed'>]],\n",
       "      dtype=object)"
      ]
     },
     "execution_count": 14,
     "metadata": {},
     "output_type": "execute_result"
    },
    {
     "data": {
      "image/png": "[encoded data removed]",
      "text/plain": [
       "<Figure size 1200x800 with 16 Axes>"
      ]
     },
     "metadata": {},
     "output_type": "display_data"
    }
   ],
   "source": [
    "from pandas.plotting import scatter_matrix\n",
    "attributes=[\"Delta W\", \"Delta L\", \"Feed (mm/min)\", \"Spindle Speed\"]\n",
    "scatter_matrix(data[attributes], figsize=(12, 8))[2:]"
   ]
  },
  {
   "cell_type": "markdown",
   "metadata": {},
   "source": [
    "## Data Preprocessing"
   ]
  },
  {
   "cell_type": "code",
   "execution_count": 15,
   "metadata": {},
   "outputs": [],
   "source": [
    "from sklearn.preprocessing import StandardScaler\n",
    "from sklearn.model_selection import train_test_split\n",
    "from sklearn.pipeline import Pipeline\n",
    "train_set, test_set = train_test_split(data, test_size=0.2, random_state=32)"
   ]
  },
  {
   "cell_type": "code",
   "execution_count": 16,
   "metadata": {},
   "outputs": [],
   "source": [
    "X_train = train_set.drop([\"Spindle Speed\", \"Feed (mm/min)\"], axis = 1)\n",
    "y_train=pd.concat([train_set[\"Spindle Speed\"], train_set[\"Feed (mm/min)\"]], axis=1)"
   ]
  },
  {
   "cell_type": "code",
   "execution_count": 17,
   "metadata": {},
   "outputs": [],
   "source": [
    "features_name = X_train.columns\n",
    "target_name = y_train.columns"
   ]
  },
  {
   "cell_type": "markdown",
   "metadata": {},
   "source": [
    "## Model Selection"
   ]
  },
  {
   "cell_type": "markdown",
   "metadata": {},
   "source": [
    "### 1. Linear Regression"
   ]
  },
  {
   "cell_type": "code",
   "execution_count": 18,
   "metadata": {},
   "outputs": [],
   "source": [
    "from sklearn.linear_model import LinearRegression"
   ]
  },
  {
   "cell_type": "code",
   "execution_count": 19,
   "metadata": {},
   "outputs": [
    {
     "data": {
      "text/html": [
       "<div>\n",
       "<style scoped>\n",
       "    .dataframe tbody tr th:only-of-type {\n",
       "        vertical-align: middle;\n",
       "    }\n",
       "\n",
       "    .dataframe tbody tr th {\n",
       "        vertical-align: top;\n",
       "    }\n",
       "\n",
       "    .dataframe thead th {\n",
       "        text-align: right;\n",
       "    }\n",
       "</style>\n",
       "<table border=\"1\" class=\"dataframe\">\n",
       "  <thead>\n",
       "    <tr style=\"text-align: right;\">\n",
       "      <th></th>\n",
       "      <th>Tool Dia. (mm)</th>\n",
       "      <th>Wi</th>\n",
       "      <th>Wf</th>\n",
       "      <th>delta Weight</th>\n",
       "      <th>MRR ideal</th>\n",
       "      <th>MRR actual</th>\n",
       "      <th>Delta L</th>\n",
       "      <th>Delta W</th>\n",
       "    </tr>\n",
       "  </thead>\n",
       "  <tbody>\n",
       "    <tr>\n",
       "      <th>86</th>\n",
       "      <td>2.0</td>\n",
       "      <td>47.7829</td>\n",
       "      <td>47.7544</td>\n",
       "      <td>0.0285</td>\n",
       "      <td>20.0</td>\n",
       "      <td>10.292861</td>\n",
       "      <td>0.1645</td>\n",
       "      <td>0.02850</td>\n",
       "    </tr>\n",
       "    <tr>\n",
       "      <th>63</th>\n",
       "      <td>3.0</td>\n",
       "      <td>48.3988</td>\n",
       "      <td>48.3622</td>\n",
       "      <td>0.0366</td>\n",
       "      <td>9.0</td>\n",
       "      <td>7.071112</td>\n",
       "      <td>0.3280</td>\n",
       "      <td>0.11200</td>\n",
       "    </tr>\n",
       "    <tr>\n",
       "      <th>39</th>\n",
       "      <td>2.0</td>\n",
       "      <td>49.0267</td>\n",
       "      <td>49.0095</td>\n",
       "      <td>0.0172</td>\n",
       "      <td>6.0</td>\n",
       "      <td>3.296042</td>\n",
       "      <td>0.1210</td>\n",
       "      <td>0.22700</td>\n",
       "    </tr>\n",
       "    <tr>\n",
       "      <th>32</th>\n",
       "      <td>2.0</td>\n",
       "      <td>49.1434</td>\n",
       "      <td>49.1284</td>\n",
       "      <td>0.0150</td>\n",
       "      <td>12.0</td>\n",
       "      <td>5.147540</td>\n",
       "      <td>0.0145</td>\n",
       "      <td>0.08300</td>\n",
       "    </tr>\n",
       "    <tr>\n",
       "      <th>8</th>\n",
       "      <td>1.0</td>\n",
       "      <td>49.3532</td>\n",
       "      <td>49.3503</td>\n",
       "      <td>0.0029</td>\n",
       "      <td>6.0</td>\n",
       "      <td>1.243090</td>\n",
       "      <td>0.0660</td>\n",
       "      <td>0.20300</td>\n",
       "    </tr>\n",
       "    <tr>\n",
       "      <th>...</th>\n",
       "      <td>...</td>\n",
       "      <td>...</td>\n",
       "      <td>...</td>\n",
       "      <td>...</td>\n",
       "      <td>...</td>\n",
       "      <td>...</td>\n",
       "      <td>...</td>\n",
       "      <td>...</td>\n",
       "    </tr>\n",
       "    <tr>\n",
       "      <th>62</th>\n",
       "      <td>3.0</td>\n",
       "      <td>48.4374</td>\n",
       "      <td>48.3988</td>\n",
       "      <td>0.0386</td>\n",
       "      <td>18.0</td>\n",
       "      <td>14.257849</td>\n",
       "      <td>0.4340</td>\n",
       "      <td>0.24800</td>\n",
       "    </tr>\n",
       "    <tr>\n",
       "      <th>54</th>\n",
       "      <td>3.0</td>\n",
       "      <td>48.7300</td>\n",
       "      <td>48.6940</td>\n",
       "      <td>0.0360</td>\n",
       "      <td>9.0</td>\n",
       "      <td>6.406108</td>\n",
       "      <td>0.2560</td>\n",
       "      <td>0.12400</td>\n",
       "    </tr>\n",
       "    <tr>\n",
       "      <th>5</th>\n",
       "      <td>1.0</td>\n",
       "      <td>49.3617</td>\n",
       "      <td>49.3593</td>\n",
       "      <td>0.0024</td>\n",
       "      <td>6.0</td>\n",
       "      <td>0.944173</td>\n",
       "      <td>0.0545</td>\n",
       "      <td>0.16625</td>\n",
       "    </tr>\n",
       "    <tr>\n",
       "      <th>43</th>\n",
       "      <td>2.0</td>\n",
       "      <td>48.9651</td>\n",
       "      <td>48.9459</td>\n",
       "      <td>0.0192</td>\n",
       "      <td>9.0</td>\n",
       "      <td>9.295289</td>\n",
       "      <td>0.3065</td>\n",
       "      <td>0.26000</td>\n",
       "    </tr>\n",
       "    <tr>\n",
       "      <th>87</th>\n",
       "      <td>2.0</td>\n",
       "      <td>47.7544</td>\n",
       "      <td>47.7221</td>\n",
       "      <td>0.0323</td>\n",
       "      <td>10.0</td>\n",
       "      <td>6.002454</td>\n",
       "      <td>0.1620</td>\n",
       "      <td>0.05600</td>\n",
       "    </tr>\n",
       "  </tbody>\n",
       "</table>\n",
       "<p>86 rows × 8 columns</p>\n",
       "</div>"
      ],
      "text/plain": [
       "    Tool Dia. (mm)       Wi       Wf  delta Weight  MRR ideal  MRR actual  \\\n",
       "86             2.0  47.7829  47.7544        0.0285       20.0   10.292861   \n",
       "63             3.0  48.3988  48.3622        0.0366        9.0    7.071112   \n",
       "39             2.0  49.0267  49.0095        0.0172        6.0    3.296042   \n",
       "32             2.0  49.1434  49.1284        0.0150       12.0    5.147540   \n",
       "8              1.0  49.3532  49.3503        0.0029        6.0    1.243090   \n",
       "..             ...      ...      ...           ...        ...         ...   \n",
       "62             3.0  48.4374  48.3988        0.0386       18.0   14.257849   \n",
       "54             3.0  48.7300  48.6940        0.0360        9.0    6.406108   \n",
       "5              1.0  49.3617  49.3593        0.0024        6.0    0.944173   \n",
       "43             2.0  48.9651  48.9459        0.0192        9.0    9.295289   \n",
       "87             2.0  47.7544  47.7221        0.0323       10.0    6.002454   \n",
       "\n",
       "    Delta L  Delta W  \n",
       "86   0.1645  0.02850  \n",
       "63   0.3280  0.11200  \n",
       "39   0.1210  0.22700  \n",
       "32   0.0145  0.08300  \n",
       "8    0.0660  0.20300  \n",
       "..      ...      ...  \n",
       "62   0.4340  0.24800  \n",
       "54   0.2560  0.12400  \n",
       "5    0.0545  0.16625  \n",
       "43   0.3065  0.26000  \n",
       "87   0.1620  0.05600  \n",
       "\n",
       "[86 rows x 8 columns]"
      ]
     },
     "execution_count": 19,
     "metadata": {},
     "output_type": "execute_result"
    }
   ],
   "source": [
    "X_train"
   ]
  },
  {
   "cell_type": "code",
   "execution_count": 20,
   "metadata": {},
   "outputs": [
    {
     "data": {
      "text/html": [
       "<div>\n",
       "<style scoped>\n",
       "    .dataframe tbody tr th:only-of-type {\n",
       "        vertical-align: middle;\n",
       "    }\n",
       "\n",
       "    .dataframe tbody tr th {\n",
       "        vertical-align: top;\n",
       "    }\n",
       "\n",
       "    .dataframe thead th {\n",
       "        text-align: right;\n",
       "    }\n",
       "</style>\n",
       "<table border=\"1\" class=\"dataframe\">\n",
       "  <thead>\n",
       "    <tr style=\"text-align: right;\">\n",
       "      <th></th>\n",
       "      <th>Spindle Speed</th>\n",
       "      <th>Feed (mm/min)</th>\n",
       "    </tr>\n",
       "  </thead>\n",
       "  <tbody>\n",
       "    <tr>\n",
       "      <th>86</th>\n",
       "      <td>3250.0</td>\n",
       "      <td>20.0</td>\n",
       "    </tr>\n",
       "    <tr>\n",
       "      <th>63</th>\n",
       "      <td>3750.0</td>\n",
       "      <td>10.0</td>\n",
       "    </tr>\n",
       "    <tr>\n",
       "      <th>39</th>\n",
       "      <td>4000.0</td>\n",
       "      <td>10.0</td>\n",
       "    </tr>\n",
       "    <tr>\n",
       "      <th>32</th>\n",
       "      <td>3250.0</td>\n",
       "      <td>20.0</td>\n",
       "    </tr>\n",
       "    <tr>\n",
       "      <th>8</th>\n",
       "      <td>3500.0</td>\n",
       "      <td>20.0</td>\n",
       "    </tr>\n",
       "    <tr>\n",
       "      <th>...</th>\n",
       "      <td>...</td>\n",
       "      <td>...</td>\n",
       "    </tr>\n",
       "    <tr>\n",
       "      <th>62</th>\n",
       "      <td>3500.0</td>\n",
       "      <td>20.0</td>\n",
       "    </tr>\n",
       "    <tr>\n",
       "      <th>54</th>\n",
       "      <td>3000.0</td>\n",
       "      <td>10.0</td>\n",
       "    </tr>\n",
       "    <tr>\n",
       "      <th>5</th>\n",
       "      <td>3250.0</td>\n",
       "      <td>20.0</td>\n",
       "    </tr>\n",
       "    <tr>\n",
       "      <th>43</th>\n",
       "      <td>4250.0</td>\n",
       "      <td>15.0</td>\n",
       "    </tr>\n",
       "    <tr>\n",
       "      <th>87</th>\n",
       "      <td>3500.0</td>\n",
       "      <td>10.0</td>\n",
       "    </tr>\n",
       "  </tbody>\n",
       "</table>\n",
       "<p>86 rows × 2 columns</p>\n",
       "</div>"
      ],
      "text/plain": [
       "    Spindle Speed  Feed (mm/min)\n",
       "86         3250.0           20.0\n",
       "63         3750.0           10.0\n",
       "39         4000.0           10.0\n",
       "32         3250.0           20.0\n",
       "8          3500.0           20.0\n",
       "..            ...            ...\n",
       "62         3500.0           20.0\n",
       "54         3000.0           10.0\n",
       "5          3250.0           20.0\n",
       "43         4250.0           15.0\n",
       "87         3500.0           10.0\n",
       "\n",
       "[86 rows x 2 columns]"
      ]
     },
     "execution_count": 20,
     "metadata": {},
     "output_type": "execute_result"
    }
   ],
   "source": [
    "y_train"
   ]
  },
  {
   "cell_type": "markdown",
   "metadata": {},
   "source": [
    "### 2. Random Forest"
   ]
  },
  {
   "cell_type": "code",
   "execution_count": 21,
   "metadata": {},
   "outputs": [],
   "source": [
    "from sklearn.ensemble import RandomForestRegressor\n",
    "rnd_reg = RandomForestRegressor(n_estimators=500, max_leaf_nodes=20, n_jobs=-1, max_depth=10)\n",
    "rf_pipeline = Pipeline([\n",
    "    (\"scaler\", StandardScaler()),\n",
    "    (\"Random Forest\", rnd_reg)\n",
    "])\n",
    "\n",
    "rf_model = rf_pipeline.fit(X_train, y_train)"
   ]
  },
  {
   "cell_type": "code",
   "execution_count": 22,
   "metadata": {},
   "outputs": [
    {
     "name": "stderr",
     "output_type": "stream",
     "text": [
      "f:\\Projects\\Micromilling_process_optimisation\\.venv\\Lib\\site-packages\\sklearn\\base.py:465: UserWarning: X does not have valid feature names, but StandardScaler was fitted with feature names\n",
      "  warnings.warn(\n"
     ]
    },
    {
     "data": {
      "text/plain": [
       "array([[3267.46058872,   16.09202345]])"
      ]
     },
     "execution_count": 22,
     "metadata": {},
     "output_type": "execute_result"
    }
   ],
   "source": [
    "rf_model.predict([[2.0,47.7829,47.7544,0.0285,20.0,10.292861,0.1645,0.02850]])"
   ]
  },
  {
   "cell_type": "code",
   "execution_count": 23,
   "metadata": {},
   "outputs": [],
   "source": [
    "estimator = rf_model.named_steps[\"Random Forest\"].estimators_[0]"
   ]
  },
  {
   "cell_type": "code",
   "execution_count": 24,
   "metadata": {},
   "outputs": [],
   "source": [
    "from utils.Visualizations import rf_visualize\n",
    "rf_visualize(estimator, features_name,target_name)"
   ]
  },
  {
   "cell_type": "code",
   "execution_count": 26,
   "metadata": {},
   "outputs": [
    {
     "data": {
      "image/png": "[encoded data removed]",
      "text/plain": [
       "<Figure size 800x600 with 1 Axes>"
      ]
     },
     "metadata": {},
     "output_type": "display_data"
    }
   ],
   "source": [
    "importances = rf_model.named_steps['Random Forest'].feature_importances_\n",
    "plt.figure(figsize=(8, 6))\n",
    "plt.barh(features_name, importances)\n",
    "plt.xlabel('Feature Importance')\n",
    "plt.ylabel('Features')\n",
    "plt.title('Random Forest Feature Importance')\n",
    "plt.show()"
   ]
  },
  {
   "cell_type": "markdown",
   "metadata": {},
   "source": [
    "## Performance Testing"
   ]
  },
  {
   "cell_type": "markdown",
   "metadata": {},
   "source": [
    "### 2. Random Forest Performance"
   ]
  },
  {
   "cell_type": "code",
   "execution_count": 28,
   "metadata": {},
   "outputs": [
    {
     "name": "stdout",
     "output_type": "stream",
     "text": [
      "Scores: [299.42940658 280.07880448 389.73020298 245.95458833 357.29307362\n",
      " 492.64412881 263.40670342 290.58926372 280.95785348 248.1323853 ]\n",
      "Mean: 314.82164107203914\n",
      "Standard deviation: 73.51702236815446\n"
     ]
    }
   ],
   "source": [
    "from utils.performace_checking import Performance_testing\n",
    "Performance_testing(rf_model, X_train,y_train, 10)"
   ]
  },
  {
   "cell_type": "markdown",
   "metadata": {},
   "source": [
    "## Model Optimization"
   ]
  },
  {
   "cell_type": "markdown",
   "metadata": {},
   "source": [
    "### 1. For Linear Regression"
   ]
  },
  {
   "cell_type": "code",
   "execution_count": null,
   "metadata": {},
   "outputs": [],
   "source": []
  },
  {
   "cell_type": "markdown",
   "metadata": {},
   "source": [
    "### 2. For Random Forest"
   ]
  },
  {
   "cell_type": "code",
   "execution_count": 30,
   "metadata": {},
   "outputs": [],
   "source": [
    "from sklearn.model_selection import RandomizedSearchCV\n",
    "random_grid = {\n",
    "    \"rnd_reg1__bootstrap\":[True],\n",
    "    \"rnd_reg1__n_estimators\":[300, 350, 400, 450, 500, 550, 600],\n",
    "    \"rnd_reg1__max_depth\":[10, 20, 30, 40, 50, 60, 70, 80, 90, 100, None],\n",
    "    \"rnd_reg1__max_features\":[\"auto\",\"sqrt\"],\n",
    "    \"rnd_reg1__min_samples_leaf\":[1, 2, 4],\n",
    "    \"rnd_reg1__min_samples_split\":[2, 5, 10],\n",
    "}\n",
    "\n",
    "rnd_pipeline = Pipeline([\n",
    "    (\"scaler\", StandardScaler()),\n",
    "    (\"rnd_reg1\", RandomForestRegressor())\n",
    "])\n",
    "rnd_search = RandomizedSearchCV(rnd_pipeline, param_distributions=random_grid,cv=10,n_jobs=2,random_state=42)\n"
   ]
  },
  {
   "cell_type": "code",
   "execution_count": 31,
   "metadata": {},
   "outputs": [
    {
     "name": "stderr",
     "output_type": "stream",
     "text": [
      "f:\\Projects\\Micromilling_process_optimisation\\.venv\\Lib\\site-packages\\sklearn\\model_selection\\_validation.py:425: FitFailedWarning: \n",
      "20 fits failed out of a total of 100.\n",
      "The score on these train-test partitions for these parameters will be set to nan.\n",
      "If these failures are not expected, you can try to debug them by setting error_score='raise'.\n",
      "\n",
      "Below are more details about the failures:\n",
      "--------------------------------------------------------------------------------\n",
      "20 fits failed with the following error:\n",
      "Traceback (most recent call last):\n",
      "  File \"f:\\Projects\\Micromilling_process_optimisation\\.venv\\Lib\\site-packages\\sklearn\\model_selection\\_validation.py\", line 729, in _fit_and_score\n",
      "    estimator.fit(X_train, y_train, **fit_params)\n",
      "  File \"f:\\Projects\\Micromilling_process_optimisation\\.venv\\Lib\\site-packages\\sklearn\\base.py\", line 1152, in wrapper\n",
      "    return fit_method(estimator, *args, **kwargs)\n",
      "           ^^^^^^^^^^^^^^^^^^^^^^^^^^^^^^^^^^^^^^\n",
      "  File \"f:\\Projects\\Micromilling_process_optimisation\\.venv\\Lib\\site-packages\\sklearn\\pipeline.py\", line 427, in fit\n",
      "    self._final_estimator.fit(Xt, y, **fit_params_last_step)\n",
      "  File \"f:\\Projects\\Micromilling_process_optimisation\\.venv\\Lib\\site-packages\\sklearn\\base.py\", line 1145, in wrapper\n",
      "    estimator._validate_params()\n",
      "  File \"f:\\Projects\\Micromilling_process_optimisation\\.venv\\Lib\\site-packages\\sklearn\\base.py\", line 638, in _validate_params\n",
      "    validate_parameter_constraints(\n",
      "  File \"f:\\Projects\\Micromilling_process_optimisation\\.venv\\Lib\\site-packages\\sklearn\\utils\\_param_validation.py\", line 96, in validate_parameter_constraints\n",
      "    raise InvalidParameterError(\n",
      "sklearn.utils._param_validation.InvalidParameterError: The 'max_features' parameter of RandomForestRegressor must be an int in the range [1, inf), a float in the range (0.0, 1.0], a str among {'log2', 'sqrt'} or None. Got 'auto' instead.\n",
      "\n",
      "  warnings.warn(some_fits_failed_message, FitFailedWarning)\n",
      "f:\\Projects\\Micromilling_process_optimisation\\.venv\\Lib\\site-packages\\sklearn\\model_selection\\_search.py:979: UserWarning: One or more of the test scores are non-finite: [-0.04491688 -0.05990454         nan -0.10820661  0.14823124         nan\n",
      " -0.08725584  0.17534418 -0.05126369 -0.04539255]\n",
      "  warnings.warn(\n"
     ]
    },
    {
     "data": {
      "text/html": [
       "<style>#sk-container-id-1 {color: black;}#sk-container-id-1 pre{padding: 0;}#sk-container-id-1 div.sk-toggleable {background-color: white;}#sk-container-id-1 label.sk-toggleable__label {cursor: pointer;display: block;width: 100%;margin-bottom: 0;padding: 0.3em;box-sizing: border-box;text-align: center;}#sk-container-id-1 label.sk-toggleable__label-arrow:before {content: \"▸\";float: left;margin-right: 0.25em;color: #696969;}#sk-container-id-1 label.sk-toggleable__label-arrow:hover:before {color: black;}#sk-container-id-1 div.sk-estimator:hover label.sk-toggleable__label-arrow:before {color: black;}#sk-container-id-1 div.sk-toggleable__content {max-height: 0;max-width: 0;overflow: hidden;text-align: left;background-color: #f0f8ff;}#sk-container-id-1 div.sk-toggleable__content pre {margin: 0.2em;color: black;border-radius: 0.25em;background-color: #f0f8ff;}#sk-container-id-1 input.sk-toggleable__control:checked~div.sk-toggleable__content {max-height: 200px;max-width: 100%;overflow: auto;}#sk-container-id-1 input.sk-toggleable__control:checked~label.sk-toggleable__label-arrow:before {content: \"▾\";}#sk-container-id-1 div.sk-estimator input.sk-toggleable__control:checked~label.sk-toggleable__label {background-color: #d4ebff;}#sk-container-id-1 div.sk-label input.sk-toggleable__control:checked~label.sk-toggleable__label {background-color: #d4ebff;}#sk-container-id-1 input.sk-hidden--visually {border: 0;clip: rect(1px 1px 1px 1px);clip: rect(1px, 1px, 1px, 1px);height: 1px;margin: -1px;overflow: hidden;padding: 0;position: absolute;width: 1px;}#sk-container-id-1 div.sk-estimator {font-family: monospace;background-color: #f0f8ff;border: 1px dotted black;border-radius: 0.25em;box-sizing: border-box;margin-bottom: 0.5em;}#sk-container-id-1 div.sk-estimator:hover {background-color: #d4ebff;}#sk-container-id-1 div.sk-parallel-item::after {content: \"\";width: 100%;border-bottom: 1px solid gray;flex-grow: 1;}#sk-container-id-1 div.sk-label:hover label.sk-toggleable__label {background-color: #d4ebff;}#sk-container-id-1 div.sk-serial::before {content: \"\";position: absolute;border-left: 1px solid gray;box-sizing: border-box;top: 0;bottom: 0;left: 50%;z-index: 0;}#sk-container-id-1 div.sk-serial {display: flex;flex-direction: column;align-items: center;background-color: white;padding-right: 0.2em;padding-left: 0.2em;position: relative;}#sk-container-id-1 div.sk-item {position: relative;z-index: 1;}#sk-container-id-1 div.sk-parallel {display: flex;align-items: stretch;justify-content: center;background-color: white;position: relative;}#sk-container-id-1 div.sk-item::before, #sk-container-id-1 div.sk-parallel-item::before {content: \"\";position: absolute;border-left: 1px solid gray;box-sizing: border-box;top: 0;bottom: 0;left: 50%;z-index: -1;}#sk-container-id-1 div.sk-parallel-item {display: flex;flex-direction: column;z-index: 1;position: relative;background-color: white;}#sk-container-id-1 div.sk-parallel-item:first-child::after {align-self: flex-end;width: 50%;}#sk-container-id-1 div.sk-parallel-item:last-child::after {align-self: flex-start;width: 50%;}#sk-container-id-1 div.sk-parallel-item:only-child::after {width: 0;}#sk-container-id-1 div.sk-dashed-wrapped {border: 1px dashed gray;margin: 0 0.4em 0.5em 0.4em;box-sizing: border-box;padding-bottom: 0.4em;background-color: white;}#sk-container-id-1 div.sk-label label {font-family: monospace;font-weight: bold;display: inline-block;line-height: 1.2em;}#sk-container-id-1 div.sk-label-container {text-align: center;}#sk-container-id-1 div.sk-container {/* jupyter's `normalize.less` sets `[hidden] { display: none; }` but bootstrap.min.css set `[hidden] { display: none !important; }` so we also need the `!important` here to be able to override the default hidden behavior on the sphinx rendered scikit-learn.org. See: https://github.com/scikit-learn/scikit-learn/issues/21755 */display: inline-block !important;position: relative;}#sk-container-id-1 div.sk-text-repr-fallback {display: none;}</style><div id=\"sk-container-id-1\" class=\"sk-top-container\"><div class=\"sk-text-repr-fallback\"><pre>RandomizedSearchCV(cv=10,\n",
       "                   estimator=Pipeline(steps=[(&#x27;scaler&#x27;, StandardScaler()),\n",
       "                                             (&#x27;rnd_reg1&#x27;,\n",
       "                                              RandomForestRegressor())]),\n",
       "                   n_jobs=2,\n",
       "                   param_distributions={&#x27;rnd_reg1__bootstrap&#x27;: [True],\n",
       "                                        &#x27;rnd_reg1__max_depth&#x27;: [10, 20, 30, 40,\n",
       "                                                                50, 60, 70, 80,\n",
       "                                                                90, 100, None],\n",
       "                                        &#x27;rnd_reg1__max_features&#x27;: [&#x27;auto&#x27;,\n",
       "                                                                   &#x27;sqrt&#x27;],\n",
       "                                        &#x27;rnd_reg1__min_samples_leaf&#x27;: [1, 2, 4],\n",
       "                                        &#x27;rnd_reg1__min_samples_split&#x27;: [2, 5,\n",
       "                                                                        10],\n",
       "                                        &#x27;rnd_reg1__n_estimators&#x27;: [300, 350,\n",
       "                                                                   400, 450,\n",
       "                                                                   500, 550,\n",
       "                                                                   600]},\n",
       "                   random_state=42)</pre><b>In a Jupyter environment, please rerun this cell to show the HTML representation or trust the notebook. <br />On GitHub, the HTML representation is unable to render, please try loading this page with nbviewer.org.</b></div><div class=\"sk-container\" hidden><div class=\"sk-item sk-dashed-wrapped\"><div class=\"sk-label-container\"><div class=\"sk-label sk-toggleable\"><input class=\"sk-toggleable__control sk-hidden--visually\" id=\"sk-estimator-id-1\" type=\"checkbox\" ><label for=\"sk-estimator-id-1\" class=\"sk-toggleable__label sk-toggleable__label-arrow\">RandomizedSearchCV</label><div class=\"sk-toggleable__content\"><pre>RandomizedSearchCV(cv=10,\n",
       "                   estimator=Pipeline(steps=[(&#x27;scaler&#x27;, StandardScaler()),\n",
       "                                             (&#x27;rnd_reg1&#x27;,\n",
       "                                              RandomForestRegressor())]),\n",
       "                   n_jobs=2,\n",
       "                   param_distributions={&#x27;rnd_reg1__bootstrap&#x27;: [True],\n",
       "                                        &#x27;rnd_reg1__max_depth&#x27;: [10, 20, 30, 40,\n",
       "                                                                50, 60, 70, 80,\n",
       "                                                                90, 100, None],\n",
       "                                        &#x27;rnd_reg1__max_features&#x27;: [&#x27;auto&#x27;,\n",
       "                                                                   &#x27;sqrt&#x27;],\n",
       "                                        &#x27;rnd_reg1__min_samples_leaf&#x27;: [1, 2, 4],\n",
       "                                        &#x27;rnd_reg1__min_samples_split&#x27;: [2, 5,\n",
       "                                                                        10],\n",
       "                                        &#x27;rnd_reg1__n_estimators&#x27;: [300, 350,\n",
       "                                                                   400, 450,\n",
       "                                                                   500, 550,\n",
       "                                                                   600]},\n",
       "                   random_state=42)</pre></div></div></div><div class=\"sk-parallel\"><div class=\"sk-parallel-item\"><div class=\"sk-item\"><div class=\"sk-label-container\"><div class=\"sk-label sk-toggleable\"><input class=\"sk-toggleable__control sk-hidden--visually\" id=\"sk-estimator-id-2\" type=\"checkbox\" ><label for=\"sk-estimator-id-2\" class=\"sk-toggleable__label sk-toggleable__label-arrow\">estimator: Pipeline</label><div class=\"sk-toggleable__content\"><pre>Pipeline(steps=[(&#x27;scaler&#x27;, StandardScaler()),\n",
       "                (&#x27;rnd_reg1&#x27;, RandomForestRegressor())])</pre></div></div></div><div class=\"sk-serial\"><div class=\"sk-item\"><div class=\"sk-serial\"><div class=\"sk-item\"><div class=\"sk-estimator sk-toggleable\"><input class=\"sk-toggleable__control sk-hidden--visually\" id=\"sk-estimator-id-3\" type=\"checkbox\" ><label for=\"sk-estimator-id-3\" class=\"sk-toggleable__label sk-toggleable__label-arrow\">StandardScaler</label><div class=\"sk-toggleable__content\"><pre>StandardScaler()</pre></div></div></div><div class=\"sk-item\"><div class=\"sk-estimator sk-toggleable\"><input class=\"sk-toggleable__control sk-hidden--visually\" id=\"sk-estimator-id-4\" type=\"checkbox\" ><label for=\"sk-estimator-id-4\" class=\"sk-toggleable__label sk-toggleable__label-arrow\">RandomForestRegressor</label><div class=\"sk-toggleable__content\"><pre>RandomForestRegressor()</pre></div></div></div></div></div></div></div></div></div></div></div></div>"
      ],
      "text/plain": [
       "RandomizedSearchCV(cv=10,\n",
       "                   estimator=Pipeline(steps=[('scaler', StandardScaler()),\n",
       "                                             ('rnd_reg1',\n",
       "                                              RandomForestRegressor())]),\n",
       "                   n_jobs=2,\n",
       "                   param_distributions={'rnd_reg1__bootstrap': [True],\n",
       "                                        'rnd_reg1__max_depth': [10, 20, 30, 40,\n",
       "                                                                50, 60, 70, 80,\n",
       "                                                                90, 100, None],\n",
       "                                        'rnd_reg1__max_features': ['auto',\n",
       "                                                                   'sqrt'],\n",
       "                                        'rnd_reg1__min_samples_leaf': [1, 2, 4],\n",
       "                                        'rnd_reg1__min_samples_split': [2, 5,\n",
       "                                                                        10],\n",
       "                                        'rnd_reg1__n_estimators': [300, 350,\n",
       "                                                                   400, 450,\n",
       "                                                                   500, 550,\n",
       "                                                                   600]},\n",
       "                   random_state=42)"
      ]
     },
     "execution_count": 31,
     "metadata": {},
     "output_type": "execute_result"
    }
   ],
   "source": [
    "rnd_search.fit(X_train,y_train)"
   ]
  },
  {
   "cell_type": "code",
   "execution_count": 32,
   "metadata": {},
   "outputs": [
    {
     "data": {
      "text/html": [
       "<style>#sk-container-id-2 {color: black;}#sk-container-id-2 pre{padding: 0;}#sk-container-id-2 div.sk-toggleable {background-color: white;}#sk-container-id-2 label.sk-toggleable__label {cursor: pointer;display: block;width: 100%;margin-bottom: 0;padding: 0.3em;box-sizing: border-box;text-align: center;}#sk-container-id-2 label.sk-toggleable__label-arrow:before {content: \"▸\";float: left;margin-right: 0.25em;color: #696969;}#sk-container-id-2 label.sk-toggleable__label-arrow:hover:before {color: black;}#sk-container-id-2 div.sk-estimator:hover label.sk-toggleable__label-arrow:before {color: black;}#sk-container-id-2 div.sk-toggleable__content {max-height: 0;max-width: 0;overflow: hidden;text-align: left;background-color: #f0f8ff;}#sk-container-id-2 div.sk-toggleable__content pre {margin: 0.2em;color: black;border-radius: 0.25em;background-color: #f0f8ff;}#sk-container-id-2 input.sk-toggleable__control:checked~div.sk-toggleable__content {max-height: 200px;max-width: 100%;overflow: auto;}#sk-container-id-2 input.sk-toggleable__control:checked~label.sk-toggleable__label-arrow:before {content: \"▾\";}#sk-container-id-2 div.sk-estimator input.sk-toggleable__control:checked~label.sk-toggleable__label {background-color: #d4ebff;}#sk-container-id-2 div.sk-label input.sk-toggleable__control:checked~label.sk-toggleable__label {background-color: #d4ebff;}#sk-container-id-2 input.sk-hidden--visually {border: 0;clip: rect(1px 1px 1px 1px);clip: rect(1px, 1px, 1px, 1px);height: 1px;margin: -1px;overflow: hidden;padding: 0;position: absolute;width: 1px;}#sk-container-id-2 div.sk-estimator {font-family: monospace;background-color: #f0f8ff;border: 1px dotted black;border-radius: 0.25em;box-sizing: border-box;margin-bottom: 0.5em;}#sk-container-id-2 div.sk-estimator:hover {background-color: #d4ebff;}#sk-container-id-2 div.sk-parallel-item::after {content: \"\";width: 100%;border-bottom: 1px solid gray;flex-grow: 1;}#sk-container-id-2 div.sk-label:hover label.sk-toggleable__label {background-color: #d4ebff;}#sk-container-id-2 div.sk-serial::before {content: \"\";position: absolute;border-left: 1px solid gray;box-sizing: border-box;top: 0;bottom: 0;left: 50%;z-index: 0;}#sk-container-id-2 div.sk-serial {display: flex;flex-direction: column;align-items: center;background-color: white;padding-right: 0.2em;padding-left: 0.2em;position: relative;}#sk-container-id-2 div.sk-item {position: relative;z-index: 1;}#sk-container-id-2 div.sk-parallel {display: flex;align-items: stretch;justify-content: center;background-color: white;position: relative;}#sk-container-id-2 div.sk-item::before, #sk-container-id-2 div.sk-parallel-item::before {content: \"\";position: absolute;border-left: 1px solid gray;box-sizing: border-box;top: 0;bottom: 0;left: 50%;z-index: -1;}#sk-container-id-2 div.sk-parallel-item {display: flex;flex-direction: column;z-index: 1;position: relative;background-color: white;}#sk-container-id-2 div.sk-parallel-item:first-child::after {align-self: flex-end;width: 50%;}#sk-container-id-2 div.sk-parallel-item:last-child::after {align-self: flex-start;width: 50%;}#sk-container-id-2 div.sk-parallel-item:only-child::after {width: 0;}#sk-container-id-2 div.sk-dashed-wrapped {border: 1px dashed gray;margin: 0 0.4em 0.5em 0.4em;box-sizing: border-box;padding-bottom: 0.4em;background-color: white;}#sk-container-id-2 div.sk-label label {font-family: monospace;font-weight: bold;display: inline-block;line-height: 1.2em;}#sk-container-id-2 div.sk-label-container {text-align: center;}#sk-container-id-2 div.sk-container {/* jupyter's `normalize.less` sets `[hidden] { display: none; }` but bootstrap.min.css set `[hidden] { display: none !important; }` so we also need the `!important` here to be able to override the default hidden behavior on the sphinx rendered scikit-learn.org. See: https://github.com/scikit-learn/scikit-learn/issues/21755 */display: inline-block !important;position: relative;}#sk-container-id-2 div.sk-text-repr-fallback {display: none;}</style><div id=\"sk-container-id-2\" class=\"sk-top-container\"><div class=\"sk-text-repr-fallback\"><pre>Pipeline(steps=[(&#x27;scaler&#x27;, StandardScaler()),\n",
       "                (&#x27;rnd_reg1&#x27;,\n",
       "                 RandomForestRegressor(max_depth=40, max_features=&#x27;sqrt&#x27;,\n",
       "                                       min_samples_leaf=2, n_estimators=500))])</pre><b>In a Jupyter environment, please rerun this cell to show the HTML representation or trust the notebook. <br />On GitHub, the HTML representation is unable to render, please try loading this page with nbviewer.org.</b></div><div class=\"sk-container\" hidden><div class=\"sk-item sk-dashed-wrapped\"><div class=\"sk-label-container\"><div class=\"sk-label sk-toggleable\"><input class=\"sk-toggleable__control sk-hidden--visually\" id=\"sk-estimator-id-5\" type=\"checkbox\" ><label for=\"sk-estimator-id-5\" class=\"sk-toggleable__label sk-toggleable__label-arrow\">Pipeline</label><div class=\"sk-toggleable__content\"><pre>Pipeline(steps=[(&#x27;scaler&#x27;, StandardScaler()),\n",
       "                (&#x27;rnd_reg1&#x27;,\n",
       "                 RandomForestRegressor(max_depth=40, max_features=&#x27;sqrt&#x27;,\n",
       "                                       min_samples_leaf=2, n_estimators=500))])</pre></div></div></div><div class=\"sk-serial\"><div class=\"sk-item\"><div class=\"sk-estimator sk-toggleable\"><input class=\"sk-toggleable__control sk-hidden--visually\" id=\"sk-estimator-id-6\" type=\"checkbox\" ><label for=\"sk-estimator-id-6\" class=\"sk-toggleable__label sk-toggleable__label-arrow\">StandardScaler</label><div class=\"sk-toggleable__content\"><pre>StandardScaler()</pre></div></div></div><div class=\"sk-item\"><div class=\"sk-estimator sk-toggleable\"><input class=\"sk-toggleable__control sk-hidden--visually\" id=\"sk-estimator-id-7\" type=\"checkbox\" ><label for=\"sk-estimator-id-7\" class=\"sk-toggleable__label sk-toggleable__label-arrow\">RandomForestRegressor</label><div class=\"sk-toggleable__content\"><pre>RandomForestRegressor(max_depth=40, max_features=&#x27;sqrt&#x27;, min_samples_leaf=2,\n",
       "                      n_estimators=500)</pre></div></div></div></div></div></div></div>"
      ],
      "text/plain": [
       "Pipeline(steps=[('scaler', StandardScaler()),\n",
       "                ('rnd_reg1',\n",
       "                 RandomForestRegressor(max_depth=40, max_features='sqrt',\n",
       "                                       min_samples_leaf=2, n_estimators=500))])"
      ]
     },
     "execution_count": 32,
     "metadata": {},
     "output_type": "execute_result"
    }
   ],
   "source": [
    "rnd_search.best_estimator_"
   ]
  },
  {
   "cell_type": "code",
   "execution_count": 33,
   "metadata": {},
   "outputs": [
    {
     "data": {
      "text/plain": [
       "{'rnd_reg1__n_estimators': 500,\n",
       " 'rnd_reg1__min_samples_split': 2,\n",
       " 'rnd_reg1__min_samples_leaf': 2,\n",
       " 'rnd_reg1__max_features': 'sqrt',\n",
       " 'rnd_reg1__max_depth': 40,\n",
       " 'rnd_reg1__bootstrap': True}"
      ]
     },
     "execution_count": 33,
     "metadata": {},
     "output_type": "execute_result"
    }
   ],
   "source": [
    "rnd_search.best_params_"
   ]
  },
  {
   "cell_type": "code",
   "execution_count": 35,
   "metadata": {},
   "outputs": [],
   "source": [
    "from sklearn.model_selection import GridSearchCV\n",
    "param_grid = {\n",
    "    \"rnd_reg1__bootstrap\": [True],\n",
    "    \"rnd_reg1__max_depth\": [10, 15, 20, 25,30,40],\n",
    "    \"rnd_reg1__min_samples_leaf\": [1,2,3],\n",
    "    \"rnd_reg1__min_samples_split\": [1,2,3],\n",
    "    \"rnd_reg1__n_estimators\": [500, 525, 600, 650, 700]\n",
    "}\n",
    "\n",
    "grid_search = GridSearchCV(estimator=rnd_pipeline,param_grid=param_grid,cv=10,n_jobs=2)"
   ]
  },
  {
   "cell_type": "code",
   "execution_count": 36,
   "metadata": {},
   "outputs": [
    {
     "name": "stderr",
     "output_type": "stream",
     "text": [
      "f:\\Projects\\Micromilling_process_optimisation\\.venv\\Lib\\site-packages\\sklearn\\model_selection\\_validation.py:425: FitFailedWarning: \n",
      "900 fits failed out of a total of 2700.\n",
      "The score on these train-test partitions for these parameters will be set to nan.\n",
      "If these failures are not expected, you can try to debug them by setting error_score='raise'.\n",
      "\n",
      "Below are more details about the failures:\n",
      "--------------------------------------------------------------------------------\n",
      "900 fits failed with the following error:\n",
      "Traceback (most recent call last):\n",
      "  File \"f:\\Projects\\Micromilling_process_optimisation\\.venv\\Lib\\site-packages\\sklearn\\model_selection\\_validation.py\", line 729, in _fit_and_score\n",
      "    estimator.fit(X_train, y_train, **fit_params)\n",
      "  File \"f:\\Projects\\Micromilling_process_optimisation\\.venv\\Lib\\site-packages\\sklearn\\base.py\", line 1152, in wrapper\n",
      "    return fit_method(estimator, *args, **kwargs)\n",
      "           ^^^^^^^^^^^^^^^^^^^^^^^^^^^^^^^^^^^^^^\n",
      "  File \"f:\\Projects\\Micromilling_process_optimisation\\.venv\\Lib\\site-packages\\sklearn\\pipeline.py\", line 427, in fit\n",
      "    self._final_estimator.fit(Xt, y, **fit_params_last_step)\n",
      "  File \"f:\\Projects\\Micromilling_process_optimisation\\.venv\\Lib\\site-packages\\sklearn\\base.py\", line 1145, in wrapper\n",
      "    estimator._validate_params()\n",
      "  File \"f:\\Projects\\Micromilling_process_optimisation\\.venv\\Lib\\site-packages\\sklearn\\base.py\", line 638, in _validate_params\n",
      "    validate_parameter_constraints(\n",
      "  File \"f:\\Projects\\Micromilling_process_optimisation\\.venv\\Lib\\site-packages\\sklearn\\utils\\_param_validation.py\", line 96, in validate_parameter_constraints\n",
      "    raise InvalidParameterError(\n",
      "sklearn.utils._param_validation.InvalidParameterError: The 'min_samples_split' parameter of RandomForestRegressor must be an int in the range [2, inf) or a float in the range (0.0, 1.0]. Got 1 instead.\n",
      "\n",
      "  warnings.warn(some_fits_failed_message, FitFailedWarning)\n",
      "f:\\Projects\\Micromilling_process_optimisation\\.venv\\Lib\\site-packages\\sklearn\\model_selection\\_search.py:979: UserWarning: One or more of the test scores are non-finite: [            nan             nan             nan             nan\n",
      "             nan  7.03060650e-02  7.30539646e-02  6.98298172e-02\n",
      "  8.68335426e-02  7.53199321e-02  1.34549959e-02  4.02087226e-02\n",
      "  3.26815711e-02  2.41714526e-02  5.08473336e-02             nan\n",
      "             nan             nan             nan             nan\n",
      "  5.14405534e-03  1.71314935e-02  1.05954854e-02  5.86522951e-03\n",
      " -2.19817885e-03 -7.19842672e-03  8.81520514e-03  1.27026598e-02\n",
      " -1.25321594e-02  5.23826017e-03             nan             nan\n",
      "             nan             nan             nan -7.68865480e-02\n",
      " -6.61913414e-02 -6.58194233e-02 -7.03896227e-02 -7.21273063e-02\n",
      " -6.16445495e-02 -6.79883353e-02 -7.80191424e-02 -6.97442714e-02\n",
      " -6.50448896e-02             nan             nan             nan\n",
      "             nan             nan  1.00826744e-01  8.33291021e-02\n",
      "  9.73023685e-02  8.05699532e-02  7.98085112e-02  2.84994212e-02\n",
      "  4.44186099e-02  3.51106293e-02  2.96640061e-02  3.37106061e-02\n",
      "             nan             nan             nan             nan\n",
      "             nan  1.26253841e-02  4.97284169e-03  4.98642767e-03\n",
      "  1.87959418e-03  3.24746688e-03 -5.24596777e-03  7.54582039e-03\n",
      "  5.69163241e-03 -4.79038417e-04 -1.17970222e-02             nan\n",
      "             nan             nan             nan             nan\n",
      " -6.45781844e-02 -7.44589886e-02 -7.42851267e-02 -7.03935125e-02\n",
      " -7.04489703e-02 -6.30598999e-02 -7.13367562e-02 -6.86092473e-02\n",
      " -7.81732487e-02 -7.48289017e-02             nan             nan\n",
      "             nan             nan             nan  7.99998517e-02\n",
      "  8.68172547e-02  8.97022929e-02  8.86087156e-02  8.70413281e-02\n",
      "  1.56725515e-02  2.85280579e-02  4.61967345e-02  2.78920090e-02\n",
      "  3.34043289e-02             nan             nan             nan\n",
      "             nan             nan -6.48282543e-03 -6.24507989e-06\n",
      "  6.61972969e-03 -4.88200982e-03  1.00386652e-02 -4.23644912e-03\n",
      "  7.19820428e-03  7.52314701e-03  8.64867922e-03 -8.07119251e-03\n",
      "             nan             nan             nan             nan\n",
      "             nan -5.80418184e-02 -8.06292017e-02 -6.89594186e-02\n",
      " -7.35379929e-02 -6.78073362e-02 -5.77888999e-02 -7.30223768e-02\n",
      " -6.73322568e-02 -7.69016025e-02 -7.42082866e-02             nan\n",
      "             nan             nan             nan             nan\n",
      "  1.02439918e-01  1.00543124e-01  7.62974065e-02  8.17350690e-02\n",
      "  8.67716644e-02  3.72389892e-02  3.57890269e-02  3.17838562e-02\n",
      "  3.51955256e-02  3.62076150e-02             nan             nan\n",
      "             nan             nan             nan -1.62092632e-03\n",
      " -5.16805771e-03  5.03382564e-03  1.16903432e-02  6.51456596e-03\n",
      "  1.30472381e-02  1.77319763e-03  5.00111236e-03  9.41510094e-03\n",
      " -6.79822862e-03             nan             nan             nan\n",
      "             nan             nan -9.22519060e-02 -7.73494614e-02\n",
      " -8.07037293e-02 -6.20826600e-02 -7.62102766e-02 -6.57234503e-02\n",
      " -6.75721432e-02 -6.82534515e-02 -5.94620174e-02 -6.08636842e-02\n",
      "             nan             nan             nan             nan\n",
      "             nan  8.09849594e-02  7.65915287e-02  8.83090216e-02\n",
      "  6.78691243e-02  8.66445465e-02  5.65028503e-02  3.88516619e-02\n",
      "  2.55771210e-02  4.13331372e-02  3.89324393e-02             nan\n",
      "             nan             nan             nan             nan\n",
      "  3.13048856e-03 -2.11598130e-03 -3.52241201e-03  9.04035925e-03\n",
      " -4.82795068e-03  2.53293851e-03 -6.40220990e-03  2.58192500e-03\n",
      "  1.74844644e-02  1.13729193e-02             nan             nan\n",
      "             nan             nan             nan -6.60931463e-02\n",
      " -7.27348594e-02 -7.31899001e-02 -9.06026840e-02 -6.81388232e-02\n",
      " -7.67736096e-02 -6.74655788e-02 -7.39150790e-02 -7.76404886e-02\n",
      " -6.81939745e-02             nan             nan             nan\n",
      "             nan             nan  7.79694782e-02  1.05722035e-01\n",
      "  8.99057219e-02  6.98522484e-02  8.73211641e-02  3.09847582e-02\n",
      "  2.56317487e-02  3.95460817e-02  2.20718252e-02  2.26454951e-02\n",
      "             nan             nan             nan             nan\n",
      "             nan -1.43269536e-03  2.37022849e-03  8.19685098e-03\n",
      "  9.63776775e-03 -1.01999047e-03  2.25725224e-02 -1.97611099e-03\n",
      "  1.93871283e-03  1.30999936e-02 -1.07712106e-02             nan\n",
      "             nan             nan             nan             nan\n",
      " -8.74754844e-02 -7.23999014e-02 -8.47611532e-02 -6.86246475e-02\n",
      " -6.98410618e-02 -9.42660306e-02 -5.80741346e-02 -6.98927127e-02\n",
      " -7.08687409e-02 -6.27179497e-02]\n",
      "  warnings.warn(\n"
     ]
    },
    {
     "data": {
      "text/html": [
       "<style>#sk-container-id-3 {color: black;}#sk-container-id-3 pre{padding: 0;}#sk-container-id-3 div.sk-toggleable {background-color: white;}#sk-container-id-3 label.sk-toggleable__label {cursor: pointer;display: block;width: 100%;margin-bottom: 0;padding: 0.3em;box-sizing: border-box;text-align: center;}#sk-container-id-3 label.sk-toggleable__label-arrow:before {content: \"▸\";float: left;margin-right: 0.25em;color: #696969;}#sk-container-id-3 label.sk-toggleable__label-arrow:hover:before {color: black;}#sk-container-id-3 div.sk-estimator:hover label.sk-toggleable__label-arrow:before {color: black;}#sk-container-id-3 div.sk-toggleable__content {max-height: 0;max-width: 0;overflow: hidden;text-align: left;background-color: #f0f8ff;}#sk-container-id-3 div.sk-toggleable__content pre {margin: 0.2em;color: black;border-radius: 0.25em;background-color: #f0f8ff;}#sk-container-id-3 input.sk-toggleable__control:checked~div.sk-toggleable__content {max-height: 200px;max-width: 100%;overflow: auto;}#sk-container-id-3 input.sk-toggleable__control:checked~label.sk-toggleable__label-arrow:before {content: \"▾\";}#sk-container-id-3 div.sk-estimator input.sk-toggleable__control:checked~label.sk-toggleable__label {background-color: #d4ebff;}#sk-container-id-3 div.sk-label input.sk-toggleable__control:checked~label.sk-toggleable__label {background-color: #d4ebff;}#sk-container-id-3 input.sk-hidden--visually {border: 0;clip: rect(1px 1px 1px 1px);clip: rect(1px, 1px, 1px, 1px);height: 1px;margin: -1px;overflow: hidden;padding: 0;position: absolute;width: 1px;}#sk-container-id-3 div.sk-estimator {font-family: monospace;background-color: #f0f8ff;border: 1px dotted black;border-radius: 0.25em;box-sizing: border-box;margin-bottom: 0.5em;}#sk-container-id-3 div.sk-estimator:hover {background-color: #d4ebff;}#sk-container-id-3 div.sk-parallel-item::after {content: \"\";width: 100%;border-bottom: 1px solid gray;flex-grow: 1;}#sk-container-id-3 div.sk-label:hover label.sk-toggleable__label {background-color: #d4ebff;}#sk-container-id-3 div.sk-serial::before {content: \"\";position: absolute;border-left: 1px solid gray;box-sizing: border-box;top: 0;bottom: 0;left: 50%;z-index: 0;}#sk-container-id-3 div.sk-serial {display: flex;flex-direction: column;align-items: center;background-color: white;padding-right: 0.2em;padding-left: 0.2em;position: relative;}#sk-container-id-3 div.sk-item {position: relative;z-index: 1;}#sk-container-id-3 div.sk-parallel {display: flex;align-items: stretch;justify-content: center;background-color: white;position: relative;}#sk-container-id-3 div.sk-item::before, #sk-container-id-3 div.sk-parallel-item::before {content: \"\";position: absolute;border-left: 1px solid gray;box-sizing: border-box;top: 0;bottom: 0;left: 50%;z-index: -1;}#sk-container-id-3 div.sk-parallel-item {display: flex;flex-direction: column;z-index: 1;position: relative;background-color: white;}#sk-container-id-3 div.sk-parallel-item:first-child::after {align-self: flex-end;width: 50%;}#sk-container-id-3 div.sk-parallel-item:last-child::after {align-self: flex-start;width: 50%;}#sk-container-id-3 div.sk-parallel-item:only-child::after {width: 0;}#sk-container-id-3 div.sk-dashed-wrapped {border: 1px dashed gray;margin: 0 0.4em 0.5em 0.4em;box-sizing: border-box;padding-bottom: 0.4em;background-color: white;}#sk-container-id-3 div.sk-label label {font-family: monospace;font-weight: bold;display: inline-block;line-height: 1.2em;}#sk-container-id-3 div.sk-label-container {text-align: center;}#sk-container-id-3 div.sk-container {/* jupyter's `normalize.less` sets `[hidden] { display: none; }` but bootstrap.min.css set `[hidden] { display: none !important; }` so we also need the `!important` here to be able to override the default hidden behavior on the sphinx rendered scikit-learn.org. See: https://github.com/scikit-learn/scikit-learn/issues/21755 */display: inline-block !important;position: relative;}#sk-container-id-3 div.sk-text-repr-fallback {display: none;}</style><div id=\"sk-container-id-3\" class=\"sk-top-container\"><div class=\"sk-text-repr-fallback\"><pre>GridSearchCV(cv=10,\n",
       "             estimator=Pipeline(steps=[(&#x27;scaler&#x27;, StandardScaler()),\n",
       "                                       (&#x27;rnd_reg1&#x27;, RandomForestRegressor())]),\n",
       "             n_jobs=2,\n",
       "             param_grid={&#x27;rnd_reg1__bootstrap&#x27;: [True],\n",
       "                         &#x27;rnd_reg1__max_depth&#x27;: [10, 15, 20, 25, 30, 40],\n",
       "                         &#x27;rnd_reg1__min_samples_leaf&#x27;: [1, 2, 3],\n",
       "                         &#x27;rnd_reg1__min_samples_split&#x27;: [1, 2, 3],\n",
       "                         &#x27;rnd_reg1__n_estimators&#x27;: [500, 525, 600, 650, 700]})</pre><b>In a Jupyter environment, please rerun this cell to show the HTML representation or trust the notebook. <br />On GitHub, the HTML representation is unable to render, please try loading this page with nbviewer.org.</b></div><div class=\"sk-container\" hidden><div class=\"sk-item sk-dashed-wrapped\"><div class=\"sk-label-container\"><div class=\"sk-label sk-toggleable\"><input class=\"sk-toggleable__control sk-hidden--visually\" id=\"sk-estimator-id-8\" type=\"checkbox\" ><label for=\"sk-estimator-id-8\" class=\"sk-toggleable__label sk-toggleable__label-arrow\">GridSearchCV</label><div class=\"sk-toggleable__content\"><pre>GridSearchCV(cv=10,\n",
       "             estimator=Pipeline(steps=[(&#x27;scaler&#x27;, StandardScaler()),\n",
       "                                       (&#x27;rnd_reg1&#x27;, RandomForestRegressor())]),\n",
       "             n_jobs=2,\n",
       "             param_grid={&#x27;rnd_reg1__bootstrap&#x27;: [True],\n",
       "                         &#x27;rnd_reg1__max_depth&#x27;: [10, 15, 20, 25, 30, 40],\n",
       "                         &#x27;rnd_reg1__min_samples_leaf&#x27;: [1, 2, 3],\n",
       "                         &#x27;rnd_reg1__min_samples_split&#x27;: [1, 2, 3],\n",
       "                         &#x27;rnd_reg1__n_estimators&#x27;: [500, 525, 600, 650, 700]})</pre></div></div></div><div class=\"sk-parallel\"><div class=\"sk-parallel-item\"><div class=\"sk-item\"><div class=\"sk-label-container\"><div class=\"sk-label sk-toggleable\"><input class=\"sk-toggleable__control sk-hidden--visually\" id=\"sk-estimator-id-9\" type=\"checkbox\" ><label for=\"sk-estimator-id-9\" class=\"sk-toggleable__label sk-toggleable__label-arrow\">estimator: Pipeline</label><div class=\"sk-toggleable__content\"><pre>Pipeline(steps=[(&#x27;scaler&#x27;, StandardScaler()),\n",
       "                (&#x27;rnd_reg1&#x27;, RandomForestRegressor())])</pre></div></div></div><div class=\"sk-serial\"><div class=\"sk-item\"><div class=\"sk-serial\"><div class=\"sk-item\"><div class=\"sk-estimator sk-toggleable\"><input class=\"sk-toggleable__control sk-hidden--visually\" id=\"sk-estimator-id-10\" type=\"checkbox\" ><label for=\"sk-estimator-id-10\" class=\"sk-toggleable__label sk-toggleable__label-arrow\">StandardScaler</label><div class=\"sk-toggleable__content\"><pre>StandardScaler()</pre></div></div></div><div class=\"sk-item\"><div class=\"sk-estimator sk-toggleable\"><input class=\"sk-toggleable__control sk-hidden--visually\" id=\"sk-estimator-id-11\" type=\"checkbox\" ><label for=\"sk-estimator-id-11\" class=\"sk-toggleable__label sk-toggleable__label-arrow\">RandomForestRegressor</label><div class=\"sk-toggleable__content\"><pre>RandomForestRegressor()</pre></div></div></div></div></div></div></div></div></div></div></div></div>"
      ],
      "text/plain": [
       "GridSearchCV(cv=10,\n",
       "             estimator=Pipeline(steps=[('scaler', StandardScaler()),\n",
       "                                       ('rnd_reg1', RandomForestRegressor())]),\n",
       "             n_jobs=2,\n",
       "             param_grid={'rnd_reg1__bootstrap': [True],\n",
       "                         'rnd_reg1__max_depth': [10, 15, 20, 25, 30, 40],\n",
       "                         'rnd_reg1__min_samples_leaf': [1, 2, 3],\n",
       "                         'rnd_reg1__min_samples_split': [1, 2, 3],\n",
       "                         'rnd_reg1__n_estimators': [500, 525, 600, 650, 700]})"
      ]
     },
     "execution_count": 36,
     "metadata": {},
     "output_type": "execute_result"
    }
   ],
   "source": [
    "grid_search.fit(X_train,y_train)"
   ]
  },
  {
   "cell_type": "code",
   "execution_count": 37,
   "metadata": {},
   "outputs": [
    {
     "data": {
      "text/html": [
       "<style>#sk-container-id-4 {color: black;}#sk-container-id-4 pre{padding: 0;}#sk-container-id-4 div.sk-toggleable {background-color: white;}#sk-container-id-4 label.sk-toggleable__label {cursor: pointer;display: block;width: 100%;margin-bottom: 0;padding: 0.3em;box-sizing: border-box;text-align: center;}#sk-container-id-4 label.sk-toggleable__label-arrow:before {content: \"▸\";float: left;margin-right: 0.25em;color: #696969;}#sk-container-id-4 label.sk-toggleable__label-arrow:hover:before {color: black;}#sk-container-id-4 div.sk-estimator:hover label.sk-toggleable__label-arrow:before {color: black;}#sk-container-id-4 div.sk-toggleable__content {max-height: 0;max-width: 0;overflow: hidden;text-align: left;background-color: #f0f8ff;}#sk-container-id-4 div.sk-toggleable__content pre {margin: 0.2em;color: black;border-radius: 0.25em;background-color: #f0f8ff;}#sk-container-id-4 input.sk-toggleable__control:checked~div.sk-toggleable__content {max-height: 200px;max-width: 100%;overflow: auto;}#sk-container-id-4 input.sk-toggleable__control:checked~label.sk-toggleable__label-arrow:before {content: \"▾\";}#sk-container-id-4 div.sk-estimator input.sk-toggleable__control:checked~label.sk-toggleable__label {background-color: #d4ebff;}#sk-container-id-4 div.sk-label input.sk-toggleable__control:checked~label.sk-toggleable__label {background-color: #d4ebff;}#sk-container-id-4 input.sk-hidden--visually {border: 0;clip: rect(1px 1px 1px 1px);clip: rect(1px, 1px, 1px, 1px);height: 1px;margin: -1px;overflow: hidden;padding: 0;position: absolute;width: 1px;}#sk-container-id-4 div.sk-estimator {font-family: monospace;background-color: #f0f8ff;border: 1px dotted black;border-radius: 0.25em;box-sizing: border-box;margin-bottom: 0.5em;}#sk-container-id-4 div.sk-estimator:hover {background-color: #d4ebff;}#sk-container-id-4 div.sk-parallel-item::after {content: \"\";width: 100%;border-bottom: 1px solid gray;flex-grow: 1;}#sk-container-id-4 div.sk-label:hover label.sk-toggleable__label {background-color: #d4ebff;}#sk-container-id-4 div.sk-serial::before {content: \"\";position: absolute;border-left: 1px solid gray;box-sizing: border-box;top: 0;bottom: 0;left: 50%;z-index: 0;}#sk-container-id-4 div.sk-serial {display: flex;flex-direction: column;align-items: center;background-color: white;padding-right: 0.2em;padding-left: 0.2em;position: relative;}#sk-container-id-4 div.sk-item {position: relative;z-index: 1;}#sk-container-id-4 div.sk-parallel {display: flex;align-items: stretch;justify-content: center;background-color: white;position: relative;}#sk-container-id-4 div.sk-item::before, #sk-container-id-4 div.sk-parallel-item::before {content: \"\";position: absolute;border-left: 1px solid gray;box-sizing: border-box;top: 0;bottom: 0;left: 50%;z-index: -1;}#sk-container-id-4 div.sk-parallel-item {display: flex;flex-direction: column;z-index: 1;position: relative;background-color: white;}#sk-container-id-4 div.sk-parallel-item:first-child::after {align-self: flex-end;width: 50%;}#sk-container-id-4 div.sk-parallel-item:last-child::after {align-self: flex-start;width: 50%;}#sk-container-id-4 div.sk-parallel-item:only-child::after {width: 0;}#sk-container-id-4 div.sk-dashed-wrapped {border: 1px dashed gray;margin: 0 0.4em 0.5em 0.4em;box-sizing: border-box;padding-bottom: 0.4em;background-color: white;}#sk-container-id-4 div.sk-label label {font-family: monospace;font-weight: bold;display: inline-block;line-height: 1.2em;}#sk-container-id-4 div.sk-label-container {text-align: center;}#sk-container-id-4 div.sk-container {/* jupyter's `normalize.less` sets `[hidden] { display: none; }` but bootstrap.min.css set `[hidden] { display: none !important; }` so we also need the `!important` here to be able to override the default hidden behavior on the sphinx rendered scikit-learn.org. See: https://github.com/scikit-learn/scikit-learn/issues/21755 */display: inline-block !important;position: relative;}#sk-container-id-4 div.sk-text-repr-fallback {display: none;}</style><div id=\"sk-container-id-4\" class=\"sk-top-container\"><div class=\"sk-text-repr-fallback\"><pre>Pipeline(steps=[(&#x27;scaler&#x27;, StandardScaler()),\n",
       "                (&#x27;rnd_reg1&#x27;,\n",
       "                 RandomForestRegressor(max_depth=40, n_estimators=525))])</pre><b>In a Jupyter environment, please rerun this cell to show the HTML representation or trust the notebook. <br />On GitHub, the HTML representation is unable to render, please try loading this page with nbviewer.org.</b></div><div class=\"sk-container\" hidden><div class=\"sk-item sk-dashed-wrapped\"><div class=\"sk-label-container\"><div class=\"sk-label sk-toggleable\"><input class=\"sk-toggleable__control sk-hidden--visually\" id=\"sk-estimator-id-12\" type=\"checkbox\" ><label for=\"sk-estimator-id-12\" class=\"sk-toggleable__label sk-toggleable__label-arrow\">Pipeline</label><div class=\"sk-toggleable__content\"><pre>Pipeline(steps=[(&#x27;scaler&#x27;, StandardScaler()),\n",
       "                (&#x27;rnd_reg1&#x27;,\n",
       "                 RandomForestRegressor(max_depth=40, n_estimators=525))])</pre></div></div></div><div class=\"sk-serial\"><div class=\"sk-item\"><div class=\"sk-estimator sk-toggleable\"><input class=\"sk-toggleable__control sk-hidden--visually\" id=\"sk-estimator-id-13\" type=\"checkbox\" ><label for=\"sk-estimator-id-13\" class=\"sk-toggleable__label sk-toggleable__label-arrow\">StandardScaler</label><div class=\"sk-toggleable__content\"><pre>StandardScaler()</pre></div></div></div><div class=\"sk-item\"><div class=\"sk-estimator sk-toggleable\"><input class=\"sk-toggleable__control sk-hidden--visually\" id=\"sk-estimator-id-14\" type=\"checkbox\" ><label for=\"sk-estimator-id-14\" class=\"sk-toggleable__label sk-toggleable__label-arrow\">RandomForestRegressor</label><div class=\"sk-toggleable__content\"><pre>RandomForestRegressor(max_depth=40, n_estimators=525)</pre></div></div></div></div></div></div></div>"
      ],
      "text/plain": [
       "Pipeline(steps=[('scaler', StandardScaler()),\n",
       "                ('rnd_reg1',\n",
       "                 RandomForestRegressor(max_depth=40, n_estimators=525))])"
      ]
     },
     "execution_count": 37,
     "metadata": {},
     "output_type": "execute_result"
    }
   ],
   "source": [
    "grid_search.best_estimator_"
   ]
  },
  {
   "cell_type": "code",
   "execution_count": 38,
   "metadata": {},
   "outputs": [
    {
     "data": {
      "text/plain": [
       "{'rnd_reg1__bootstrap': True,\n",
       " 'rnd_reg1__max_depth': 40,\n",
       " 'rnd_reg1__min_samples_leaf': 1,\n",
       " 'rnd_reg1__min_samples_split': 2,\n",
       " 'rnd_reg1__n_estimators': 525}"
      ]
     },
     "execution_count": 38,
     "metadata": {},
     "output_type": "execute_result"
    }
   ],
   "source": [
    "grid_search.best_params_"
   ]
  },
  {
   "cell_type": "code",
   "execution_count": 39,
   "metadata": {},
   "outputs": [],
   "source": [
    "final_rf_model = grid_search.best_estimator_"
   ]
  },
  {
   "cell_type": "code",
   "execution_count": 40,
   "metadata": {},
   "outputs": [
    {
     "name": "stdout",
     "output_type": "stream",
     "text": [
      "Scores: [293.11916834 250.85088801 370.66024668 230.27201825 354.69971305\n",
      " 486.988748   251.45471979 278.0577743  294.83107336 250.97268122]\n",
      "Mean: 306.1907031004967\n",
      "Standard deviation: 74.26974261327342\n"
     ]
    }
   ],
   "source": [
    "Performance_testing(final_rf_model,X_train,y_train,10)"
   ]
  },
  {
   "cell_type": "code",
   "execution_count": 41,
   "metadata": {},
   "outputs": [
    {
     "data": {
      "text/plain": [
       "['Random_Forest_Model.pkl']"
      ]
     },
     "execution_count": 41,
     "metadata": {},
     "output_type": "execute_result"
    }
   ],
   "source": [
    "import joblib\n",
    "joblib.dump(final_rf_model,\"Random_Forest_Model.pkl\")"
   ]
  },
  {
   "cell_type": "code",
   "execution_count": 43,
   "metadata": {},
   "outputs": [],
   "source": [
    "model = joblib.load(\"Random_Forest_Model.pkl\")"
   ]
  },
  {
   "cell_type": "markdown",
   "metadata": {},
   "source": [
    "## Models Testing"
   ]
  },
  {
   "cell_type": "markdown",
   "metadata": {},
   "source": [
    "### 2. Random Forest Testing"
   ]
  },
  {
   "cell_type": "code",
   "execution_count": 47,
   "metadata": {},
   "outputs": [],
   "source": [
    "X_test = test_set.drop([\"Spindle Speed\", \"Feed (mm/min)\"], axis = 1)\n",
    "y_test=pd.concat([test_set[\"Spindle Speed\"], test_set[\"Feed (mm/min)\"]], axis=1)"
   ]
  },
  {
   "cell_type": "code",
   "execution_count": 50,
   "metadata": {},
   "outputs": [],
   "source": [
    "y_pred = model.predict(X_test)"
   ]
  },
  {
   "cell_type": "code",
   "execution_count": 54,
   "metadata": {},
   "outputs": [],
   "source": [
    "from sklearn.metrics import r2_score, mean_squared_error\n",
    "mse = mean_squared_error(y_test,y_pred)\n",
    "r2s = r2_score(y_test, y_pred)"
   ]
  },
  {
   "cell_type": "code",
   "execution_count": 52,
   "metadata": {},
   "outputs": [
    {
     "data": {
      "text/plain": [
       "104590.39980622551"
      ]
     },
     "execution_count": 52,
     "metadata": {},
     "output_type": "execute_result"
    }
   ],
   "source": [
    "mse"
   ]
  },
  {
   "cell_type": "code",
   "execution_count": 55,
   "metadata": {},
   "outputs": [
    {
     "data": {
      "text/plain": [
       "0.400240491878137"
      ]
     },
     "execution_count": 55,
     "metadata": {},
     "output_type": "execute_result"
    }
   ],
   "source": [
    "r2s"
   ]
  },
  {
   "cell_type": "code",
   "execution_count": null,
   "metadata": {},
   "outputs": [],
   "source": []
  }
 ],
 "metadata": {
  "kernelspec": {
   "display_name": ".venv",
   "language": "python",
   "name": "python3"
  },
  "language_info": {
   "codemirror_mode": {
    "name": "ipython",
    "version": 3
   },
   "file_extension": ".py",
   "mimetype": "text/x-python",
   "name": "python",
   "nbconvert_exporter": "python",
   "pygments_lexer": "ipython3",
   "version": "3.11.5"
  }
 },
 "nbformat": 4,
 "nbformat_minor": 2
}
