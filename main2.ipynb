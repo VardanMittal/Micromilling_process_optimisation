{
 "cells": [
  {
   "cell_type": "code",
   "execution_count": 1,
   "metadata": {},
   "outputs": [
    {
     "name": "stdout",
     "output_type": "stream",
     "text": [
      "Note: you may need to restart the kernel to use updated packages.\n"
     ]
    },
    {
     "name": "stderr",
     "output_type": "stream",
     "text": [
      "\n",
      "[notice] A new release of pip is available: 23.2.1 -> 23.3.1\n",
      "[notice] To update, run: python.exe -m pip install --upgrade pip\n"
     ]
    },
    {
     "name": "stdout",
     "output_type": "stream",
     "text": [
      "Note: you may need to restart the kernel to use updated packages.\n"
     ]
    },
    {
     "name": "stderr",
     "output_type": "stream",
     "text": [
      "\n",
      "[notice] A new release of pip is available: 23.2.1 -> 23.3.1\n",
      "[notice] To update, run: python.exe -m pip install --upgrade pip\n"
     ]
    }
   ],
   "source": [
    "%pip install -q -U keras-tuner\n",
    "%pip install -q -U tensorboard-plugin-profile"
   ]
  },
  {
   "cell_type": "code",
   "execution_count": 2,
   "metadata": {},
   "outputs": [
    {
     "name": "stdout",
     "output_type": "stream",
     "text": [
      "WARNING:tensorflow:From e:\\Projects\\Micromilling_process_optimisation\\.venv\\Lib\\site-packages\\keras\\src\\losses.py:2976: The name tf.losses.sparse_softmax_cross_entropy is deprecated. Please use tf.compat.v1.losses.sparse_softmax_cross_entropy instead.\n",
      "\n"
     ]
    }
   ],
   "source": [
    "import pandas as pd\n",
    "import tensorflow as tf\n",
    "from tensorflow import keras\n",
    "import keras_tuner as kt"
   ]
  },
  {
   "cell_type": "markdown",
   "metadata": {},
   "source": [
    "## Data Fetching"
   ]
  },
  {
   "cell_type": "code",
   "execution_count": 3,
   "metadata": {},
   "outputs": [
    {
     "name": "stderr",
     "output_type": "stream",
     "text": [
      "C:\\Users\\Vardan\\AppData\\Local\\Temp\\ipykernel_9848\\1164869249.py:2: DeprecationWarning: [Deprecated][in version 6.0.0]: client_factory will be replaced by gspread.http_client types\n",
      "  data = read_data()\n"
     ]
    }
   ],
   "source": [
    "from utils.data_fetch import read_data\n",
    "data = read_data()"
   ]
  },
  {
   "cell_type": "code",
   "execution_count": 4,
   "metadata": {},
   "outputs": [
    {
     "name": "stdout",
     "output_type": "stream",
     "text": [
      "<class 'pandas.core.frame.DataFrame'>\n",
      "RangeIndex: 27 entries, 0 to 26\n",
      "Data columns (total 5 columns):\n",
      " #   Column            Non-Null Count  Dtype  \n",
      "---  ------            --------------  -----  \n",
      " 0   Spindle Speed     27 non-null     float64\n",
      " 1   Feed (mm/min)     27 non-null     float64\n",
      " 2   Tool Dia. (mm)    27 non-null     float64\n",
      " 3   MRR (mm^3 / min)  27 non-null     float64\n",
      " 4   L_e               27 non-null     float64\n",
      "dtypes: float64(5)\n",
      "memory usage: 1.2 KB\n"
     ]
    }
   ],
   "source": [
    "data.info()"
   ]
  },
  {
   "cell_type": "markdown",
   "metadata": {},
   "source": [
    "## Data Preprocessing"
   ]
  },
  {
   "cell_type": "code",
   "execution_count": 5,
   "metadata": {},
   "outputs": [],
   "source": [
    "from sklearn.model_selection import train_test_split\n",
    "train_set, test_set = train_test_split(data, test_size=0.2, random_state=32)"
   ]
  },
  {
   "cell_type": "code",
   "execution_count": 6,
   "metadata": {},
   "outputs": [],
   "source": [
    "X_train_full = train_set.drop([\"L_e\", \"MRR (mm^3 / min)\"], axis = 1)\n",
    "y_train_full =pd.concat([train_set[\"L_e\"], train_set[\"MRR (mm^3 / min)\"]], axis=1)"
   ]
  },
  {
   "cell_type": "code",
   "execution_count": 7,
   "metadata": {},
   "outputs": [],
   "source": [
    "train_set, val_set = train_test_split(train_set, test_size=0.2, random_state=32)"
   ]
  },
  {
   "cell_type": "code",
   "execution_count": 8,
   "metadata": {},
   "outputs": [],
   "source": [
    "X_train = train_set.drop([\"L_e\", \"MRR (mm^3 / min)\"], axis = 1)\n",
    "y_train=pd.concat([train_set[\"L_e\"], train_set[\"MRR (mm^3 / min)\"]], axis=1)"
   ]
  },
  {
   "cell_type": "code",
   "execution_count": 9,
   "metadata": {},
   "outputs": [],
   "source": [
    "X_val = val_set.drop([\"L_e\", \"MRR (mm^3 / min)\"], axis = 1)\n",
    "y_val=pd.concat([val_set[\"L_e\"], val_set[\"MRR (mm^3 / min)\"]], axis=1)"
   ]
  },
  {
   "cell_type": "code",
   "execution_count": 10,
   "metadata": {},
   "outputs": [],
   "source": [
    "X_test = test_set.drop([\"L_e\", \"MRR (mm^3 / min)\"], axis = 1)\n",
    "y_test=pd.concat([test_set[\"L_e\"], test_set[\"MRR (mm^3 / min)\"]], axis=1)"
   ]
  },
  {
   "cell_type": "code",
   "execution_count": 11,
   "metadata": {},
   "outputs": [
    {
     "data": {
      "text/plain": [
       "(16, 3)"
      ]
     },
     "execution_count": 11,
     "metadata": {},
     "output_type": "execute_result"
    }
   ],
   "source": [
    "X_train.shape"
   ]
  },
  {
   "cell_type": "code",
   "execution_count": 12,
   "metadata": {},
   "outputs": [
    {
     "name": "stdout",
     "output_type": "stream",
     "text": [
      "WARNING:tensorflow:From e:\\Projects\\Micromilling_process_optimisation\\.venv\\Lib\\site-packages\\keras\\src\\backend.py:873: The name tf.get_default_graph is deprecated. Please use tf.compat.v1.get_default_graph instead.\n",
      "\n"
     ]
    }
   ],
   "source": [
    "norm_layer = keras.layers.Normalization(input_shape=X_train.shape[1:])"
   ]
  },
  {
   "cell_type": "code",
   "execution_count": 13,
   "metadata": {},
   "outputs": [],
   "source": [
    "model = keras.models.Sequential([\n",
    "    norm_layer,\n",
    "    keras.layers.BatchNormalization(),\n",
    "    keras.layers.Dense(500, activation=\"relu\", kernel_initializer=\"he_normal\"),\n",
    "    keras.layers.BatchNormalization(),\n",
    "    keras.layers.Dense(300, activation=\"relu\", kernel_initializer=\"he_normal\"),\n",
    "    keras.layers.BatchNormalization(),\n",
    "    keras.layers.Dense(100, activation=\"relu\", kernel_initializer=\"he_normal\"),\n",
    "    keras.layers.Dense(2)\n",
    "])\n",
    "model.compile(loss=\"mse\", optimizer=keras.optimizers.Adam(learning_rate=1e-3), metrics=[\"RootMeanSquaredError\", \"mse\"])\n",
    "norm_layer.adapt(X_train)"
   ]
  },
  {
   "cell_type": "code",
   "execution_count": 14,
   "metadata": {},
   "outputs": [
    {
     "data": {
      "text/plain": [
       "(16, 3)"
      ]
     },
     "execution_count": 14,
     "metadata": {},
     "output_type": "execute_result"
    }
   ],
   "source": [
    "X_train.shape"
   ]
  },
  {
   "cell_type": "code",
   "execution_count": 15,
   "metadata": {},
   "outputs": [
    {
     "data": {
      "text/plain": [
       "(16, 2)"
      ]
     },
     "execution_count": 15,
     "metadata": {},
     "output_type": "execute_result"
    }
   ],
   "source": [
    "y_train.shape"
   ]
  },
  {
   "cell_type": "code",
   "execution_count": 16,
   "metadata": {},
   "outputs": [
    {
     "data": {
      "text/plain": [
       "(5, 3)"
      ]
     },
     "execution_count": 16,
     "metadata": {},
     "output_type": "execute_result"
    }
   ],
   "source": [
    "X_val.shape"
   ]
  },
  {
   "cell_type": "code",
   "execution_count": 17,
   "metadata": {},
   "outputs": [
    {
     "data": {
      "text/plain": [
       "(5, 2)"
      ]
     },
     "execution_count": 17,
     "metadata": {},
     "output_type": "execute_result"
    }
   ],
   "source": [
    "y_val.shape"
   ]
  },
  {
   "cell_type": "code",
   "execution_count": 18,
   "metadata": {},
   "outputs": [],
   "source": [
    "from pathlib import Path\n",
    "from time import strftime\n",
    "def get_run_logdir(root_logdir=\"my_logs\"):\n",
    " return Path(root_logdir) / strftime(\"run_%Y_%m_%d_%H_%M_%S\")\n",
    "run_logdir = get_run_logdir() "
   ]
  },
  {
   "cell_type": "code",
   "execution_count": 19,
   "metadata": {},
   "outputs": [],
   "source": [
    "early_stopping_cb = tf.keras.callbacks.EarlyStopping(patience=20, restore_best_weights=True)"
   ]
  },
  {
   "cell_type": "code",
   "execution_count": 20,
   "metadata": {},
   "outputs": [
    {
     "name": "stdout",
     "output_type": "stream",
     "text": [
      "Model: \"sequential\"\n",
      "_________________________________________________________________\n",
      " Layer (type)                Output Shape              Param #   \n",
      "=================================================================\n",
      " normalization (Normalizati  (None, 3)                 7         \n",
      " on)                                                             \n",
      "                                                                 \n",
      " batch_normalization (Batch  (None, 3)                 12        \n",
      " Normalization)                                                  \n",
      "                                                                 \n",
      " dense (Dense)               (None, 500)               2000      \n",
      "                                                                 \n",
      " batch_normalization_1 (Bat  (None, 500)               2000      \n",
      " chNormalization)                                                \n",
      "                                                                 \n",
      " dense_1 (Dense)             (None, 300)               150300    \n",
      "                                                                 \n",
      " batch_normalization_2 (Bat  (None, 300)               1200      \n",
      " chNormalization)                                                \n",
      "                                                                 \n",
      " dense_2 (Dense)             (None, 100)               30100     \n",
      "                                                                 \n",
      " dense_3 (Dense)             (None, 2)                 202       \n",
      "                                                                 \n",
      "=================================================================\n",
      "Total params: 185821 (725.87 KB)\n",
      "Trainable params: 184208 (719.56 KB)\n",
      "Non-trainable params: 1613 (6.30 KB)\n",
      "_________________________________________________________________\n"
     ]
    }
   ],
   "source": [
    "model.summary()"
   ]
  },
  {
   "cell_type": "code",
   "execution_count": 21,
   "metadata": {},
   "outputs": [
    {
     "name": "stdout",
     "output_type": "stream",
     "text": [
      "Epoch 1/500\n",
      "WARNING:tensorflow:From e:\\Projects\\Micromilling_process_optimisation\\.venv\\Lib\\site-packages\\keras\\src\\utils\\tf_utils.py:492: The name tf.ragged.RaggedTensorValue is deprecated. Please use tf.compat.v1.ragged.RaggedTensorValue instead.\n",
      "\n",
      "WARNING:tensorflow:From e:\\Projects\\Micromilling_process_optimisation\\.venv\\Lib\\site-packages\\keras\\src\\engine\\base_layer_utils.py:384: The name tf.executing_eagerly_outside_functions is deprecated. Please use tf.compat.v1.executing_eagerly_outside_functions instead.\n",
      "\n",
      "1/1 [==============================] - 3s 3s/step - loss: 31.1460 - root_mean_squared_error: 5.5809 - mse: 31.1460 - val_loss: 45.9055 - val_root_mean_squared_error: 6.7754 - val_mse: 45.9055\n",
      "Epoch 2/500\n",
      "1/1 [==============================] - 0s 116ms/step - loss: 16.5761 - root_mean_squared_error: 4.0714 - mse: 16.5761 - val_loss: 42.2409 - val_root_mean_squared_error: 6.4993 - val_mse: 42.2409\n",
      "Epoch 3/500\n",
      "1/1 [==============================] - 0s 69ms/step - loss: 10.1891 - root_mean_squared_error: 3.1920 - mse: 10.1891 - val_loss: 39.0023 - val_root_mean_squared_error: 6.2452 - val_mse: 39.0023\n",
      "Epoch 4/500\n",
      "1/1 [==============================] - 0s 53ms/step - loss: 6.7057 - root_mean_squared_error: 2.5895 - mse: 6.7057 - val_loss: 36.2376 - val_root_mean_squared_error: 6.0198 - val_mse: 36.2376\n",
      "Epoch 5/500\n",
      "1/1 [==============================] - 0s 63ms/step - loss: 4.2677 - root_mean_squared_error: 2.0658 - mse: 4.2677 - val_loss: 33.7874 - val_root_mean_squared_error: 5.8127 - val_mse: 33.7874\n",
      "Epoch 6/500\n",
      "1/1 [==============================] - 0s 53ms/step - loss: 2.6394 - root_mean_squared_error: 1.6246 - mse: 2.6394 - val_loss: 31.6427 - val_root_mean_squared_error: 5.6252 - val_mse: 31.6427\n",
      "Epoch 7/500\n",
      "1/1 [==============================] - 0s 85ms/step - loss: 1.6064 - root_mean_squared_error: 1.2675 - mse: 1.6064 - val_loss: 29.8421 - val_root_mean_squared_error: 5.4628 - val_mse: 29.8421\n",
      "Epoch 8/500\n",
      "1/1 [==============================] - 0s 47ms/step - loss: 1.0033 - root_mean_squared_error: 1.0016 - mse: 1.0033 - val_loss: 28.3569 - val_root_mean_squared_error: 5.3251 - val_mse: 28.3569\n",
      "Epoch 9/500\n",
      "1/1 [==============================] - 0s 73ms/step - loss: 0.6255 - root_mean_squared_error: 0.7909 - mse: 0.6255 - val_loss: 27.1003 - val_root_mean_squared_error: 5.2058 - val_mse: 27.1003\n",
      "Epoch 10/500\n",
      "1/1 [==============================] - 0s 100ms/step - loss: 0.4018 - root_mean_squared_error: 0.6339 - mse: 0.4018 - val_loss: 26.1205 - val_root_mean_squared_error: 5.1108 - val_mse: 26.1205\n",
      "Epoch 11/500\n",
      "1/1 [==============================] - 0s 83ms/step - loss: 0.2777 - root_mean_squared_error: 0.5269 - mse: 0.2777 - val_loss: 25.3794 - val_root_mean_squared_error: 5.0378 - val_mse: 25.3794\n",
      "Epoch 12/500\n",
      "1/1 [==============================] - 0s 83ms/step - loss: 0.2164 - root_mean_squared_error: 0.4652 - mse: 0.2164 - val_loss: 24.9324 - val_root_mean_squared_error: 4.9932 - val_mse: 24.9324\n",
      "Epoch 13/500\n",
      "1/1 [==============================] - 0s 83ms/step - loss: 0.1853 - root_mean_squared_error: 0.4305 - mse: 0.1853 - val_loss: 24.6335 - val_root_mean_squared_error: 4.9632 - val_mse: 24.6335\n",
      "Epoch 14/500\n",
      "1/1 [==============================] - 0s 117ms/step - loss: 0.1681 - root_mean_squared_error: 0.4100 - mse: 0.1681 - val_loss: 24.4507 - val_root_mean_squared_error: 4.9448 - val_mse: 24.4507\n",
      "Epoch 15/500\n",
      "1/1 [==============================] - 0s 100ms/step - loss: 0.1553 - root_mean_squared_error: 0.3941 - mse: 0.1553 - val_loss: 24.3036 - val_root_mean_squared_error: 4.9299 - val_mse: 24.3036\n",
      "Epoch 16/500\n",
      "1/1 [==============================] - 0s 100ms/step - loss: 0.1493 - root_mean_squared_error: 0.3864 - mse: 0.1493 - val_loss: 24.1670 - val_root_mean_squared_error: 4.9160 - val_mse: 24.1670\n",
      "Epoch 17/500\n",
      "1/1 [==============================] - 0s 91ms/step - loss: 0.1468 - root_mean_squared_error: 0.3831 - mse: 0.1468 - val_loss: 24.0124 - val_root_mean_squared_error: 4.9002 - val_mse: 24.0124\n",
      "Epoch 18/500\n",
      "1/1 [==============================] - 0s 53ms/step - loss: 0.1416 - root_mean_squared_error: 0.3762 - mse: 0.1416 - val_loss: 23.7954 - val_root_mean_squared_error: 4.8781 - val_mse: 23.7954\n",
      "Epoch 19/500\n",
      "1/1 [==============================] - 0s 60ms/step - loss: 0.1259 - root_mean_squared_error: 0.3548 - mse: 0.1259 - val_loss: 23.5021 - val_root_mean_squared_error: 4.8479 - val_mse: 23.5021\n",
      "Epoch 20/500\n",
      "1/1 [==============================] - 0s 74ms/step - loss: 0.0991 - root_mean_squared_error: 0.3148 - mse: 0.0991 - val_loss: 23.1349 - val_root_mean_squared_error: 4.8099 - val_mse: 23.1349\n",
      "Epoch 21/500\n",
      "1/1 [==============================] - 0s 95ms/step - loss: 0.0720 - root_mean_squared_error: 0.2683 - mse: 0.0720 - val_loss: 22.7195 - val_root_mean_squared_error: 4.7665 - val_mse: 22.7195\n",
      "Epoch 22/500\n",
      "1/1 [==============================] - 0s 103ms/step - loss: 0.0557 - root_mean_squared_error: 0.2361 - mse: 0.0557 - val_loss: 22.3120 - val_root_mean_squared_error: 4.7236 - val_mse: 22.3120\n",
      "Epoch 23/500\n",
      "1/1 [==============================] - 0s 114ms/step - loss: 0.0507 - root_mean_squared_error: 0.2251 - mse: 0.0507 - val_loss: 21.9532 - val_root_mean_squared_error: 4.6854 - val_mse: 21.9532\n",
      "Epoch 24/500\n",
      "1/1 [==============================] - 0s 171ms/step - loss: 0.0507 - root_mean_squared_error: 0.2252 - mse: 0.0507 - val_loss: 21.6733 - val_root_mean_squared_error: 4.6555 - val_mse: 21.6733\n",
      "Epoch 25/500\n",
      "1/1 [==============================] - 0s 98ms/step - loss: 0.0493 - root_mean_squared_error: 0.2220 - mse: 0.0493 - val_loss: 21.4420 - val_root_mean_squared_error: 4.6305 - val_mse: 21.4420\n",
      "Epoch 26/500\n",
      "1/1 [==============================] - 0s 95ms/step - loss: 0.0436 - root_mean_squared_error: 0.2087 - mse: 0.0436 - val_loss: 21.2741 - val_root_mean_squared_error: 4.6124 - val_mse: 21.2741\n",
      "Epoch 27/500\n",
      "1/1 [==============================] - 0s 123ms/step - loss: 0.0353 - root_mean_squared_error: 0.1878 - mse: 0.0353 - val_loss: 21.1572 - val_root_mean_squared_error: 4.5997 - val_mse: 21.1572\n",
      "Epoch 28/500\n",
      "1/1 [==============================] - 0s 134ms/step - loss: 0.0275 - root_mean_squared_error: 0.1659 - mse: 0.0275 - val_loss: 21.0755 - val_root_mean_squared_error: 4.5908 - val_mse: 21.0755\n",
      "Epoch 29/500\n",
      "1/1 [==============================] - 0s 110ms/step - loss: 0.0234 - root_mean_squared_error: 0.1528 - mse: 0.0234 - val_loss: 21.0172 - val_root_mean_squared_error: 4.5845 - val_mse: 21.0172\n",
      "Epoch 30/500\n",
      "1/1 [==============================] - 0s 101ms/step - loss: 0.0228 - root_mean_squared_error: 0.1511 - mse: 0.0228 - val_loss: 20.9585 - val_root_mean_squared_error: 4.5780 - val_mse: 20.9585\n",
      "Epoch 31/500\n",
      "1/1 [==============================] - 0s 83ms/step - loss: 0.0243 - root_mean_squared_error: 0.1560 - mse: 0.0243 - val_loss: 20.8818 - val_root_mean_squared_error: 4.5697 - val_mse: 20.8818\n",
      "Epoch 32/500\n",
      "1/1 [==============================] - 0s 85ms/step - loss: 0.0252 - root_mean_squared_error: 0.1587 - mse: 0.0252 - val_loss: 20.7825 - val_root_mean_squared_error: 4.5588 - val_mse: 20.7825\n",
      "Epoch 33/500\n",
      "1/1 [==============================] - 0s 98ms/step - loss: 0.0237 - root_mean_squared_error: 0.1541 - mse: 0.0237 - val_loss: 20.6570 - val_root_mean_squared_error: 4.5450 - val_mse: 20.6570\n",
      "Epoch 34/500\n",
      "1/1 [==============================] - 0s 88ms/step - loss: 0.0204 - root_mean_squared_error: 0.1428 - mse: 0.0204 - val_loss: 20.5141 - val_root_mean_squared_error: 4.5292 - val_mse: 20.5141\n",
      "Epoch 35/500\n",
      "1/1 [==============================] - 0s 81ms/step - loss: 0.0164 - root_mean_squared_error: 0.1281 - mse: 0.0164 - val_loss: 20.3465 - val_root_mean_squared_error: 4.5107 - val_mse: 20.3465\n",
      "Epoch 36/500\n",
      "1/1 [==============================] - 0s 106ms/step - loss: 0.0129 - root_mean_squared_error: 0.1135 - mse: 0.0129 - val_loss: 20.1793 - val_root_mean_squared_error: 4.4921 - val_mse: 20.1793\n",
      "Epoch 37/500\n",
      "1/1 [==============================] - 0s 94ms/step - loss: 0.0103 - root_mean_squared_error: 0.1015 - mse: 0.0103 - val_loss: 20.0144 - val_root_mean_squared_error: 4.4737 - val_mse: 20.0144\n",
      "Epoch 38/500\n",
      "1/1 [==============================] - 0s 83ms/step - loss: 0.0087 - root_mean_squared_error: 0.0932 - mse: 0.0087 - val_loss: 19.8563 - val_root_mean_squared_error: 4.4560 - val_mse: 19.8563\n",
      "Epoch 39/500\n",
      "1/1 [==============================] - 0s 109ms/step - loss: 0.0077 - root_mean_squared_error: 0.0879 - mse: 0.0077 - val_loss: 19.7083 - val_root_mean_squared_error: 4.4394 - val_mse: 19.7083\n",
      "Epoch 40/500\n",
      "1/1 [==============================] - 0s 98ms/step - loss: 0.0072 - root_mean_squared_error: 0.0846 - mse: 0.0072 - val_loss: 19.5760 - val_root_mean_squared_error: 4.4245 - val_mse: 19.5760\n",
      "Epoch 41/500\n",
      "1/1 [==============================] - 0s 100ms/step - loss: 0.0068 - root_mean_squared_error: 0.0826 - mse: 0.0068 - val_loss: 19.4555 - val_root_mean_squared_error: 4.4108 - val_mse: 19.4555\n",
      "Epoch 42/500\n",
      "1/1 [==============================] - 0s 93ms/step - loss: 0.0068 - root_mean_squared_error: 0.0822 - mse: 0.0068 - val_loss: 19.3440 - val_root_mean_squared_error: 4.3982 - val_mse: 19.3440\n",
      "Epoch 43/500\n",
      "1/1 [==============================] - 0s 124ms/step - loss: 0.0069 - root_mean_squared_error: 0.0832 - mse: 0.0069 - val_loss: 19.2414 - val_root_mean_squared_error: 4.3865 - val_mse: 19.2414\n",
      "Epoch 44/500\n",
      "1/1 [==============================] - 0s 97ms/step - loss: 0.0071 - root_mean_squared_error: 0.0841 - mse: 0.0071 - val_loss: 19.1450 - val_root_mean_squared_error: 4.3755 - val_mse: 19.1450\n",
      "Epoch 45/500\n",
      "1/1 [==============================] - 0s 203ms/step - loss: 0.0069 - root_mean_squared_error: 0.0829 - mse: 0.0069 - val_loss: 19.0486 - val_root_mean_squared_error: 4.3645 - val_mse: 19.0486\n",
      "Epoch 46/500\n",
      "1/1 [==============================] - 0s 93ms/step - loss: 0.0061 - root_mean_squared_error: 0.0780 - mse: 0.0061 - val_loss: 18.9505 - val_root_mean_squared_error: 4.3532 - val_mse: 18.9505\n",
      "Epoch 47/500\n",
      "1/1 [==============================] - 0s 123ms/step - loss: 0.0048 - root_mean_squared_error: 0.0695 - mse: 0.0048 - val_loss: 18.8504 - val_root_mean_squared_error: 4.3417 - val_mse: 18.8504\n",
      "Epoch 48/500\n",
      "1/1 [==============================] - 0s 125ms/step - loss: 0.0035 - root_mean_squared_error: 0.0594 - mse: 0.0035 - val_loss: 18.7490 - val_root_mean_squared_error: 4.3300 - val_mse: 18.7490\n",
      "Epoch 49/500\n",
      "1/1 [==============================] - 0s 109ms/step - loss: 0.0026 - root_mean_squared_error: 0.0508 - mse: 0.0026 - val_loss: 18.6460 - val_root_mean_squared_error: 4.3181 - val_mse: 18.6460\n",
      "Epoch 50/500\n",
      "1/1 [==============================] - 0s 100ms/step - loss: 0.0022 - root_mean_squared_error: 0.0466 - mse: 0.0022 - val_loss: 18.5439 - val_root_mean_squared_error: 4.3063 - val_mse: 18.5439\n",
      "Epoch 51/500\n",
      "1/1 [==============================] - 0s 90ms/step - loss: 0.0022 - root_mean_squared_error: 0.0468 - mse: 0.0022 - val_loss: 18.4470 - val_root_mean_squared_error: 4.2950 - val_mse: 18.4470\n",
      "Epoch 52/500\n",
      "1/1 [==============================] - 0s 122ms/step - loss: 0.0023 - root_mean_squared_error: 0.0484 - mse: 0.0023 - val_loss: 18.3624 - val_root_mean_squared_error: 4.2851 - val_mse: 18.3624\n",
      "Epoch 53/500\n",
      "1/1 [==============================] - 0s 86ms/step - loss: 0.0024 - root_mean_squared_error: 0.0490 - mse: 0.0024 - val_loss: 18.2863 - val_root_mean_squared_error: 4.2762 - val_mse: 18.2863\n",
      "Epoch 54/500\n",
      "1/1 [==============================] - 0s 96ms/step - loss: 0.0023 - root_mean_squared_error: 0.0480 - mse: 0.0023 - val_loss: 18.2159 - val_root_mean_squared_error: 4.2680 - val_mse: 18.2159\n",
      "Epoch 55/500\n",
      "1/1 [==============================] - 0s 81ms/step - loss: 0.0021 - root_mean_squared_error: 0.0459 - mse: 0.0021 - val_loss: 18.1491 - val_root_mean_squared_error: 4.2602 - val_mse: 18.1491\n",
      "Epoch 56/500\n",
      "1/1 [==============================] - 0s 83ms/step - loss: 0.0019 - root_mean_squared_error: 0.0435 - mse: 0.0019 - val_loss: 18.0812 - val_root_mean_squared_error: 4.2522 - val_mse: 18.0812\n",
      "Epoch 57/500\n",
      "1/1 [==============================] - 0s 91ms/step - loss: 0.0017 - root_mean_squared_error: 0.0413 - mse: 0.0017 - val_loss: 18.0108 - val_root_mean_squared_error: 4.2439 - val_mse: 18.0108\n",
      "Epoch 58/500\n",
      "1/1 [==============================] - 0s 60ms/step - loss: 0.0015 - root_mean_squared_error: 0.0391 - mse: 0.0015 - val_loss: 17.9376 - val_root_mean_squared_error: 4.2353 - val_mse: 17.9376\n",
      "Epoch 59/500\n",
      "1/1 [==============================] - 0s 86ms/step - loss: 0.0014 - root_mean_squared_error: 0.0368 - mse: 0.0014 - val_loss: 17.8586 - val_root_mean_squared_error: 4.2259 - val_mse: 17.8586\n",
      "Epoch 60/500\n",
      "1/1 [==============================] - 0s 73ms/step - loss: 0.0012 - root_mean_squared_error: 0.0343 - mse: 0.0012 - val_loss: 17.7757 - val_root_mean_squared_error: 4.2161 - val_mse: 17.7757\n",
      "Epoch 61/500\n",
      "1/1 [==============================] - 0s 83ms/step - loss: 0.0010 - root_mean_squared_error: 0.0317 - mse: 0.0010 - val_loss: 17.6868 - val_root_mean_squared_error: 4.2056 - val_mse: 17.6868\n",
      "Epoch 62/500\n",
      "1/1 [==============================] - 0s 85ms/step - loss: 8.5243e-04 - root_mean_squared_error: 0.0292 - mse: 8.5243e-04 - val_loss: 17.5971 - val_root_mean_squared_error: 4.1949 - val_mse: 17.5971\n",
      "Epoch 63/500\n",
      "1/1 [==============================] - 0s 84ms/step - loss: 7.1641e-04 - root_mean_squared_error: 0.0268 - mse: 7.1641e-04 - val_loss: 17.5169 - val_root_mean_squared_error: 4.1853 - val_mse: 17.5169\n",
      "Epoch 64/500\n",
      "1/1 [==============================] - 0s 84ms/step - loss: 6.0100e-04 - root_mean_squared_error: 0.0245 - mse: 6.0100e-04 - val_loss: 17.4445 - val_root_mean_squared_error: 4.1767 - val_mse: 17.4445\n",
      "Epoch 65/500\n",
      "1/1 [==============================] - 0s 100ms/step - loss: 5.2761e-04 - root_mean_squared_error: 0.0230 - mse: 5.2761e-04 - val_loss: 17.3852 - val_root_mean_squared_error: 4.1696 - val_mse: 17.3852\n",
      "Epoch 66/500\n",
      "1/1 [==============================] - 0s 84ms/step - loss: 5.1880e-04 - root_mean_squared_error: 0.0228 - mse: 5.1880e-04 - val_loss: 17.3340 - val_root_mean_squared_error: 4.1634 - val_mse: 17.3340\n",
      "Epoch 67/500\n",
      "1/1 [==============================] - 0s 113ms/step - loss: 5.6585e-04 - root_mean_squared_error: 0.0238 - mse: 5.6585e-04 - val_loss: 17.2839 - val_root_mean_squared_error: 4.1574 - val_mse: 17.2839\n",
      "Epoch 68/500\n",
      "1/1 [==============================] - 0s 65ms/step - loss: 6.1821e-04 - root_mean_squared_error: 0.0249 - mse: 6.1821e-04 - val_loss: 17.2318 - val_root_mean_squared_error: 4.1511 - val_mse: 17.2318\n",
      "Epoch 69/500\n",
      "1/1 [==============================] - 0s 221ms/step - loss: 6.1779e-04 - root_mean_squared_error: 0.0249 - mse: 6.1779e-04 - val_loss: 17.1725 - val_root_mean_squared_error: 4.1440 - val_mse: 17.1725\n",
      "Epoch 70/500\n",
      "1/1 [==============================] - 0s 92ms/step - loss: 5.4698e-04 - root_mean_squared_error: 0.0234 - mse: 5.4698e-04 - val_loss: 17.1058 - val_root_mean_squared_error: 4.1359 - val_mse: 17.1058\n",
      "Epoch 71/500\n",
      "1/1 [==============================] - 0s 81ms/step - loss: 4.3454e-04 - root_mean_squared_error: 0.0208 - mse: 4.3454e-04 - val_loss: 17.0379 - val_root_mean_squared_error: 4.1277 - val_mse: 17.0379\n",
      "Epoch 72/500\n",
      "1/1 [==============================] - 0s 67ms/step - loss: 3.2386e-04 - root_mean_squared_error: 0.0180 - mse: 3.2386e-04 - val_loss: 16.9720 - val_root_mean_squared_error: 4.1197 - val_mse: 16.9720\n",
      "Epoch 73/500\n",
      "1/1 [==============================] - 0s 85ms/step - loss: 2.3977e-04 - root_mean_squared_error: 0.0155 - mse: 2.3977e-04 - val_loss: 16.9118 - val_root_mean_squared_error: 4.1124 - val_mse: 16.9118\n",
      "Epoch 74/500\n",
      "1/1 [==============================] - 0s 103ms/step - loss: 1.8636e-04 - root_mean_squared_error: 0.0137 - mse: 1.8636e-04 - val_loss: 16.8573 - val_root_mean_squared_error: 4.1058 - val_mse: 16.8573\n",
      "Epoch 75/500\n",
      "1/1 [==============================] - 0s 85ms/step - loss: 1.6398e-04 - root_mean_squared_error: 0.0128 - mse: 1.6398e-04 - val_loss: 16.8082 - val_root_mean_squared_error: 4.0998 - val_mse: 16.8082\n",
      "Epoch 76/500\n",
      "1/1 [==============================] - 0s 96ms/step - loss: 1.7200e-04 - root_mean_squared_error: 0.0131 - mse: 1.7200e-04 - val_loss: 16.7611 - val_root_mean_squared_error: 4.0940 - val_mse: 16.7611\n",
      "Epoch 77/500\n",
      "1/1 [==============================] - 0s 97ms/step - loss: 1.9693e-04 - root_mean_squared_error: 0.0140 - mse: 1.9693e-04 - val_loss: 16.7119 - val_root_mean_squared_error: 4.0880 - val_mse: 16.7119\n",
      "Epoch 78/500\n",
      "1/1 [==============================] - 0s 61ms/step - loss: 2.1256e-04 - root_mean_squared_error: 0.0146 - mse: 2.1256e-04 - val_loss: 16.6606 - val_root_mean_squared_error: 4.0817 - val_mse: 16.6606\n",
      "Epoch 79/500\n",
      "1/1 [==============================] - 0s 68ms/step - loss: 2.0180e-04 - root_mean_squared_error: 0.0142 - mse: 2.0180e-04 - val_loss: 16.6044 - val_root_mean_squared_error: 4.0749 - val_mse: 16.6044\n",
      "Epoch 80/500\n",
      "1/1 [==============================] - 0s 70ms/step - loss: 1.7332e-04 - root_mean_squared_error: 0.0132 - mse: 1.7332e-04 - val_loss: 16.5454 - val_root_mean_squared_error: 4.0676 - val_mse: 16.5454\n",
      "Epoch 81/500\n",
      "1/1 [==============================] - 0s 64ms/step - loss: 1.4838e-04 - root_mean_squared_error: 0.0122 - mse: 1.4838e-04 - val_loss: 16.4833 - val_root_mean_squared_error: 4.0600 - val_mse: 16.4833\n",
      "Epoch 82/500\n",
      "1/1 [==============================] - 0s 69ms/step - loss: 1.3422e-04 - root_mean_squared_error: 0.0116 - mse: 1.3422e-04 - val_loss: 16.4216 - val_root_mean_squared_error: 4.0524 - val_mse: 16.4216\n",
      "Epoch 83/500\n",
      "1/1 [==============================] - 0s 104ms/step - loss: 1.1879e-04 - root_mean_squared_error: 0.0109 - mse: 1.1879e-04 - val_loss: 16.3615 - val_root_mean_squared_error: 4.0449 - val_mse: 16.3615\n",
      "Epoch 84/500\n",
      "1/1 [==============================] - 0s 93ms/step - loss: 9.2351e-05 - root_mean_squared_error: 0.0096 - mse: 9.2351e-05 - val_loss: 16.3045 - val_root_mean_squared_error: 4.0379 - val_mse: 16.3045\n",
      "Epoch 85/500\n",
      "1/1 [==============================] - 0s 64ms/step - loss: 6.4122e-05 - root_mean_squared_error: 0.0080 - mse: 6.4122e-05 - val_loss: 16.2526 - val_root_mean_squared_error: 4.0314 - val_mse: 16.2526\n",
      "Epoch 86/500\n",
      "1/1 [==============================] - 0s 63ms/step - loss: 5.1941e-05 - root_mean_squared_error: 0.0072 - mse: 5.1941e-05 - val_loss: 16.2025 - val_root_mean_squared_error: 4.0252 - val_mse: 16.2025\n",
      "Epoch 87/500\n",
      "1/1 [==============================] - 0s 70ms/step - loss: 5.9879e-05 - root_mean_squared_error: 0.0077 - mse: 5.9879e-05 - val_loss: 16.1535 - val_root_mean_squared_error: 4.0191 - val_mse: 16.1535\n",
      "Epoch 88/500\n",
      "1/1 [==============================] - 0s 59ms/step - loss: 7.3368e-05 - root_mean_squared_error: 0.0086 - mse: 7.3368e-05 - val_loss: 16.1048 - val_root_mean_squared_error: 4.0131 - val_mse: 16.1048\n",
      "Epoch 89/500\n",
      "1/1 [==============================] - 0s 67ms/step - loss: 7.5852e-05 - root_mean_squared_error: 0.0087 - mse: 7.5852e-05 - val_loss: 16.0569 - val_root_mean_squared_error: 4.0071 - val_mse: 16.0569\n",
      "Epoch 90/500\n",
      "1/1 [==============================] - 0s 87ms/step - loss: 6.4655e-05 - root_mean_squared_error: 0.0080 - mse: 6.4655e-05 - val_loss: 16.0103 - val_root_mean_squared_error: 4.0013 - val_mse: 16.0103\n",
      "Epoch 91/500\n",
      "1/1 [==============================] - 0s 68ms/step - loss: 4.9259e-05 - root_mean_squared_error: 0.0070 - mse: 4.9259e-05 - val_loss: 15.9649 - val_root_mean_squared_error: 3.9956 - val_mse: 15.9649\n",
      "Epoch 92/500\n",
      "1/1 [==============================] - 0s 94ms/step - loss: 3.8837e-05 - root_mean_squared_error: 0.0062 - mse: 3.8837e-05 - val_loss: 15.9208 - val_root_mean_squared_error: 3.9901 - val_mse: 15.9208\n",
      "Epoch 93/500\n",
      "1/1 [==============================] - 0s 64ms/step - loss: 3.4906e-05 - root_mean_squared_error: 0.0059 - mse: 3.4906e-05 - val_loss: 15.8778 - val_root_mean_squared_error: 3.9847 - val_mse: 15.8778\n",
      "Epoch 94/500\n",
      "1/1 [==============================] - 0s 86ms/step - loss: 3.3755e-05 - root_mean_squared_error: 0.0058 - mse: 3.3755e-05 - val_loss: 15.8359 - val_root_mean_squared_error: 3.9794 - val_mse: 15.8359\n",
      "Epoch 95/500\n",
      "1/1 [==============================] - 0s 62ms/step - loss: 3.1918e-05 - root_mean_squared_error: 0.0056 - mse: 3.1918e-05 - val_loss: 15.7946 - val_root_mean_squared_error: 3.9742 - val_mse: 15.7946\n",
      "Epoch 96/500\n",
      "1/1 [==============================] - 0s 50ms/step - loss: 2.8650e-05 - root_mean_squared_error: 0.0054 - mse: 2.8650e-05 - val_loss: 15.7535 - val_root_mean_squared_error: 3.9691 - val_mse: 15.7535\n",
      "Epoch 97/500\n",
      "1/1 [==============================] - 0s 115ms/step - loss: 2.5169e-05 - root_mean_squared_error: 0.0050 - mse: 2.5169e-05 - val_loss: 15.7124 - val_root_mean_squared_error: 3.9639 - val_mse: 15.7124\n",
      "Epoch 98/500\n",
      "1/1 [==============================] - 0s 155ms/step - loss: 2.2777e-05 - root_mean_squared_error: 0.0048 - mse: 2.2777e-05 - val_loss: 15.6716 - val_root_mean_squared_error: 3.9587 - val_mse: 15.6716\n",
      "Epoch 99/500\n",
      "1/1 [==============================] - 0s 74ms/step - loss: 2.1449e-05 - root_mean_squared_error: 0.0046 - mse: 2.1449e-05 - val_loss: 15.6310 - val_root_mean_squared_error: 3.9536 - val_mse: 15.6310\n",
      "Epoch 100/500\n",
      "1/1 [==============================] - 0s 272ms/step - loss: 2.0061e-05 - root_mean_squared_error: 0.0045 - mse: 2.0061e-05 - val_loss: 15.5915 - val_root_mean_squared_error: 3.9486 - val_mse: 15.5915\n",
      "Epoch 101/500\n",
      "1/1 [==============================] - 0s 147ms/step - loss: 1.7910e-05 - root_mean_squared_error: 0.0042 - mse: 1.7910e-05 - val_loss: 15.5532 - val_root_mean_squared_error: 3.9438 - val_mse: 15.5532\n",
      "Epoch 102/500\n",
      "1/1 [==============================] - 0s 105ms/step - loss: 1.5634e-05 - root_mean_squared_error: 0.0040 - mse: 1.5634e-05 - val_loss: 15.5154 - val_root_mean_squared_error: 3.9390 - val_mse: 15.5154\n",
      "Epoch 103/500\n",
      "1/1 [==============================] - 0s 93ms/step - loss: 1.4132e-05 - root_mean_squared_error: 0.0038 - mse: 1.4132e-05 - val_loss: 15.4771 - val_root_mean_squared_error: 3.9341 - val_mse: 15.4771\n",
      "Epoch 104/500\n",
      "1/1 [==============================] - 0s 95ms/step - loss: 1.3106e-05 - root_mean_squared_error: 0.0036 - mse: 1.3106e-05 - val_loss: 15.4390 - val_root_mean_squared_error: 3.9293 - val_mse: 15.4390\n",
      "Epoch 105/500\n",
      "1/1 [==============================] - 0s 85ms/step - loss: 1.1506e-05 - root_mean_squared_error: 0.0034 - mse: 1.1506e-05 - val_loss: 15.4002 - val_root_mean_squared_error: 3.9243 - val_mse: 15.4002\n",
      "Epoch 106/500\n",
      "1/1 [==============================] - 0s 84ms/step - loss: 9.2475e-06 - root_mean_squared_error: 0.0030 - mse: 9.2475e-06 - val_loss: 15.3614 - val_root_mean_squared_error: 3.9194 - val_mse: 15.3614\n",
      "Epoch 107/500\n",
      "1/1 [==============================] - 0s 65ms/step - loss: 7.5623e-06 - root_mean_squared_error: 0.0027 - mse: 7.5623e-06 - val_loss: 15.3234 - val_root_mean_squared_error: 3.9145 - val_mse: 15.3234\n",
      "Epoch 108/500\n",
      "1/1 [==============================] - 0s 93ms/step - loss: 7.3816e-06 - root_mean_squared_error: 0.0027 - mse: 7.3816e-06 - val_loss: 15.2868 - val_root_mean_squared_error: 3.9098 - val_mse: 15.2868\n",
      "Epoch 109/500\n",
      "1/1 [==============================] - 0s 89ms/step - loss: 8.1034e-06 - root_mean_squared_error: 0.0028 - mse: 8.1034e-06 - val_loss: 15.2527 - val_root_mean_squared_error: 3.9055 - val_mse: 15.2527\n",
      "Epoch 110/500\n",
      "1/1 [==============================] - 0s 84ms/step - loss: 8.3514e-06 - root_mean_squared_error: 0.0029 - mse: 8.3514e-06 - val_loss: 15.2210 - val_root_mean_squared_error: 3.9014 - val_mse: 15.2210\n",
      "Epoch 111/500\n",
      "1/1 [==============================] - 0s 255ms/step - loss: 7.4930e-06 - root_mean_squared_error: 0.0027 - mse: 7.4930e-06 - val_loss: 15.1906 - val_root_mean_squared_error: 3.8975 - val_mse: 15.1906\n",
      "Epoch 112/500\n",
      "1/1 [==============================] - 0s 84ms/step - loss: 6.0006e-06 - root_mean_squared_error: 0.0024 - mse: 6.0006e-06 - val_loss: 15.1598 - val_root_mean_squared_error: 3.8936 - val_mse: 15.1598\n",
      "Epoch 113/500\n",
      "1/1 [==============================] - 0s 64ms/step - loss: 4.6195e-06 - root_mean_squared_error: 0.0021 - mse: 4.6195e-06 - val_loss: 15.1293 - val_root_mean_squared_error: 3.8896 - val_mse: 15.1293\n",
      "Epoch 114/500\n",
      "1/1 [==============================] - 0s 69ms/step - loss: 3.6879e-06 - root_mean_squared_error: 0.0019 - mse: 3.6879e-06 - val_loss: 15.0991 - val_root_mean_squared_error: 3.8858 - val_mse: 15.0991\n",
      "Epoch 115/500\n",
      "1/1 [==============================] - 0s 85ms/step - loss: 3.1996e-06 - root_mean_squared_error: 0.0018 - mse: 3.1996e-06 - val_loss: 15.0686 - val_root_mean_squared_error: 3.8818 - val_mse: 15.0686\n",
      "Epoch 116/500\n",
      "1/1 [==============================] - 0s 60ms/step - loss: 3.0976e-06 - root_mean_squared_error: 0.0018 - mse: 3.0976e-06 - val_loss: 15.0378 - val_root_mean_squared_error: 3.8779 - val_mse: 15.0378\n",
      "Epoch 117/500\n",
      "1/1 [==============================] - 0s 85ms/step - loss: 3.2531e-06 - root_mean_squared_error: 0.0018 - mse: 3.2531e-06 - val_loss: 15.0072 - val_root_mean_squared_error: 3.8739 - val_mse: 15.0072\n",
      "Epoch 118/500\n",
      "1/1 [==============================] - 0s 64ms/step - loss: 3.3927e-06 - root_mean_squared_error: 0.0018 - mse: 3.3927e-06 - val_loss: 14.9763 - val_root_mean_squared_error: 3.8699 - val_mse: 14.9763\n",
      "Epoch 119/500\n",
      "1/1 [==============================] - 0s 67ms/step - loss: 3.2590e-06 - root_mean_squared_error: 0.0018 - mse: 3.2590e-06 - val_loss: 14.9450 - val_root_mean_squared_error: 3.8659 - val_mse: 14.9450\n",
      "Epoch 120/500\n",
      "1/1 [==============================] - 0s 61ms/step - loss: 2.8443e-06 - root_mean_squared_error: 0.0017 - mse: 2.8443e-06 - val_loss: 14.9151 - val_root_mean_squared_error: 3.8620 - val_mse: 14.9151\n",
      "Epoch 121/500\n",
      "1/1 [==============================] - ETA: 0s - loss: 2.3555e-06 - root_mean_squared_error: 0.0015 - mse: 2.3555e-06"
     ]
    },
    {
     "ename": "KeyboardInterrupt",
     "evalue": "",
     "output_type": "error",
     "traceback": [
      "\u001b[1;31m---------------------------------------------------------------------------\u001b[0m",
      "\u001b[1;31mKeyboardInterrupt\u001b[0m                         Traceback (most recent call last)",
      "Cell \u001b[1;32mIn[21], line 1\u001b[0m\n\u001b[1;32m----> 1\u001b[0m history \u001b[38;5;241m=\u001b[39m \u001b[43mmodel\u001b[49m\u001b[38;5;241;43m.\u001b[39;49m\u001b[43mfit\u001b[49m\u001b[43m(\u001b[49m\u001b[43mX_train\u001b[49m\u001b[43m,\u001b[49m\u001b[43my_train\u001b[49m\u001b[43m,\u001b[49m\u001b[43m \u001b[49m\u001b[43mepochs\u001b[49m\u001b[38;5;241;43m=\u001b[39;49m\u001b[38;5;241;43m500\u001b[39;49m\u001b[43m,\u001b[49m\u001b[43m \u001b[49m\u001b[43mverbose\u001b[49m\u001b[38;5;241;43m=\u001b[39;49m\u001b[38;5;241;43m1\u001b[39;49m\u001b[43m,\u001b[49m\u001b[43m \u001b[49m\u001b[43mcallbacks\u001b[49m\u001b[38;5;241;43m=\u001b[39;49m\u001b[43m[\u001b[49m\u001b[43m \u001b[49m\u001b[43mearly_stopping_cb\u001b[49m\u001b[43m]\u001b[49m\u001b[43m,\u001b[49m\u001b[43mvalidation_data\u001b[49m\u001b[38;5;241;43m=\u001b[39;49m\u001b[43m(\u001b[49m\u001b[43mX_val\u001b[49m\u001b[43m,\u001b[49m\u001b[43my_val\u001b[49m\u001b[43m)\u001b[49m\u001b[43m)\u001b[49m\n",
      "File \u001b[1;32me:\\Projects\\Micromilling_process_optimisation\\.venv\\Lib\\site-packages\\keras\\src\\utils\\traceback_utils.py:65\u001b[0m, in \u001b[0;36mfilter_traceback.<locals>.error_handler\u001b[1;34m(*args, **kwargs)\u001b[0m\n\u001b[0;32m     63\u001b[0m filtered_tb \u001b[38;5;241m=\u001b[39m \u001b[38;5;28;01mNone\u001b[39;00m\n\u001b[0;32m     64\u001b[0m \u001b[38;5;28;01mtry\u001b[39;00m:\n\u001b[1;32m---> 65\u001b[0m     \u001b[38;5;28;01mreturn\u001b[39;00m \u001b[43mfn\u001b[49m\u001b[43m(\u001b[49m\u001b[38;5;241;43m*\u001b[39;49m\u001b[43margs\u001b[49m\u001b[43m,\u001b[49m\u001b[43m \u001b[49m\u001b[38;5;241;43m*\u001b[39;49m\u001b[38;5;241;43m*\u001b[39;49m\u001b[43mkwargs\u001b[49m\u001b[43m)\u001b[49m\n\u001b[0;32m     66\u001b[0m \u001b[38;5;28;01mexcept\u001b[39;00m \u001b[38;5;167;01mException\u001b[39;00m \u001b[38;5;28;01mas\u001b[39;00m e:\n\u001b[0;32m     67\u001b[0m     filtered_tb \u001b[38;5;241m=\u001b[39m _process_traceback_frames(e\u001b[38;5;241m.\u001b[39m__traceback__)\n",
      "File \u001b[1;32me:\\Projects\\Micromilling_process_optimisation\\.venv\\Lib\\site-packages\\keras\\src\\engine\\training.py:1856\u001b[0m, in \u001b[0;36mModel.fit\u001b[1;34m(self, x, y, batch_size, epochs, verbose, callbacks, validation_split, validation_data, shuffle, class_weight, sample_weight, initial_epoch, steps_per_epoch, validation_steps, validation_batch_size, validation_freq, max_queue_size, workers, use_multiprocessing)\u001b[0m\n\u001b[0;32m   1840\u001b[0m \u001b[38;5;28;01mif\u001b[39;00m \u001b[38;5;28mgetattr\u001b[39m(\u001b[38;5;28mself\u001b[39m, \u001b[38;5;124m\"\u001b[39m\u001b[38;5;124m_eval_data_handler\u001b[39m\u001b[38;5;124m\"\u001b[39m, \u001b[38;5;28;01mNone\u001b[39;00m) \u001b[38;5;129;01mis\u001b[39;00m \u001b[38;5;28;01mNone\u001b[39;00m:\n\u001b[0;32m   1841\u001b[0m     \u001b[38;5;28mself\u001b[39m\u001b[38;5;241m.\u001b[39m_eval_data_handler \u001b[38;5;241m=\u001b[39m data_adapter\u001b[38;5;241m.\u001b[39mget_data_handler(\n\u001b[0;32m   1842\u001b[0m         x\u001b[38;5;241m=\u001b[39mval_x,\n\u001b[0;32m   1843\u001b[0m         y\u001b[38;5;241m=\u001b[39mval_y,\n\u001b[1;32m   (...)\u001b[0m\n\u001b[0;32m   1854\u001b[0m         pss_evaluation_shards\u001b[38;5;241m=\u001b[39m\u001b[38;5;28mself\u001b[39m\u001b[38;5;241m.\u001b[39m_pss_evaluation_shards,\n\u001b[0;32m   1855\u001b[0m     )\n\u001b[1;32m-> 1856\u001b[0m val_logs \u001b[38;5;241m=\u001b[39m \u001b[38;5;28;43mself\u001b[39;49m\u001b[38;5;241;43m.\u001b[39;49m\u001b[43mevaluate\u001b[49m\u001b[43m(\u001b[49m\n\u001b[0;32m   1857\u001b[0m \u001b[43m    \u001b[49m\u001b[43mx\u001b[49m\u001b[38;5;241;43m=\u001b[39;49m\u001b[43mval_x\u001b[49m\u001b[43m,\u001b[49m\n\u001b[0;32m   1858\u001b[0m \u001b[43m    \u001b[49m\u001b[43my\u001b[49m\u001b[38;5;241;43m=\u001b[39;49m\u001b[43mval_y\u001b[49m\u001b[43m,\u001b[49m\n\u001b[0;32m   1859\u001b[0m \u001b[43m    \u001b[49m\u001b[43msample_weight\u001b[49m\u001b[38;5;241;43m=\u001b[39;49m\u001b[43mval_sample_weight\u001b[49m\u001b[43m,\u001b[49m\n\u001b[0;32m   1860\u001b[0m \u001b[43m    \u001b[49m\u001b[43mbatch_size\u001b[49m\u001b[38;5;241;43m=\u001b[39;49m\u001b[43mvalidation_batch_size\u001b[49m\u001b[43m \u001b[49m\u001b[38;5;129;43;01mor\u001b[39;49;00m\u001b[43m \u001b[49m\u001b[43mbatch_size\u001b[49m\u001b[43m,\u001b[49m\n\u001b[0;32m   1861\u001b[0m \u001b[43m    \u001b[49m\u001b[43msteps\u001b[49m\u001b[38;5;241;43m=\u001b[39;49m\u001b[43mvalidation_steps\u001b[49m\u001b[43m,\u001b[49m\n\u001b[0;32m   1862\u001b[0m \u001b[43m    \u001b[49m\u001b[43mcallbacks\u001b[49m\u001b[38;5;241;43m=\u001b[39;49m\u001b[43mcallbacks\u001b[49m\u001b[43m,\u001b[49m\n\u001b[0;32m   1863\u001b[0m \u001b[43m    \u001b[49m\u001b[43mmax_queue_size\u001b[49m\u001b[38;5;241;43m=\u001b[39;49m\u001b[43mmax_queue_size\u001b[49m\u001b[43m,\u001b[49m\n\u001b[0;32m   1864\u001b[0m \u001b[43m    \u001b[49m\u001b[43mworkers\u001b[49m\u001b[38;5;241;43m=\u001b[39;49m\u001b[43mworkers\u001b[49m\u001b[43m,\u001b[49m\n\u001b[0;32m   1865\u001b[0m \u001b[43m    \u001b[49m\u001b[43muse_multiprocessing\u001b[49m\u001b[38;5;241;43m=\u001b[39;49m\u001b[43muse_multiprocessing\u001b[49m\u001b[43m,\u001b[49m\n\u001b[0;32m   1866\u001b[0m \u001b[43m    \u001b[49m\u001b[43mreturn_dict\u001b[49m\u001b[38;5;241;43m=\u001b[39;49m\u001b[38;5;28;43;01mTrue\u001b[39;49;00m\u001b[43m,\u001b[49m\n\u001b[0;32m   1867\u001b[0m \u001b[43m    \u001b[49m\u001b[43m_use_cached_eval_dataset\u001b[49m\u001b[38;5;241;43m=\u001b[39;49m\u001b[38;5;28;43;01mTrue\u001b[39;49;00m\u001b[43m,\u001b[49m\n\u001b[0;32m   1868\u001b[0m \u001b[43m\u001b[49m\u001b[43m)\u001b[49m\n\u001b[0;32m   1869\u001b[0m val_logs \u001b[38;5;241m=\u001b[39m {\n\u001b[0;32m   1870\u001b[0m     \u001b[38;5;124m\"\u001b[39m\u001b[38;5;124mval_\u001b[39m\u001b[38;5;124m\"\u001b[39m \u001b[38;5;241m+\u001b[39m name: val \u001b[38;5;28;01mfor\u001b[39;00m name, val \u001b[38;5;129;01min\u001b[39;00m val_logs\u001b[38;5;241m.\u001b[39mitems()\n\u001b[0;32m   1871\u001b[0m }\n\u001b[0;32m   1872\u001b[0m epoch_logs\u001b[38;5;241m.\u001b[39mupdate(val_logs)\n",
      "File \u001b[1;32me:\\Projects\\Micromilling_process_optimisation\\.venv\\Lib\\site-packages\\keras\\src\\utils\\traceback_utils.py:65\u001b[0m, in \u001b[0;36mfilter_traceback.<locals>.error_handler\u001b[1;34m(*args, **kwargs)\u001b[0m\n\u001b[0;32m     63\u001b[0m filtered_tb \u001b[38;5;241m=\u001b[39m \u001b[38;5;28;01mNone\u001b[39;00m\n\u001b[0;32m     64\u001b[0m \u001b[38;5;28;01mtry\u001b[39;00m:\n\u001b[1;32m---> 65\u001b[0m     \u001b[38;5;28;01mreturn\u001b[39;00m \u001b[43mfn\u001b[49m\u001b[43m(\u001b[49m\u001b[38;5;241;43m*\u001b[39;49m\u001b[43margs\u001b[49m\u001b[43m,\u001b[49m\u001b[43m \u001b[49m\u001b[38;5;241;43m*\u001b[39;49m\u001b[38;5;241;43m*\u001b[39;49m\u001b[43mkwargs\u001b[49m\u001b[43m)\u001b[49m\n\u001b[0;32m     66\u001b[0m \u001b[38;5;28;01mexcept\u001b[39;00m \u001b[38;5;167;01mException\u001b[39;00m \u001b[38;5;28;01mas\u001b[39;00m e:\n\u001b[0;32m     67\u001b[0m     filtered_tb \u001b[38;5;241m=\u001b[39m _process_traceback_frames(e\u001b[38;5;241m.\u001b[39m__traceback__)\n",
      "File \u001b[1;32me:\\Projects\\Micromilling_process_optimisation\\.venv\\Lib\\site-packages\\keras\\src\\engine\\training.py:2285\u001b[0m, in \u001b[0;36mModel.evaluate\u001b[1;34m(self, x, y, batch_size, verbose, sample_weight, steps, callbacks, max_queue_size, workers, use_multiprocessing, return_dict, **kwargs)\u001b[0m\n\u001b[0;32m   2283\u001b[0m \u001b[38;5;28;01mif\u001b[39;00m \u001b[38;5;28mself\u001b[39m\u001b[38;5;241m.\u001b[39mautotune_steps_per_execution:\n\u001b[0;32m   2284\u001b[0m     \u001b[38;5;28mself\u001b[39m\u001b[38;5;241m.\u001b[39m_steps_per_execution_tuner\u001b[38;5;241m.\u001b[39mstart()\n\u001b[1;32m-> 2285\u001b[0m \u001b[43m\u001b[49m\u001b[38;5;28;43;01mfor\u001b[39;49;00m\u001b[43m \u001b[49m\u001b[43m(\u001b[49m\n\u001b[0;32m   2286\u001b[0m \u001b[43m    \u001b[49m\u001b[43m_\u001b[49m\u001b[43m,\u001b[49m\n\u001b[0;32m   2287\u001b[0m \u001b[43m    \u001b[49m\u001b[43mdataset_or_iterator\u001b[49m\u001b[43m,\u001b[49m\n\u001b[0;32m   2288\u001b[0m \u001b[43m\u001b[49m\u001b[43m)\u001b[49m\u001b[43m \u001b[49m\u001b[38;5;129;43;01min\u001b[39;49;00m\u001b[43m \u001b[49m\u001b[43mdata_handler\u001b[49m\u001b[38;5;241;43m.\u001b[39;49m\u001b[43menumerate_epochs\u001b[49m\u001b[43m(\u001b[49m\u001b[43m)\u001b[49m\u001b[43m:\u001b[49m\u001b[43m  \u001b[49m\u001b[38;5;66;43;03m# Single epoch.\u001b[39;49;00m\n\u001b[0;32m   2289\u001b[0m \u001b[43m    \u001b[49m\u001b[38;5;28;43mself\u001b[39;49m\u001b[38;5;241;43m.\u001b[39;49m\u001b[43mreset_metrics\u001b[49m\u001b[43m(\u001b[49m\u001b[43m)\u001b[49m\n\u001b[0;32m   2290\u001b[0m \u001b[43m    \u001b[49m\u001b[38;5;28;43;01mwith\u001b[39;49;00m\u001b[43m \u001b[49m\u001b[43mdata_handler\u001b[49m\u001b[38;5;241;43m.\u001b[39;49m\u001b[43mcatch_stop_iteration\u001b[49m\u001b[43m(\u001b[49m\u001b[43m)\u001b[49m\u001b[43m:\u001b[49m\n",
      "File \u001b[1;32me:\\Projects\\Micromilling_process_optimisation\\.venv\\Lib\\site-packages\\keras\\src\\engine\\data_adapter.py:1341\u001b[0m, in \u001b[0;36mDataHandler.enumerate_epochs\u001b[1;34m(self)\u001b[0m\n\u001b[0;32m   1339\u001b[0m \u001b[38;5;250m\u001b[39m\u001b[38;5;124;03m\"\"\"Yields `(epoch, tf.data.Iterator)`.\"\"\"\u001b[39;00m\n\u001b[0;32m   1340\u001b[0m \u001b[38;5;28;01mwith\u001b[39;00m \u001b[38;5;28mself\u001b[39m\u001b[38;5;241m.\u001b[39m_truncate_execution_to_epoch():\n\u001b[1;32m-> 1341\u001b[0m     data_iterator \u001b[38;5;241m=\u001b[39m \u001b[38;5;28miter\u001b[39m(\u001b[38;5;28mself\u001b[39m\u001b[38;5;241m.\u001b[39m_dataset)\n\u001b[0;32m   1342\u001b[0m     \u001b[38;5;28;01mfor\u001b[39;00m epoch \u001b[38;5;129;01min\u001b[39;00m \u001b[38;5;28mrange\u001b[39m(\u001b[38;5;28mself\u001b[39m\u001b[38;5;241m.\u001b[39m_initial_epoch, \u001b[38;5;28mself\u001b[39m\u001b[38;5;241m.\u001b[39m_epochs):\n\u001b[0;32m   1343\u001b[0m         \u001b[38;5;28;01mif\u001b[39;00m \u001b[38;5;28mself\u001b[39m\u001b[38;5;241m.\u001b[39m_insufficient_data:  \u001b[38;5;66;03m# Set by `catch_stop_iteration`.\u001b[39;00m\n",
      "File \u001b[1;32me:\\Projects\\Micromilling_process_optimisation\\.venv\\Lib\\site-packages\\tensorflow\\python\\data\\ops\\dataset_ops.py:500\u001b[0m, in \u001b[0;36mDatasetV2.__iter__\u001b[1;34m(self)\u001b[0m\n\u001b[0;32m    498\u001b[0m \u001b[38;5;28;01mif\u001b[39;00m context\u001b[38;5;241m.\u001b[39mexecuting_eagerly() \u001b[38;5;129;01mor\u001b[39;00m ops\u001b[38;5;241m.\u001b[39minside_function():\n\u001b[0;32m    499\u001b[0m   \u001b[38;5;28;01mwith\u001b[39;00m ops\u001b[38;5;241m.\u001b[39mcolocate_with(\u001b[38;5;28mself\u001b[39m\u001b[38;5;241m.\u001b[39m_variant_tensor):\n\u001b[1;32m--> 500\u001b[0m     \u001b[38;5;28;01mreturn\u001b[39;00m \u001b[43miterator_ops\u001b[49m\u001b[38;5;241;43m.\u001b[39;49m\u001b[43mOwnedIterator\u001b[49m\u001b[43m(\u001b[49m\u001b[38;5;28;43mself\u001b[39;49m\u001b[43m)\u001b[49m\n\u001b[0;32m    501\u001b[0m \u001b[38;5;28;01melse\u001b[39;00m:\n\u001b[0;32m    502\u001b[0m   \u001b[38;5;28;01mraise\u001b[39;00m \u001b[38;5;167;01mRuntimeError\u001b[39;00m(\u001b[38;5;124m\"\u001b[39m\u001b[38;5;124m`tf.data.Dataset` only supports Python-style \u001b[39m\u001b[38;5;124m\"\u001b[39m\n\u001b[0;32m    503\u001b[0m                      \u001b[38;5;124m\"\u001b[39m\u001b[38;5;124miteration in eager mode or within tf.function.\u001b[39m\u001b[38;5;124m\"\u001b[39m)\n",
      "File \u001b[1;32me:\\Projects\\Micromilling_process_optimisation\\.venv\\Lib\\site-packages\\tensorflow\\python\\data\\ops\\iterator_ops.py:706\u001b[0m, in \u001b[0;36mOwnedIterator.__init__\u001b[1;34m(self, dataset, components, element_spec)\u001b[0m\n\u001b[0;32m    702\u001b[0m   \u001b[38;5;28;01mif\u001b[39;00m (components \u001b[38;5;129;01mis\u001b[39;00m \u001b[38;5;129;01mnot\u001b[39;00m \u001b[38;5;28;01mNone\u001b[39;00m \u001b[38;5;129;01mor\u001b[39;00m element_spec \u001b[38;5;129;01mis\u001b[39;00m \u001b[38;5;129;01mnot\u001b[39;00m \u001b[38;5;28;01mNone\u001b[39;00m):\n\u001b[0;32m    703\u001b[0m     \u001b[38;5;28;01mraise\u001b[39;00m \u001b[38;5;167;01mValueError\u001b[39;00m(\n\u001b[0;32m    704\u001b[0m         \u001b[38;5;124m\"\u001b[39m\u001b[38;5;124mWhen `dataset` is provided, `element_spec` and `components` must \u001b[39m\u001b[38;5;124m\"\u001b[39m\n\u001b[0;32m    705\u001b[0m         \u001b[38;5;124m\"\u001b[39m\u001b[38;5;124mnot be specified.\u001b[39m\u001b[38;5;124m\"\u001b[39m)\n\u001b[1;32m--> 706\u001b[0m   \u001b[38;5;28;43mself\u001b[39;49m\u001b[38;5;241;43m.\u001b[39;49m\u001b[43m_create_iterator\u001b[49m\u001b[43m(\u001b[49m\u001b[43mdataset\u001b[49m\u001b[43m)\u001b[49m\n\u001b[0;32m    708\u001b[0m \u001b[38;5;28mself\u001b[39m\u001b[38;5;241m.\u001b[39m_get_next_call_count \u001b[38;5;241m=\u001b[39m \u001b[38;5;241m0\u001b[39m\n",
      "File \u001b[1;32me:\\Projects\\Micromilling_process_optimisation\\.venv\\Lib\\site-packages\\tensorflow\\python\\data\\ops\\iterator_ops.py:745\u001b[0m, in \u001b[0;36mOwnedIterator._create_iterator\u001b[1;34m(self, dataset)\u001b[0m\n\u001b[0;32m    742\u001b[0m   \u001b[38;5;28;01massert\u001b[39;00m \u001b[38;5;28mlen\u001b[39m(fulltype\u001b[38;5;241m.\u001b[39margs[\u001b[38;5;241m0\u001b[39m]\u001b[38;5;241m.\u001b[39margs[\u001b[38;5;241m0\u001b[39m]\u001b[38;5;241m.\u001b[39margs) \u001b[38;5;241m==\u001b[39m \u001b[38;5;28mlen\u001b[39m(\n\u001b[0;32m    743\u001b[0m       \u001b[38;5;28mself\u001b[39m\u001b[38;5;241m.\u001b[39m_flat_output_types)\n\u001b[0;32m    744\u001b[0m   \u001b[38;5;28mself\u001b[39m\u001b[38;5;241m.\u001b[39m_iterator_resource\u001b[38;5;241m.\u001b[39mop\u001b[38;5;241m.\u001b[39mexperimental_set_type(fulltype)\n\u001b[1;32m--> 745\u001b[0m \u001b[43mgen_dataset_ops\u001b[49m\u001b[38;5;241;43m.\u001b[39;49m\u001b[43mmake_iterator\u001b[49m\u001b[43m(\u001b[49m\u001b[43mds_variant\u001b[49m\u001b[43m,\u001b[49m\u001b[43m \u001b[49m\u001b[38;5;28;43mself\u001b[39;49m\u001b[38;5;241;43m.\u001b[39;49m\u001b[43m_iterator_resource\u001b[49m\u001b[43m)\u001b[49m\n",
      "File \u001b[1;32me:\\Projects\\Micromilling_process_optimisation\\.venv\\Lib\\site-packages\\tensorflow\\python\\ops\\gen_dataset_ops.py:3421\u001b[0m, in \u001b[0;36mmake_iterator\u001b[1;34m(dataset, iterator, name)\u001b[0m\n\u001b[0;32m   3419\u001b[0m \u001b[38;5;28;01mif\u001b[39;00m tld\u001b[38;5;241m.\u001b[39mis_eager:\n\u001b[0;32m   3420\u001b[0m   \u001b[38;5;28;01mtry\u001b[39;00m:\n\u001b[1;32m-> 3421\u001b[0m     _result \u001b[38;5;241m=\u001b[39m \u001b[43mpywrap_tfe\u001b[49m\u001b[38;5;241;43m.\u001b[39;49m\u001b[43mTFE_Py_FastPathExecute\u001b[49m\u001b[43m(\u001b[49m\n\u001b[0;32m   3422\u001b[0m \u001b[43m      \u001b[49m\u001b[43m_ctx\u001b[49m\u001b[43m,\u001b[49m\u001b[43m \u001b[49m\u001b[38;5;124;43m\"\u001b[39;49m\u001b[38;5;124;43mMakeIterator\u001b[39;49m\u001b[38;5;124;43m\"\u001b[39;49m\u001b[43m,\u001b[49m\u001b[43m \u001b[49m\u001b[43mname\u001b[49m\u001b[43m,\u001b[49m\u001b[43m \u001b[49m\u001b[43mdataset\u001b[49m\u001b[43m,\u001b[49m\u001b[43m \u001b[49m\u001b[43miterator\u001b[49m\u001b[43m)\u001b[49m\n\u001b[0;32m   3423\u001b[0m     \u001b[38;5;28;01mreturn\u001b[39;00m _result\n\u001b[0;32m   3424\u001b[0m   \u001b[38;5;28;01mexcept\u001b[39;00m _core\u001b[38;5;241m.\u001b[39m_NotOkStatusException \u001b[38;5;28;01mas\u001b[39;00m e:\n",
      "\u001b[1;31mKeyboardInterrupt\u001b[0m: "
     ]
    }
   ],
   "source": [
    "history = model.fit(X_train,y_train, epochs=500, verbose=1, callbacks=[ early_stopping_cb],validation_data=(X_val,y_val))"
   ]
  },
  {
   "cell_type": "code",
   "execution_count": null,
   "metadata": {},
   "outputs": [],
   "source": [
    "rmse_score = model.evaluate(X_test,y_test)"
   ]
  },
  {
   "cell_type": "code",
   "execution_count": null,
   "metadata": {},
   "outputs": [],
   "source": [
    "X_new = X_train[:3]"
   ]
  },
  {
   "cell_type": "code",
   "execution_count": null,
   "metadata": {},
   "outputs": [],
   "source": [
    "X_train[:3]"
   ]
  },
  {
   "cell_type": "code",
   "execution_count": null,
   "metadata": {},
   "outputs": [],
   "source": [
    "model.predict(X_new)"
   ]
  },
  {
   "cell_type": "code",
   "execution_count": null,
   "metadata": {},
   "outputs": [],
   "source": [
    "y_train[:3]"
   ]
  },
  {
   "cell_type": "markdown",
   "metadata": {},
   "source": [
    "### Model Tuning"
   ]
  },
  {
   "cell_type": "code",
   "execution_count": null,
   "metadata": {},
   "outputs": [],
   "source": [
    "def build_model(hp):\n",
    "    n_hidden = hp.Int(\"n_hidden\", min_value=0, max_value=8, default=2)\n",
    "    n_neurons = hp.Int(\"n_neurons\", min_value=100, max_value=500)\n",
    "    learning_rate = hp.Float(\"learning_rate\", min_value=1e-4, max_value=1e-2,sampling=\"log\")\n",
    "    optimizer = keras.optimizers.Adam(learning_rate=learning_rate)\n",
    "    model = keras.Sequential()\n",
    "    model.add(norm_layer)\n",
    "    for _ in range(n_hidden):\n",
    "        model.add(keras.layers.BatchNormalization())\n",
    "        model.add(keras.layers.Dense(n_neurons, activation=\"relu\", kernel_initializer=\"he_normal\"))\n",
    "    model.add(keras.layers.Dense(2))\n",
    "    model.compile(loss=\"mse\", optimizer=optimizer, metrics=[\"RootMeanSquaredError\"])\n",
    "    return model"
   ]
  },
  {
   "cell_type": "code",
   "execution_count": null,
   "metadata": {},
   "outputs": [],
   "source": [
    "tuner = kt.RandomSearch(\n",
    " build_model, objective=kt.Objective(\"val_root_mean_squared_error\", direction=\"min\"), max_trials=10, overwrite=True,\n",
    " directory=\"Model_Tuning\", project_name=\"my_rnd_search\", seed=42)\n",
    "\n",
    "early_stop = keras.callbacks.EarlyStopping(monitor='val_loss', patience=30)\n",
    "\n",
    "tuner.search(X_train, y_train, epochs=150, validation_data=(X_val, y_val), callbacks=[early_stop])"
   ]
  },
  {
   "cell_type": "code",
   "execution_count": null,
   "metadata": {},
   "outputs": [],
   "source": [
    "best_hps = tuner.get_best_hyperparameters(num_trials=1)[0]"
   ]
  },
  {
   "cell_type": "code",
   "execution_count": null,
   "metadata": {},
   "outputs": [],
   "source": [
    "best_trial = tuner.oracle.get_best_trials(num_trials=1)[0]"
   ]
  },
  {
   "cell_type": "code",
   "execution_count": null,
   "metadata": {},
   "outputs": [],
   "source": [
    "best_trial.summary()"
   ]
  },
  {
   "cell_type": "code",
   "execution_count": null,
   "metadata": {},
   "outputs": [],
   "source": [
    "Final_model = tuner.get_best_models(num_models=1)[0]"
   ]
  },
  {
   "cell_type": "code",
   "execution_count": null,
   "metadata": {},
   "outputs": [],
   "source": [
    "tensorboard_cb = tf.keras.callbacks.TensorBoard(run_logdir, profile_batch=(100, 200))"
   ]
  },
  {
   "cell_type": "code",
   "execution_count": null,
   "metadata": {},
   "outputs": [],
   "source": [
    "early_stopping_cb = tf.keras.callbacks.EarlyStopping(patience=10, restore_best_weights=True)"
   ]
  },
  {
   "cell_type": "code",
   "execution_count": null,
   "metadata": {},
   "outputs": [],
   "source": [
    "Final_model.fit(X_train_full, y_train_full, epochs=200, callbacks=[tensorboard_cb, early_stopping_cb])"
   ]
  },
  {
   "cell_type": "code",
   "execution_count": null,
   "metadata": {},
   "outputs": [],
   "source": [
    "%load_ext tensorboard\n",
    "%tensorboard --logdir=./my_logs"
   ]
  },
  {
   "cell_type": "code",
   "execution_count": null,
   "metadata": {},
   "outputs": [],
   "source": [
    "X_new"
   ]
  },
  {
   "cell_type": "code",
   "execution_count": null,
   "metadata": {},
   "outputs": [],
   "source": [
    "Final_model.predict(X_new)"
   ]
  },
  {
   "cell_type": "code",
   "execution_count": null,
   "metadata": {},
   "outputs": [],
   "source": [
    "y_train[:3]"
   ]
  },
  {
   "cell_type": "code",
   "execution_count": null,
   "metadata": {},
   "outputs": [],
   "source": [
    "Final_model.save(\"Final_neural_network.h5\")"
   ]
  },
  {
   "cell_type": "code",
   "execution_count": 22,
   "metadata": {},
   "outputs": [],
   "source": [
    "model = tf.keras.models.load_model('Final_neural_network.h5')"
   ]
  },
  {
   "cell_type": "code",
   "execution_count": 26,
   "metadata": {},
   "outputs": [
    {
     "name": "stdout",
     "output_type": "stream",
     "text": [
      "Model: \"sequential\"\n",
      "_________________________________________________________________\n",
      " Layer (type)                Output Shape              Param #   \n",
      "=================================================================\n",
      " normalization_1 (Normaliza  (None, 3)                 7         \n",
      " tion)                                                           \n",
      "                                                                 \n",
      " batch_normalization (Batch  (None, 3)                 12        \n",
      " Normalization)                                                  \n",
      "                                                                 \n",
      " dense (Dense)               (None, 456)               1824      \n",
      "                                                                 \n",
      " batch_normalization_1 (Bat  (None, 456)               1824      \n",
      " chNormalization)                                                \n",
      "                                                                 \n",
      " dense_1 (Dense)             (None, 456)               208392    \n",
      "                                                                 \n",
      " dense_2 (Dense)             (None, 2)                 914       \n",
      "                                                                 \n",
      "=================================================================\n",
      "Total params: 212973 (831.93 KB)\n",
      "Trainable params: 212048 (828.31 KB)\n",
      "Non-trainable params: 925 (3.62 KB)\n",
      "_________________________________________________________________\n"
     ]
    }
   ],
   "source": [
    "model.summary()"
   ]
  },
  {
   "cell_type": "code",
   "execution_count": 24,
   "metadata": {},
   "outputs": [
    {
     "name": "stdout",
     "output_type": "stream",
     "text": [
      "1/1 [==============================] - 0s 251ms/step - loss: 0.0925 - root_mean_squared_error: 0.3041\n"
     ]
    },
    {
     "data": {
      "text/plain": [
       "[0.09247415512800217, 0.30409565567970276]"
      ]
     },
     "execution_count": 24,
     "metadata": {},
     "output_type": "execute_result"
    }
   ],
   "source": [
    "model.evaluate(X_train, y_train)"
   ]
  },
  {
   "cell_type": "code",
   "execution_count": 25,
   "metadata": {},
   "outputs": [
    {
     "name": "stdout",
     "output_type": "stream",
     "text": [
      "1/1 [==============================] - 0s 38ms/step - loss: 1.2252 - root_mean_squared_error: 1.1069\n"
     ]
    },
    {
     "data": {
      "text/plain": [
       "[1.2251598834991455, 1.1068694591522217]"
      ]
     },
     "execution_count": 25,
     "metadata": {},
     "output_type": "execute_result"
    }
   ],
   "source": [
    "model.evaluate(X_test,y_test)"
   ]
  },
  {
   "cell_type": "code",
   "execution_count": null,
   "metadata": {},
   "outputs": [],
   "source": [
    "y_pred = model.predict(X_test)"
   ]
  },
  {
   "cell_type": "code",
   "execution_count": null,
   "metadata": {},
   "outputs": [],
   "source": [
    "y_pred"
   ]
  },
  {
   "cell_type": "code",
   "execution_count": null,
   "metadata": {},
   "outputs": [],
   "source": [
    "y_test"
   ]
  },
  {
   "cell_type": "code",
   "execution_count": null,
   "metadata": {},
   "outputs": [],
   "source": [
    "! pip install ann_visualizer"
   ]
  },
  {
   "cell_type": "code",
   "execution_count": null,
   "metadata": {},
   "outputs": [],
   "source": []
  }
 ],
 "metadata": {
  "kernelspec": {
   "display_name": ".venv",
   "language": "python",
   "name": "python3"
  },
  "language_info": {
   "codemirror_mode": {
    "name": "ipython",
    "version": 3
   },
   "file_extension": ".py",
   "mimetype": "text/x-python",
   "name": "python",
   "nbconvert_exporter": "python",
   "pygments_lexer": "ipython3",
   "version": "3.11.5"
  }
 },
 "nbformat": 4,
 "nbformat_minor": 2
}
