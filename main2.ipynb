{
 "cells": [
  {
   "cell_type": "code",
   "execution_count": 1,
   "metadata": {},
   "outputs": [
    {
     "name": "stdout",
     "output_type": "stream",
     "text": [
      "WARNING:tensorflow:From f:\\Projects\\Micromilling_process_optimisation\\.venv\\Lib\\site-packages\\keras\\src\\losses.py:2976: The name tf.losses.sparse_softmax_cross_entropy is deprecated. Please use tf.compat.v1.losses.sparse_softmax_cross_entropy instead.\n",
      "\n"
     ]
    }
   ],
   "source": [
    "import numpy as np\n",
    "import matplotlib.pyplot as plt\n",
    "import pandas as pd\n",
    "import seaborn as sns\n",
    "import tensorflow as tf\n",
    "from tensorflow import keras"
   ]
  },
  {
   "cell_type": "markdown",
   "metadata": {},
   "source": [
    "## Data Fetching"
   ]
  },
  {
   "cell_type": "code",
   "execution_count": 2,
   "metadata": {},
   "outputs": [
    {
     "name": "stderr",
     "output_type": "stream",
     "text": [
      "C:\\Users\\Vardan\\AppData\\Local\\Temp\\ipykernel_10432\\1164869249.py:2: DeprecationWarning: [Deprecated][in version 6.0.0]: client_factory will be replaced by gspread.http_client types\n",
      "  data = read_data()\n"
     ]
    }
   ],
   "source": [
    "from utils.data_fetch import read_data\n",
    "data = read_data()"
   ]
  },
  {
   "cell_type": "code",
   "execution_count": 3,
   "metadata": {},
   "outputs": [
    {
     "data": {
      "text/html": [
       "<div>\n",
       "<style scoped>\n",
       "    .dataframe tbody tr th:only-of-type {\n",
       "        vertical-align: middle;\n",
       "    }\n",
       "\n",
       "    .dataframe tbody tr th {\n",
       "        vertical-align: top;\n",
       "    }\n",
       "\n",
       "    .dataframe thead th {\n",
       "        text-align: right;\n",
       "    }\n",
       "</style>\n",
       "<table border=\"1\" class=\"dataframe\">\n",
       "  <thead>\n",
       "    <tr style=\"text-align: right;\">\n",
       "      <th></th>\n",
       "      <th>Spindle Speed</th>\n",
       "      <th>Feed (mm/min)</th>\n",
       "      <th>Tool Dia. (mm)</th>\n",
       "      <th>Depth of Cut (mm)</th>\n",
       "      <th>Length of Cut (mm)</th>\n",
       "      <th>Length of cut actual(mm)</th>\n",
       "      <th>Width of Cut(mm)</th>\n",
       "      <th>Actual Width(mm)</th>\n",
       "      <th>Wi</th>\n",
       "      <th>Wf</th>\n",
       "      <th>delta Weight</th>\n",
       "      <th>Time (sec)</th>\n",
       "      <th>Time (min)</th>\n",
       "      <th>MRR ideal</th>\n",
       "      <th>MRR actual</th>\n",
       "      <th>Density(g/mm3)</th>\n",
       "      <th>Delta L</th>\n",
       "      <th>Delta W</th>\n",
       "    </tr>\n",
       "  </thead>\n",
       "  <tbody>\n",
       "    <tr>\n",
       "      <th>0</th>\n",
       "      <td>3000</td>\n",
       "      <td>10</td>\n",
       "      <td>1</td>\n",
       "      <td>0.3</td>\n",
       "      <td>11</td>\n",
       "      <td>11.048</td>\n",
       "      <td>1</td>\n",
       "      <td>1.187</td>\n",
       "      <td>49.3753</td>\n",
       "      <td>49.3694</td>\n",
       "      <td>0.0059</td>\n",
       "      <td>121.35</td>\n",
       "      <td>2.0225</td>\n",
       "      <td>3</td>\n",
       "      <td>1.076450814</td>\n",
       "      <td>0.00271</td>\n",
       "      <td>0.048</td>\n",
       "      <td>0.187</td>\n",
       "    </tr>\n",
       "    <tr>\n",
       "      <th>1</th>\n",
       "      <td>3000</td>\n",
       "      <td>15</td>\n",
       "      <td>1</td>\n",
       "      <td>0.3</td>\n",
       "      <td>11</td>\n",
       "      <td>11.064</td>\n",
       "      <td>1</td>\n",
       "      <td>1.002</td>\n",
       "      <td>49.3694</td>\n",
       "      <td>49.3682</td>\n",
       "      <td>0.0012</td>\n",
       "      <td>81.2</td>\n",
       "      <td>1.353333333</td>\n",
       "      <td>4.5</td>\n",
       "      <td>0.3271953902</td>\n",
       "      <td>0.00271</td>\n",
       "      <td>0.064</td>\n",
       "      <td>0.002</td>\n",
       "    </tr>\n",
       "    <tr>\n",
       "      <th>2</th>\n",
       "      <td>3000</td>\n",
       "      <td>20</td>\n",
       "      <td>1</td>\n",
       "      <td>0.3</td>\n",
       "      <td>11</td>\n",
       "      <td>11.05</td>\n",
       "      <td>1</td>\n",
       "      <td>1.145</td>\n",
       "      <td>49.3682</td>\n",
       "      <td>49.3659</td>\n",
       "      <td>0.0023</td>\n",
       "      <td>63.13</td>\n",
       "      <td>1.052166667</td>\n",
       "      <td>6</td>\n",
       "      <td>0.806629324</td>\n",
       "      <td>0.00271</td>\n",
       "      <td>0.05</td>\n",
       "      <td>0.145</td>\n",
       "    </tr>\n",
       "    <tr>\n",
       "      <th>3</th>\n",
       "      <td>3250</td>\n",
       "      <td>10</td>\n",
       "      <td>1</td>\n",
       "      <td>0.3</td>\n",
       "      <td>11</td>\n",
       "      <td>11.0565</td>\n",
       "      <td>1</td>\n",
       "      <td>1.14425</td>\n",
       "      <td>49.3659</td>\n",
       "      <td>49.3635</td>\n",
       "      <td>0.0024</td>\n",
       "      <td>110.825</td>\n",
       "      <td>1.847833333</td>\n",
       "      <td>3</td>\n",
       "      <td>1.007537102</td>\n",
       "      <td>0.00271</td>\n",
       "      <td>0.0565</td>\n",
       "      <td>0.14425</td>\n",
       "    </tr>\n",
       "    <tr>\n",
       "      <th>4</th>\n",
       "      <td>3250</td>\n",
       "      <td>15</td>\n",
       "      <td>1</td>\n",
       "      <td>0.3</td>\n",
       "      <td>11</td>\n",
       "      <td>11.0605</td>\n",
       "      <td>1</td>\n",
       "      <td>1.08075</td>\n",
       "      <td>49.3635</td>\n",
       "      <td>49.3617</td>\n",
       "      <td>0.0018</td>\n",
       "      <td>91.185</td>\n",
       "      <td>1.51975</td>\n",
       "      <td>4.5</td>\n",
       "      <td>0.5536889701</td>\n",
       "      <td>0.00271</td>\n",
       "      <td>0.0605</td>\n",
       "      <td>0.08075</td>\n",
       "    </tr>\n",
       "    <tr>\n",
       "      <th>...</th>\n",
       "      <td>...</td>\n",
       "      <td>...</td>\n",
       "      <td>...</td>\n",
       "      <td>...</td>\n",
       "      <td>...</td>\n",
       "      <td>...</td>\n",
       "      <td>...</td>\n",
       "      <td>...</td>\n",
       "      <td>...</td>\n",
       "      <td>...</td>\n",
       "      <td>...</td>\n",
       "      <td>...</td>\n",
       "      <td>...</td>\n",
       "      <td>...</td>\n",
       "      <td>...</td>\n",
       "      <td>...</td>\n",
       "      <td>...</td>\n",
       "      <td>...</td>\n",
       "    </tr>\n",
       "    <tr>\n",
       "      <th>103</th>\n",
       "      <td>4750</td>\n",
       "      <td>15</td>\n",
       "      <td>2</td>\n",
       "      <td>0.5</td>\n",
       "      <td>12</td>\n",
       "      <td>12.185</td>\n",
       "      <td>2</td>\n",
       "      <td>2.081</td>\n",
       "      <td>47.2419</td>\n",
       "      <td>47.2106</td>\n",
       "      <td>0.0313</td>\n",
       "      <td>95.87</td>\n",
       "      <td>1.597833333</td>\n",
       "      <td>15</td>\n",
       "      <td>10.82681853</td>\n",
       "      <td>0.00271</td>\n",
       "      <td>0.185</td>\n",
       "      <td>0.081</td>\n",
       "    </tr>\n",
       "    <tr>\n",
       "      <th>104</th>\n",
       "      <td>4750</td>\n",
       "      <td>20</td>\n",
       "      <td>2</td>\n",
       "      <td>0.5</td>\n",
       "      <td>12</td>\n",
       "      <td>12.166</td>\n",
       "      <td>2</td>\n",
       "      <td>2.063</td>\n",
       "      <td>47.2106</td>\n",
       "      <td>47.1822</td>\n",
       "      <td>0.0284</td>\n",
       "      <td>66.05</td>\n",
       "      <td>1.100833333</td>\n",
       "      <td>20</td>\n",
       "      <td>12.08555939</td>\n",
       "      <td>0.00271</td>\n",
       "      <td>0.166</td>\n",
       "      <td>0.063</td>\n",
       "    </tr>\n",
       "    <tr>\n",
       "      <th>105</th>\n",
       "      <td>5000</td>\n",
       "      <td>10</td>\n",
       "      <td>2</td>\n",
       "      <td>0.5</td>\n",
       "      <td>12</td>\n",
       "      <td>12.139</td>\n",
       "      <td>2</td>\n",
       "      <td>2.076</td>\n",
       "      <td>47.1822</td>\n",
       "      <td>47.1535</td>\n",
       "      <td>0.0287</td>\n",
       "      <td>124.65</td>\n",
       "      <td>2.0775</td>\n",
       "      <td>10</td>\n",
       "      <td>6.269954396</td>\n",
       "      <td>0.00271</td>\n",
       "      <td>0.139</td>\n",
       "      <td>0.076</td>\n",
       "    </tr>\n",
       "    <tr>\n",
       "      <th>106</th>\n",
       "      <td>5000</td>\n",
       "      <td>15</td>\n",
       "      <td>2</td>\n",
       "      <td>0.5</td>\n",
       "      <td>12</td>\n",
       "      <td>12.139</td>\n",
       "      <td>2</td>\n",
       "      <td>2.125</td>\n",
       "      <td>47.1535</td>\n",
       "      <td>47.1256</td>\n",
       "      <td>0.0279</td>\n",
       "      <td>83.28</td>\n",
       "      <td>1.388</td>\n",
       "      <td>15</td>\n",
       "      <td>9.038995289</td>\n",
       "      <td>0.00271</td>\n",
       "      <td>0.139</td>\n",
       "      <td>0.125</td>\n",
       "    </tr>\n",
       "    <tr>\n",
       "      <th>107</th>\n",
       "      <td>5000</td>\n",
       "      <td>20</td>\n",
       "      <td>2</td>\n",
       "      <td>0.5</td>\n",
       "      <td>12</td>\n",
       "      <td>12.18</td>\n",
       "      <td>2</td>\n",
       "      <td>2.09</td>\n",
       "      <td>47.1256</td>\n",
       "      <td>47.097</td>\n",
       "      <td>0.0286</td>\n",
       "      <td>62.78</td>\n",
       "      <td>1.046333333</td>\n",
       "      <td>20</td>\n",
       "      <td>10.65044101</td>\n",
       "      <td>0.00271</td>\n",
       "      <td>0.18</td>\n",
       "      <td>0.09</td>\n",
       "    </tr>\n",
       "  </tbody>\n",
       "</table>\n",
       "<p>108 rows × 18 columns</p>\n",
       "</div>"
      ],
      "text/plain": [
       "    Spindle Speed Feed (mm/min) Tool Dia. (mm) Depth of Cut (mm)  \\\n",
       "0            3000            10              1               0.3   \n",
       "1            3000            15              1               0.3   \n",
       "2            3000            20              1               0.3   \n",
       "3            3250            10              1               0.3   \n",
       "4            3250            15              1               0.3   \n",
       "..            ...           ...            ...               ...   \n",
       "103          4750            15              2               0.5   \n",
       "104          4750            20              2               0.5   \n",
       "105          5000            10              2               0.5   \n",
       "106          5000            15              2               0.5   \n",
       "107          5000            20              2               0.5   \n",
       "\n",
       "    Length of Cut (mm) Length of cut actual(mm) Width of Cut(mm)  \\\n",
       "0                   11                   11.048                1   \n",
       "1                   11                   11.064                1   \n",
       "2                   11                    11.05                1   \n",
       "3                   11                  11.0565                1   \n",
       "4                   11                  11.0605                1   \n",
       "..                 ...                      ...              ...   \n",
       "103                 12                   12.185                2   \n",
       "104                 12                   12.166                2   \n",
       "105                 12                   12.139                2   \n",
       "106                 12                   12.139                2   \n",
       "107                 12                    12.18                2   \n",
       "\n",
       "    Actual Width(mm)       Wi       Wf delta Weight Time (sec)   Time (min)  \\\n",
       "0              1.187  49.3753  49.3694       0.0059     121.35       2.0225   \n",
       "1              1.002  49.3694  49.3682       0.0012       81.2  1.353333333   \n",
       "2              1.145  49.3682  49.3659       0.0023      63.13  1.052166667   \n",
       "3            1.14425  49.3659  49.3635       0.0024    110.825  1.847833333   \n",
       "4            1.08075  49.3635  49.3617       0.0018     91.185      1.51975   \n",
       "..               ...      ...      ...          ...        ...          ...   \n",
       "103            2.081  47.2419  47.2106       0.0313      95.87  1.597833333   \n",
       "104            2.063  47.2106  47.1822       0.0284      66.05  1.100833333   \n",
       "105            2.076  47.1822  47.1535       0.0287     124.65       2.0775   \n",
       "106            2.125  47.1535  47.1256       0.0279      83.28        1.388   \n",
       "107             2.09  47.1256   47.097       0.0286      62.78  1.046333333   \n",
       "\n",
       "    MRR ideal    MRR actual Density(g/mm3) Delta L  Delta W  \n",
       "0           3   1.076450814        0.00271   0.048    0.187  \n",
       "1         4.5  0.3271953902        0.00271   0.064    0.002  \n",
       "2           6   0.806629324        0.00271    0.05    0.145  \n",
       "3           3   1.007537102        0.00271  0.0565  0.14425  \n",
       "4         4.5  0.5536889701        0.00271  0.0605  0.08075  \n",
       "..        ...           ...            ...     ...      ...  \n",
       "103        15   10.82681853        0.00271   0.185    0.081  \n",
       "104        20   12.08555939        0.00271   0.166    0.063  \n",
       "105        10   6.269954396        0.00271   0.139    0.076  \n",
       "106        15   9.038995289        0.00271   0.139    0.125  \n",
       "107        20   10.65044101        0.00271    0.18     0.09  \n",
       "\n",
       "[108 rows x 18 columns]"
      ]
     },
     "execution_count": 3,
     "metadata": {},
     "output_type": "execute_result"
    }
   ],
   "source": [
    "data"
   ]
  },
  {
   "cell_type": "markdown",
   "metadata": {},
   "source": [
    "## Data Preprocessing"
   ]
  },
  {
   "cell_type": "code",
   "execution_count": 4,
   "metadata": {},
   "outputs": [],
   "source": [
    "from sklearn.preprocessing import StandardScaler\n",
    "from sklearn.model_selection import train_test_split\n",
    "from sklearn.pipeline import Pipeline\n",
    "train_set, test_set = train_test_split(data, test_size=0.2, random_state=32)"
   ]
  },
  {
   "cell_type": "code",
   "execution_count": 5,
   "metadata": {},
   "outputs": [],
   "source": [
    "X_train = train_set.drop([\"Spindle Speed\", \"Feed (mm/min)\"], axis = 1)\n",
    "y_train=pd.concat([train_set[\"Spindle Speed\"], train_set[\"Feed (mm/min)\"]], axis=1)"
   ]
  },
  {
   "cell_type": "code",
   "execution_count": 6,
   "metadata": {},
   "outputs": [
    {
     "data": {
      "text/plain": [
       "(86, 16)"
      ]
     },
     "execution_count": 6,
     "metadata": {},
     "output_type": "execute_result"
    }
   ],
   "source": [
    "X_train.shape"
   ]
  },
  {
   "cell_type": "code",
   "execution_count": 7,
   "metadata": {},
   "outputs": [
    {
     "data": {
      "text/plain": [
       "(86, 2)"
      ]
     },
     "execution_count": 7,
     "metadata": {},
     "output_type": "execute_result"
    }
   ],
   "source": [
    "y_train.shape"
   ]
  },
  {
   "cell_type": "code",
   "execution_count": 23,
   "metadata": {},
   "outputs": [
    {
     "ename": "ValueError",
     "evalue": "The last dimension of the inputs to a Dense layer should be defined. Found None. Full input shape received: (None, None)",
     "output_type": "error",
     "traceback": [
      "\u001b[1;31m---------------------------------------------------------------------------\u001b[0m",
      "\u001b[1;31mValueError\u001b[0m                                Traceback (most recent call last)",
      "\u001b[1;32mf:\\Projects\\Micromilling_process_optimisation\\main2.ipynb Cell 10\u001b[0m line \u001b[0;36m1\n\u001b[1;32m----> <a href='vscode-notebook-cell:/f%3A/Projects/Micromilling_process_optimisation/main2.ipynb#X11sZmlsZQ%3D%3D?line=0'>1</a>\u001b[0m model \u001b[39m=\u001b[39m keras\u001b[39m.\u001b[39;49mmodels\u001b[39m.\u001b[39;49mSequential([\n\u001b[0;32m      <a href='vscode-notebook-cell:/f%3A/Projects/Micromilling_process_optimisation/main2.ipynb#X11sZmlsZQ%3D%3D?line=1'>2</a>\u001b[0m     keras\u001b[39m.\u001b[39;49mlayers\u001b[39m.\u001b[39;49mFlatten(input_shape\u001b[39m=\u001b[39;49m((\u001b[39mNone\u001b[39;49;00m, \u001b[39m16\u001b[39;49m))),\n\u001b[0;32m      <a href='vscode-notebook-cell:/f%3A/Projects/Micromilling_process_optimisation/main2.ipynb#X11sZmlsZQ%3D%3D?line=2'>3</a>\u001b[0m     keras\u001b[39m.\u001b[39;49mlayers\u001b[39m.\u001b[39;49mDense(\u001b[39m300\u001b[39;49m, activation\u001b[39m=\u001b[39;49m\u001b[39m\"\u001b[39;49m\u001b[39mrelu\u001b[39;49m\u001b[39m\"\u001b[39;49m),\n\u001b[0;32m      <a href='vscode-notebook-cell:/f%3A/Projects/Micromilling_process_optimisation/main2.ipynb#X11sZmlsZQ%3D%3D?line=3'>4</a>\u001b[0m     keras\u001b[39m.\u001b[39;49mlayers\u001b[39m.\u001b[39;49mDense(\u001b[39m100\u001b[39;49m, activation\u001b[39m=\u001b[39;49m\u001b[39m\"\u001b[39;49m\u001b[39mrelu\u001b[39;49m\u001b[39m\"\u001b[39;49m),\n\u001b[0;32m      <a href='vscode-notebook-cell:/f%3A/Projects/Micromilling_process_optimisation/main2.ipynb#X11sZmlsZQ%3D%3D?line=4'>5</a>\u001b[0m     keras\u001b[39m.\u001b[39;49mlayers\u001b[39m.\u001b[39;49mDense(\u001b[39m2\u001b[39;49m)\n\u001b[0;32m      <a href='vscode-notebook-cell:/f%3A/Projects/Micromilling_process_optimisation/main2.ipynb#X11sZmlsZQ%3D%3D?line=5'>6</a>\u001b[0m ])\n\u001b[0;32m      <a href='vscode-notebook-cell:/f%3A/Projects/Micromilling_process_optimisation/main2.ipynb#X11sZmlsZQ%3D%3D?line=6'>7</a>\u001b[0m model\u001b[39m.\u001b[39mcompile(loss\u001b[39m=\u001b[39m\u001b[39m\"\u001b[39m\u001b[39mmean_squared_error\u001b[39m\u001b[39m\"\u001b[39m, optimizer\u001b[39m=\u001b[39m\u001b[39m\"\u001b[39m\u001b[39madam\u001b[39m\u001b[39m\"\u001b[39m, metrics\u001b[39m=\u001b[39m[\u001b[39m\"\u001b[39m\u001b[39mmae\u001b[39m\u001b[39m\"\u001b[39m])\n",
      "File \u001b[1;32mf:\\Projects\\Micromilling_process_optimisation\\.venv\\Lib\\site-packages\\tensorflow\\python\\trackable\\base.py:204\u001b[0m, in \u001b[0;36mno_automatic_dependency_tracking.<locals>._method_wrapper\u001b[1;34m(self, *args, **kwargs)\u001b[0m\n\u001b[0;32m    202\u001b[0m \u001b[39mself\u001b[39m\u001b[39m.\u001b[39m_self_setattr_tracking \u001b[39m=\u001b[39m \u001b[39mFalse\u001b[39;00m  \u001b[39m# pylint: disable=protected-access\u001b[39;00m\n\u001b[0;32m    203\u001b[0m \u001b[39mtry\u001b[39;00m:\n\u001b[1;32m--> 204\u001b[0m   result \u001b[39m=\u001b[39m method(\u001b[39mself\u001b[39;49m, \u001b[39m*\u001b[39;49margs, \u001b[39m*\u001b[39;49m\u001b[39m*\u001b[39;49mkwargs)\n\u001b[0;32m    205\u001b[0m \u001b[39mfinally\u001b[39;00m:\n\u001b[0;32m    206\u001b[0m   \u001b[39mself\u001b[39m\u001b[39m.\u001b[39m_self_setattr_tracking \u001b[39m=\u001b[39m previous_value  \u001b[39m# pylint: disable=protected-access\u001b[39;00m\n",
      "File \u001b[1;32mf:\\Projects\\Micromilling_process_optimisation\\.venv\\Lib\\site-packages\\keras\\src\\utils\\traceback_utils.py:70\u001b[0m, in \u001b[0;36mfilter_traceback.<locals>.error_handler\u001b[1;34m(*args, **kwargs)\u001b[0m\n\u001b[0;32m     67\u001b[0m     filtered_tb \u001b[39m=\u001b[39m _process_traceback_frames(e\u001b[39m.\u001b[39m__traceback__)\n\u001b[0;32m     68\u001b[0m     \u001b[39m# To get the full stack trace, call:\u001b[39;00m\n\u001b[0;32m     69\u001b[0m     \u001b[39m# `tf.debugging.disable_traceback_filtering()`\u001b[39;00m\n\u001b[1;32m---> 70\u001b[0m     \u001b[39mraise\u001b[39;00m e\u001b[39m.\u001b[39mwith_traceback(filtered_tb) \u001b[39mfrom\u001b[39;00m \u001b[39mNone\u001b[39;00m\n\u001b[0;32m     71\u001b[0m \u001b[39mfinally\u001b[39;00m:\n\u001b[0;32m     72\u001b[0m     \u001b[39mdel\u001b[39;00m filtered_tb\n",
      "File \u001b[1;32mf:\\Projects\\Micromilling_process_optimisation\\.venv\\Lib\\site-packages\\keras\\src\\layers\\core\\dense.py:148\u001b[0m, in \u001b[0;36mDense.build\u001b[1;34m(self, input_shape)\u001b[0m\n\u001b[0;32m    146\u001b[0m last_dim \u001b[39m=\u001b[39m tf\u001b[39m.\u001b[39mcompat\u001b[39m.\u001b[39mdimension_value(input_shape[\u001b[39m-\u001b[39m\u001b[39m1\u001b[39m])\n\u001b[0;32m    147\u001b[0m \u001b[39mif\u001b[39;00m last_dim \u001b[39mis\u001b[39;00m \u001b[39mNone\u001b[39;00m:\n\u001b[1;32m--> 148\u001b[0m     \u001b[39mraise\u001b[39;00m \u001b[39mValueError\u001b[39;00m(\n\u001b[0;32m    149\u001b[0m         \u001b[39m\"\u001b[39m\u001b[39mThe last dimension of the inputs to a Dense layer \u001b[39m\u001b[39m\"\u001b[39m\n\u001b[0;32m    150\u001b[0m         \u001b[39m\"\u001b[39m\u001b[39mshould be defined. Found None. \u001b[39m\u001b[39m\"\u001b[39m\n\u001b[0;32m    151\u001b[0m         \u001b[39mf\u001b[39m\u001b[39m\"\u001b[39m\u001b[39mFull input shape received: \u001b[39m\u001b[39m{\u001b[39;00minput_shape\u001b[39m}\u001b[39;00m\u001b[39m\"\u001b[39m\n\u001b[0;32m    152\u001b[0m     )\n\u001b[0;32m    153\u001b[0m \u001b[39mself\u001b[39m\u001b[39m.\u001b[39minput_spec \u001b[39m=\u001b[39m InputSpec(min_ndim\u001b[39m=\u001b[39m\u001b[39m2\u001b[39m, axes\u001b[39m=\u001b[39m{\u001b[39m-\u001b[39m\u001b[39m1\u001b[39m: last_dim})\n\u001b[0;32m    154\u001b[0m \u001b[39mself\u001b[39m\u001b[39m.\u001b[39mkernel \u001b[39m=\u001b[39m \u001b[39mself\u001b[39m\u001b[39m.\u001b[39madd_weight(\n\u001b[0;32m    155\u001b[0m     \u001b[39m\"\u001b[39m\u001b[39mkernel\u001b[39m\u001b[39m\"\u001b[39m,\n\u001b[0;32m    156\u001b[0m     shape\u001b[39m=\u001b[39m[last_dim, \u001b[39mself\u001b[39m\u001b[39m.\u001b[39munits],\n\u001b[1;32m   (...)\u001b[0m\n\u001b[0;32m    161\u001b[0m     trainable\u001b[39m=\u001b[39m\u001b[39mTrue\u001b[39;00m,\n\u001b[0;32m    162\u001b[0m )\n",
      "\u001b[1;31mValueError\u001b[0m: The last dimension of the inputs to a Dense layer should be defined. Found None. Full input shape received: (None, None)"
     ]
    }
   ],
   "source": [
    "model = keras.models.Sequential([\n",
    "    keras.layers.Flatten(input_shape=((None, 16))),\n",
    "    keras.layers.Dense(300, activation=\"relu\"),\n",
    "    keras.layers.Dense(100, activation=\"relu\"),\n",
    "    keras.layers.Dense(2)\n",
    "])\n",
    "model.compile(loss=\"mean_squared_error\", optimizer=\"adam\", metrics=[\"mae\"])"
   ]
  },
  {
   "cell_type": "code",
   "execution_count": 19,
   "metadata": {},
   "outputs": [],
   "source": [
    "model.build()"
   ]
  },
  {
   "cell_type": "code",
   "execution_count": 20,
   "metadata": {},
   "outputs": [
    {
     "name": "stdout",
     "output_type": "stream",
     "text": [
      "Model: \"sequential_5\"\n",
      "_________________________________________________________________\n",
      " Layer (type)                Output Shape              Param #   \n",
      "=================================================================\n",
      " flatten_1 (Flatten)         (None, 1376)              0         \n",
      "                                                                 \n",
      " dense_15 (Dense)            (None, 300)               413100    \n",
      "                                                                 \n",
      " dense_16 (Dense)            (None, 100)               30100     \n",
      "                                                                 \n",
      " dense_17 (Dense)            (None, 2)                 202       \n",
      "                                                                 \n",
      "=================================================================\n",
      "Total params: 443402 (1.69 MB)\n",
      "Trainable params: 443402 (1.69 MB)\n",
      "Non-trainable params: 0 (0.00 Byte)\n",
      "_________________________________________________________________\n"
     ]
    }
   ],
   "source": [
    "model.summary()"
   ]
  },
  {
   "cell_type": "code",
   "execution_count": 21,
   "metadata": {},
   "outputs": [
    {
     "name": "stdout",
     "output_type": "stream",
     "text": [
      "Epoch 1/50\n"
     ]
    },
    {
     "ename": "ValueError",
     "evalue": "in user code:\n\n    File \"f:\\Projects\\Micromilling_process_optimisation\\.venv\\Lib\\site-packages\\keras\\src\\engine\\training.py\", line 1401, in train_function  *\n        return step_function(self, iterator)\n    File \"f:\\Projects\\Micromilling_process_optimisation\\.venv\\Lib\\site-packages\\keras\\src\\engine\\training.py\", line 1384, in step_function  **\n        outputs = model.distribute_strategy.run(run_step, args=(data,))\n    File \"f:\\Projects\\Micromilling_process_optimisation\\.venv\\Lib\\site-packages\\keras\\src\\engine\\training.py\", line 1373, in run_step  **\n        outputs = model.train_step(data)\n    File \"f:\\Projects\\Micromilling_process_optimisation\\.venv\\Lib\\site-packages\\keras\\src\\engine\\training.py\", line 1150, in train_step\n        y_pred = self(x, training=True)\n    File \"f:\\Projects\\Micromilling_process_optimisation\\.venv\\Lib\\site-packages\\keras\\src\\utils\\traceback_utils.py\", line 70, in error_handler\n        raise e.with_traceback(filtered_tb) from None\n    File \"f:\\Projects\\Micromilling_process_optimisation\\.venv\\Lib\\site-packages\\keras\\src\\engine\\input_spec.py\", line 298, in assert_input_compatibility\n        raise ValueError(\n\n    ValueError: Input 0 of layer \"sequential_5\" is incompatible with the layer: expected shape=(None, 86, 16), found shape=(None, 16)\n",
     "output_type": "error",
     "traceback": [
      "\u001b[1;31m---------------------------------------------------------------------------\u001b[0m",
      "\u001b[1;31mValueError\u001b[0m                                Traceback (most recent call last)",
      "\u001b[1;32mf:\\Projects\\Micromilling_process_optimisation\\main2.ipynb Cell 13\u001b[0m line \u001b[0;36m1\n\u001b[1;32m----> <a href='vscode-notebook-cell:/f%3A/Projects/Micromilling_process_optimisation/main2.ipynb#X16sZmlsZQ%3D%3D?line=0'>1</a>\u001b[0m model\u001b[39m.\u001b[39;49mfit(X_train,y_train,epochs\u001b[39m=\u001b[39;49m\u001b[39m50\u001b[39;49m, batch_size\u001b[39m=\u001b[39;49m\u001b[39m10\u001b[39;49m, verbose\u001b[39m=\u001b[39;49m\u001b[39m1\u001b[39;49m)\n",
      "File \u001b[1;32mf:\\Projects\\Micromilling_process_optimisation\\.venv\\Lib\\site-packages\\keras\\src\\utils\\traceback_utils.py:70\u001b[0m, in \u001b[0;36mfilter_traceback.<locals>.error_handler\u001b[1;34m(*args, **kwargs)\u001b[0m\n\u001b[0;32m     67\u001b[0m     filtered_tb \u001b[39m=\u001b[39m _process_traceback_frames(e\u001b[39m.\u001b[39m__traceback__)\n\u001b[0;32m     68\u001b[0m     \u001b[39m# To get the full stack trace, call:\u001b[39;00m\n\u001b[0;32m     69\u001b[0m     \u001b[39m# `tf.debugging.disable_traceback_filtering()`\u001b[39;00m\n\u001b[1;32m---> 70\u001b[0m     \u001b[39mraise\u001b[39;00m e\u001b[39m.\u001b[39mwith_traceback(filtered_tb) \u001b[39mfrom\u001b[39;00m \u001b[39mNone\u001b[39;00m\n\u001b[0;32m     71\u001b[0m \u001b[39mfinally\u001b[39;00m:\n\u001b[0;32m     72\u001b[0m     \u001b[39mdel\u001b[39;00m filtered_tb\n",
      "File \u001b[1;32m~\\AppData\\Local\\Temp\\__autograph_generated_filenp2zgwbl.py:15\u001b[0m, in \u001b[0;36mouter_factory.<locals>.inner_factory.<locals>.tf__train_function\u001b[1;34m(iterator)\u001b[0m\n\u001b[0;32m     13\u001b[0m \u001b[39mtry\u001b[39;00m:\n\u001b[0;32m     14\u001b[0m     do_return \u001b[39m=\u001b[39m \u001b[39mTrue\u001b[39;00m\n\u001b[1;32m---> 15\u001b[0m     retval_ \u001b[39m=\u001b[39m ag__\u001b[39m.\u001b[39mconverted_call(ag__\u001b[39m.\u001b[39mld(step_function), (ag__\u001b[39m.\u001b[39mld(\u001b[39mself\u001b[39m), ag__\u001b[39m.\u001b[39mld(iterator)), \u001b[39mNone\u001b[39;00m, fscope)\n\u001b[0;32m     16\u001b[0m \u001b[39mexcept\u001b[39;00m:\n\u001b[0;32m     17\u001b[0m     do_return \u001b[39m=\u001b[39m \u001b[39mFalse\u001b[39;00m\n",
      "\u001b[1;31mValueError\u001b[0m: in user code:\n\n    File \"f:\\Projects\\Micromilling_process_optimisation\\.venv\\Lib\\site-packages\\keras\\src\\engine\\training.py\", line 1401, in train_function  *\n        return step_function(self, iterator)\n    File \"f:\\Projects\\Micromilling_process_optimisation\\.venv\\Lib\\site-packages\\keras\\src\\engine\\training.py\", line 1384, in step_function  **\n        outputs = model.distribute_strategy.run(run_step, args=(data,))\n    File \"f:\\Projects\\Micromilling_process_optimisation\\.venv\\Lib\\site-packages\\keras\\src\\engine\\training.py\", line 1373, in run_step  **\n        outputs = model.train_step(data)\n    File \"f:\\Projects\\Micromilling_process_optimisation\\.venv\\Lib\\site-packages\\keras\\src\\engine\\training.py\", line 1150, in train_step\n        y_pred = self(x, training=True)\n    File \"f:\\Projects\\Micromilling_process_optimisation\\.venv\\Lib\\site-packages\\keras\\src\\utils\\traceback_utils.py\", line 70, in error_handler\n        raise e.with_traceback(filtered_tb) from None\n    File \"f:\\Projects\\Micromilling_process_optimisation\\.venv\\Lib\\site-packages\\keras\\src\\engine\\input_spec.py\", line 298, in assert_input_compatibility\n        raise ValueError(\n\n    ValueError: Input 0 of layer \"sequential_5\" is incompatible with the layer: expected shape=(None, 86, 16), found shape=(None, 16)\n"
     ]
    }
   ],
   "source": [
    "model.fit(X_train,y_train,epochs=50, batch_size=10, verbose=1)"
   ]
  },
  {
   "cell_type": "code",
   "execution_count": null,
   "metadata": {},
   "outputs": [],
   "source": []
  }
 ],
 "metadata": {
  "kernelspec": {
   "display_name": ".venv",
   "language": "python",
   "name": "python3"
  },
  "language_info": {
   "codemirror_mode": {
    "name": "ipython",
    "version": 3
   },
   "file_extension": ".py",
   "mimetype": "text/x-python",
   "name": "python",
   "nbconvert_exporter": "python",
   "pygments_lexer": "ipython3",
   "version": "3.11.5"
  }
 },
 "nbformat": 4,
 "nbformat_minor": 2
}
